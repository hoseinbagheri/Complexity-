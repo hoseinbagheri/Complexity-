{
 "cells": [
  {
   "cell_type": "markdown",
   "id": "1719788b-ee91-44ac-ba83-2f7bea9049ae",
   "metadata": {},
   "source": [
    "## Economic complexity codes\n",
    "\n",
    "\n",
    "-   Introduction to trade data\n",
    "\n",
    "-   Calculating RCAs, co-occurences and proximities (trade + patent data)\n",
    "\n",
    "-   Product space visualization\n",
    "\n",
    "-   Calculating Product Complexity / Economic Complexity (by destination)\n",
    "\n"
   ]
  },
  {
   "cell_type": "markdown",
   "id": "f3cee602-f938-44f6-bca5-8254a91319ce",
   "metadata": {
    "tags": [],
    "toc-hr-collapsed": true
   },
   "source": [
    "## Trade data"
   ]
  },
  {
   "cell_type": "markdown",
   "id": "198c308c-3a24-4271-9077-ffd9d2e39d66",
   "metadata": {
    "tags": []
   },
   "source": [
    "### Background\n",
    "\n",
    "\n",
    "\n",
    "The product space is, as well as its derivations / related measures such as economic complexity and the Growth&rsquo;s annual rankings of countries by economic complexity (at [https://atlas.cid.harvard.edu](https://atlas.cid.harvard.edu)), are based on trade data between countries.\n",
    "\n",
    "The Growth Lab maintains and periodically updates a cleaned version of trade data at Harvard Dataverse:\n",
    "\n",
    "[https://dataverse.harvard.edu/dataverse/atlas](https://dataverse.harvard.edu/dataverse/atlas)\n",
    "\n",
    "This dataset contains bilateral trade data among 235 countries and territories in thousands of different products categories (a description of the data can be found at: [http://atlas.cid.harvard.edu/downloads](http://atlas.cid.harvard.edu/downloads)).\n",
    "\n",
    "How does the data look like? We will explore the data in Python using the &rsquo;pandas&rsquo; (most popular Python package for data analysis)."
   ]
  },
  {
   "cell_type": "markdown",
   "id": "81e442be-134d-47f5-a511-4e1d0270faae",
   "metadata": {
    "tags": []
   },
   "source": [
    "#### Footnote on trade and services (ICT, tourism, etc.):\n",
    "\n",
    "\n",
    "\n",
    "-   Services and tourism are included in the Growth Lab&rsquo;s Atlas and trade data as well as of September 2018. See announcement at:\n",
    "\n",
    "[https://atlas.cid.harvard.edu/announcements/2018/services-press-release](https://atlas.cid.harvard.edu/announcements/2018/services-press-release)\n",
    "\n",
    "Obtained from IMF, trade in services covers four categories of economic activities between producers and consumers across borders:\n",
    "\n",
    "-   services supplied from one country to another (e.g. call centers)\n",
    "-   consumption in other countries (e.g. international tourism)\n",
    "-   firms with branches in other countries (e.g. bank branches overseas)\n",
    "-   individuals supplying services in another country (e.g. IT consultant abroad)"
   ]
  },
  {
   "cell_type": "markdown",
   "id": "8a096634-9532-41c6-a7db-91c173f641be",
   "metadata": {},
   "source": [
    "### Load necessary Python libraries"
   ]
  },
  {
   "cell_type": "code",
   "execution_count": null,
   "id": "b20bd4fa-9ddd-4b44-9c97-e1bae8add61b",
   "metadata": {},
   "outputs": [
    {
     "name": "stdout",
     "output_type": "stream",
     "text": [
      "Collecting geopandas\n",
      "  Using cached geopandas-0.11.0-py3-none-any.whl (1.0 MB)\n",
      "Collecting packaging\n",
      "  Using cached packaging-21.3-py3-none-any.whl (40 kB)\n",
      "Collecting pyproj>=2.6.1.post1\n",
      "  Using cached pyproj-3.3.1-cp38-cp38-manylinux_2_17_x86_64.manylinux2014_x86_64.whl (7.7 MB)\n",
      "Collecting fiona>=1.8\n",
      "  Using cached Fiona-1.8.21-cp38-cp38-manylinux_2_17_x86_64.manylinux2014_x86_64.whl (16.6 MB)\n",
      "Collecting shapely<2,>=1.7\n",
      "  Using cached Shapely-1.8.2-cp38-cp38-manylinux_2_12_x86_64.manylinux2010_x86_64.whl (2.1 MB)\n",
      "Collecting pandas>=1.0.0\n",
      "  Using cached pandas-1.4.3-cp38-cp38-manylinux_2_17_x86_64.manylinux2014_x86_64.whl (11.7 MB)\n",
      "Collecting certifi\n",
      "  Using cached certifi-2022.6.15-py3-none-any.whl (160 kB)\n",
      "Collecting setuptools\n",
      "  Using cached setuptools-62.6.0-py3-none-any.whl (1.2 MB)\n",
      "Collecting six>=1.7\n",
      "  Using cached six-1.16.0-py2.py3-none-any.whl (11 kB)\n",
      "Collecting click-plugins>=1.0\n",
      "  Using cached click_plugins-1.1.1-py2.py3-none-any.whl (7.5 kB)\n",
      "Collecting munch\n",
      "  Using cached munch-2.5.0-py2.py3-none-any.whl (10 kB)\n",
      "Collecting click>=4.0\n",
      "  Using cached click-8.1.3-py3-none-any.whl (96 kB)\n",
      "Collecting attrs>=17\n",
      "  Using cached attrs-21.4.0-py2.py3-none-any.whl (60 kB)\n",
      "Collecting cligj>=0.5\n",
      "  Using cached cligj-0.7.2-py3-none-any.whl (7.1 kB)\n",
      "Collecting numpy>=1.18.5\n",
      "  Using cached numpy-1.23.0-cp38-cp38-manylinux_2_17_x86_64.manylinux2014_x86_64.whl (17.1 MB)\n",
      "Collecting python-dateutil>=2.8.1\n",
      "  Using cached python_dateutil-2.8.2-py2.py3-none-any.whl (247 kB)\n",
      "Collecting pytz>=2020.1\n",
      "  Using cached pytz-2022.1-py2.py3-none-any.whl (503 kB)\n",
      "Collecting pyparsing!=3.0.5,>=2.0.2\n",
      "  Using cached pyparsing-3.0.9-py3-none-any.whl (98 kB)\n",
      "Installing collected packages: six, click, setuptools, pytz, python-dateutil, pyparsing, numpy, munch, cligj, click-plugins, certifi, attrs, shapely, pyproj, pandas, packaging, fiona, geopandas\n",
      "\u001b[31mERROR: pip's dependency resolver does not currently take into account all the packages that are installed. This behaviour is the source of the following dependency conflicts.\n",
      "redshift-connector 2.0.900 requires pytz<2021.9,>=2020.1, but you have pytz 2022.1 which is incompatible.\n",
      "pythonwhat 2.23.1 requires dill~=0.2.7.1, but you have dill 0.3.3 which is incompatible.\n",
      "pythonwhat 2.23.1 requires jinja2~=2.10, but you have jinja2 3.0.1 which is incompatible.\u001b[0m\n",
      "Successfully installed attrs-21.4.0 certifi-2022.6.15 click-8.1.3 click-plugins-1.1.1 cligj-0.7.2 fiona-1.8.21 geopandas-0.11.0 munch-2.5.0 numpy-1.23.0 packaging-21.3 pandas-1.4.3 pyparsing-3.0.9 pyproj-3.3.1 python-dateutil-2.8.2 pytz-2022.1 setuptools-62.6.0 shapely-1.8.2 six-1.16.0\n",
      "\u001b[33mWARNING: Target directory /home/repl/.local/lib/python3.8/site-packages/six.py already exists. Specify --upgrade to force replacement.\u001b[0m\n",
      "\u001b[33mWARNING: Target directory /home/repl/.local/lib/python3.8/site-packages/six-1.16.0.dist-info already exists. Specify --upgrade to force replacement.\u001b[0m\n",
      "\u001b[33mWARNING: Target directory /home/repl/.local/lib/python3.8/site-packages/__pycache__ already exists. Specify --upgrade to force replacement.\u001b[0m\n",
      "\u001b[33mWARNING: Target directory /home/repl/.local/lib/python3.8/site-packages/click already exists. Specify --upgrade to force replacement.\u001b[0m\n",
      "\u001b[33mWARNING: Target directory /home/repl/.local/lib/python3.8/site-packages/click-8.1.3.dist-info already exists. Specify --upgrade to force replacement.\u001b[0m\n",
      "\u001b[33mWARNING: Target directory /home/repl/.local/lib/python3.8/site-packages/distutils-precedence.pth already exists. Specify --upgrade to force replacement.\u001b[0m\n",
      "\u001b[33mWARNING: Target directory /home/repl/.local/lib/python3.8/site-packages/_distutils_hack already exists. Specify --upgrade to force replacement.\u001b[0m\n",
      "\u001b[33mWARNING: Target directory /home/repl/.local/lib/python3.8/site-packages/pkg_resources already exists. Specify --upgrade to force replacement.\u001b[0m\n",
      "\u001b[33mWARNING: Target directory /home/repl/.local/lib/python3.8/site-packages/setuptools already exists. Specify --upgrade to force replacement.\u001b[0m\n",
      "\u001b[33mWARNING: Target directory /home/repl/.local/lib/python3.8/site-packages/setuptools-62.6.0.dist-info already exists. Specify --upgrade to force replacement.\u001b[0m\n",
      "\u001b[33mWARNING: Target directory /home/repl/.local/lib/python3.8/site-packages/pytz already exists. Specify --upgrade to force replacement.\u001b[0m\n",
      "\u001b[33mWARNING: Target directory /home/repl/.local/lib/python3.8/site-packages/pytz-2022.1.dist-info already exists. Specify --upgrade to force replacement.\u001b[0m\n",
      "\u001b[33mWARNING: Target directory /home/repl/.local/lib/python3.8/site-packages/dateutil already exists. Specify --upgrade to force replacement.\u001b[0m\n",
      "\u001b[33mWARNING: Target directory /home/repl/.local/lib/python3.8/site-packages/python_dateutil-2.8.2.dist-info already exists. Specify --upgrade to force replacement.\u001b[0m\n",
      "\u001b[33mWARNING: Target directory /home/repl/.local/lib/python3.8/site-packages/pyparsing already exists. Specify --upgrade to force replacement.\u001b[0m\n",
      "\u001b[33mWARNING: Target directory /home/repl/.local/lib/python3.8/site-packages/pyparsing-3.0.9.dist-info already exists. Specify --upgrade to force replacement.\u001b[0m\n",
      "\u001b[33mWARNING: Target directory /home/repl/.local/lib/python3.8/site-packages/numpy.libs already exists. Specify --upgrade to force replacement.\u001b[0m\n",
      "\u001b[33mWARNING: Target directory /home/repl/.local/lib/python3.8/site-packages/numpy already exists. Specify --upgrade to force replacement.\u001b[0m\n",
      "\u001b[33mWARNING: Target directory /home/repl/.local/lib/python3.8/site-packages/numpy-1.23.0.dist-info already exists. Specify --upgrade to force replacement.\u001b[0m\n",
      "\u001b[33mWARNING: Target directory /home/repl/.local/lib/python3.8/site-packages/munch already exists. Specify --upgrade to force replacement.\u001b[0m\n",
      "\u001b[33mWARNING: Target directory /home/repl/.local/lib/python3.8/site-packages/munch-2.5.0.dist-info already exists. Specify --upgrade to force replacement.\u001b[0m\n",
      "\u001b[33mWARNING: Target directory /home/repl/.local/lib/python3.8/site-packages/cligj already exists. Specify --upgrade to force replacement.\u001b[0m\n",
      "\u001b[33mWARNING: Target directory /home/repl/.local/lib/python3.8/site-packages/cligj-0.7.2.dist-info already exists. Specify --upgrade to force replacement.\u001b[0m\n",
      "\u001b[33mWARNING: Target directory /home/repl/.local/lib/python3.8/site-packages/click_plugins already exists. Specify --upgrade to force replacement.\u001b[0m\n",
      "\u001b[33mWARNING: Target directory /home/repl/.local/lib/python3.8/site-packages/click_plugins-1.1.1.dist-info already exists. Specify --upgrade to force replacement.\u001b[0m\n",
      "\u001b[33mWARNING: Target directory /home/repl/.local/lib/python3.8/site-packages/certifi already exists. Specify --upgrade to force replacement.\u001b[0m\n",
      "\u001b[33mWARNING: Target directory /home/repl/.local/lib/python3.8/site-packages/certifi-2022.6.15.dist-info already exists. Specify --upgrade to force replacement.\u001b[0m\n",
      "\u001b[33mWARNING: Target directory /home/repl/.local/lib/python3.8/site-packages/attr already exists. Specify --upgrade to force replacement.\u001b[0m\n",
      "\u001b[33mWARNING: Target directory /home/repl/.local/lib/python3.8/site-packages/attrs already exists. Specify --upgrade to force replacement.\u001b[0m\n",
      "\u001b[33mWARNING: Target directory /home/repl/.local/lib/python3.8/site-packages/attrs-21.4.0.dist-info already exists. Specify --upgrade to force replacement.\u001b[0m\n",
      "\u001b[33mWARNING: Target directory /home/repl/.local/lib/python3.8/site-packages/shapely already exists. Specify --upgrade to force replacement.\u001b[0m\n",
      "\u001b[33mWARNING: Target directory /home/repl/.local/lib/python3.8/site-packages/Shapely-1.8.2.dist-info already exists. Specify --upgrade to force replacement.\u001b[0m\n",
      "\u001b[33mWARNING: Target directory /home/repl/.local/lib/python3.8/site-packages/Shapely.libs already exists. Specify --upgrade to force replacement.\u001b[0m\n",
      "\u001b[33mWARNING: Target directory /home/repl/.local/lib/python3.8/site-packages/pyproj.libs already exists. Specify --upgrade to force replacement.\u001b[0m\n",
      "\u001b[33mWARNING: Target directory /home/repl/.local/lib/python3.8/site-packages/pyproj-3.3.1.dist-info already exists. Specify --upgrade to force replacement.\u001b[0m\n",
      "\u001b[33mWARNING: Target directory /home/repl/.local/lib/python3.8/site-packages/pyproj already exists. Specify --upgrade to force replacement.\u001b[0m\n",
      "\u001b[33mWARNING: Target directory /home/repl/.local/lib/python3.8/site-packages/pandas-1.4.3.dist-info already exists. Specify --upgrade to force replacement.\u001b[0m\n",
      "\u001b[33mWARNING: Target directory /home/repl/.local/lib/python3.8/site-packages/pandas already exists. Specify --upgrade to force replacement.\u001b[0m\n",
      "\u001b[33mWARNING: Target directory /home/repl/.local/lib/python3.8/site-packages/packaging already exists. Specify --upgrade to force replacement.\u001b[0m\n",
      "\u001b[33mWARNING: Target directory /home/repl/.local/lib/python3.8/site-packages/packaging-21.3.dist-info already exists. Specify --upgrade to force replacement.\u001b[0m\n",
      "\u001b[33mWARNING: Target directory /home/repl/.local/lib/python3.8/site-packages/Fiona.libs already exists. Specify --upgrade to force replacement.\u001b[0m\n",
      "\u001b[33mWARNING: Target directory /home/repl/.local/lib/python3.8/site-packages/fiona already exists. Specify --upgrade to force replacement.\u001b[0m\n",
      "\u001b[33mWARNING: Target directory /home/repl/.local/lib/python3.8/site-packages/Fiona-1.8.21.dist-info already exists. Specify --upgrade to force replacement.\u001b[0m\n",
      "\u001b[33mWARNING: Target directory /home/repl/.local/lib/python3.8/site-packages/geopandas already exists. Specify --upgrade to force replacement.\u001b[0m\n",
      "\u001b[33mWARNING: Target directory /home/repl/.local/lib/python3.8/site-packages/geopandas-0.11.0.dist-info already exists. Specify --upgrade to force replacement.\u001b[0m\n",
      "\u001b[33mWARNING: Target directory /home/repl/.local/lib/python3.8/site-packages/bin already exists. Specify --upgrade to force replacement.\u001b[0m\n",
      "\u001b[33mWARNING: You are using pip version 21.3.1; however, version 22.1.2 is available.\n",
      "You should consider upgrading via the '/usr/bin/python3 -m pip install --upgrade pip' command.\u001b[0m\n",
      "necessary libraries loaded\n"
     ]
    }
   ],
   "source": [
    "# -- Global settings\n",
    "# - import python libraries necessary for this workshop\n",
    "# suppress warnings on google colab for now\n",
    "import warnings\n",
    "warnings.filterwarnings(\"ignore\")\n",
    "# to interact with os, e.g. to execute shell comands such as 'ls', 'pwd' etc.\n",
    "import os\n",
    "# to do data processing\n",
    "import pandas as pd\n",
    "# backend of pandas, working with matrices\n",
    "import numpy as np\n",
    "# to visualize data (in pandas)\n",
    "import matplotlib.pyplot as plt\n",
    "import matplotlib.colors as colors\n",
    "from matplotlib import cm\n",
    "# to process a json file\n",
    "import json\n",
    "# work with regex in python\n",
    "import re\n",
    "# work with networks in python, to create product space\n",
    "import networkx as nx\n",
    "# python tools to work with combinations of arrays\n",
    "from itertools import count\n",
    "from itertools import combinations\n",
    "from itertools import product\n",
    "# to run regressions\n",
    "import statsmodels.api as sm\n",
    "# to download files\n",
    "import urllib.request, json\n",
    "# to plot data on maps\n",
    "# pip install is needed on Google Colab\n",
    "!pip3 install geopandas\n",
    "import geopandas\n",
    "# -- set scientific notation to display numbers fully rather than exponential\n",
    "pd.set_option('display.float_format', '{:.2f}'.format)\n",
    "from IPython.core.interactiveshell import InteractiveShell\n",
    "InteractiveShell.ast_node_interactivity = 'all' # Show all results of jupyter\n",
    "import seaborn as sns\n",
    "sns.set_style('whitegrid') # Display grids on dark background\n",
    "# Enlarged pandas display - more colums and rows with greater width\n",
    "pd.set_option('display.max_columns', 500)\n",
    "pd.set_option('display.width', 100000)\n",
    "pd.set_option('display.max_rows', 500)\n",
    "pd.set_option('display.max_colwidth',300)\n",
    "print('necessary libraries loaded')"
   ]
  },
  {
   "cell_type": "markdown",
   "id": "9ffe56c4-ffff-4dff-bdca-6f8f68f48840",
   "metadata": {},
   "source": [
    "### Download trade dataset and load into memory"
   ]
  },
  {
   "cell_type": "markdown",
   "id": "6c1993e2-94eb-4c30-a728-e10e88cc2ced",
   "metadata": {},
   "source": [
    "Our $X_{cpt}$ matrix."
   ]
  },
  {
   "cell_type": "code",
   "execution_count": 2,
   "id": "ea8dbff9-35c1-452d-b039-c06b9a30c873",
   "metadata": {},
   "outputs": [
    {
     "name": "stdout",
     "output_type": "stream",
     "text": [
      "Downloading data and loading into memory\n",
      "trade dataset 'df_orig' ready\n"
     ]
    }
   ],
   "source": [
    "# Load the necessary data into pandas\n",
    "\n",
    "# In pandas terminilogy this is called a 'dataframe' (df)\n",
    "product_classification = 'hs' # Harmonized System 1992; alternative is 'SITC - Standard Industrial Trade Classification'\n",
    "\n",
    "N_digits = '4' # alternative is 2 or 6, the higher the more detailed product info\n",
    "\n",
    "# Trade data: we're using s3 storage from Amazon here because we can directly download the data into pandas in Google Colab but this is no longer maintained by the Growth Lab - rather download from Dataverse.\n",
    "\n",
    "data_url = f\"https://intl-atlas-downloads.s3.amazonaws.com/country_{product_classification}product{N_digits}digit_year.csv.zip\"\n",
    "print('Downloading data and loading into memory')\n",
    "df_orig = pd.read_csv(data_url, compression=\"zip\", low_memory=False)\n",
    "\n",
    "# Fix product label strings ('hs_product_name_short_en'): some products with different product codes erronuously have the same strings - remove these duplicates\n",
    "# (e.g. product codes 5209 and 5211 in Zimbabwe have same product string)\n",
    "# -- download original UN classification\n",
    "with urllib.request.urlopen(\"https://comtrade.un.org/data/cache/classificationH0.json\") as url:\n",
    "    hs1992_json = json.loads(url.read())\n",
    "dft = pd.DataFrame.from_dict(hs1992_json['results'])[['text']]\n",
    "dft['hs_product_code'] = dft['text'].str.split('-').str[0].str.strip()\n",
    "dft['hs_product_name_short_en'] = dft['text'].str.split('-',1).str[1].str.strip()\n",
    "dft['N_dig'] = dft['hs_product_code'].str.len()\n",
    "dft2 = dft[dft['N_dig']==int(N_digits)].copy()\n",
    "df_orig = pd.merge(df_orig,dft2[['hs_product_code','hs_product_name_short_en']],how='left',on=f'hs_product_code') # unmerged are services (obtained from IMF)\n",
    "# -- replace product name now with downloaded strings (if not missing in either)\n",
    "df_orig['hs_product_name_short_en_new'] = df_orig['hs_product_name_short_en_x']\n",
    "df_orig.loc[ df_orig['hs_product_name_short_en_y'].notnull(),'hs_product_name_short_en_new'] = df_orig['hs_product_name_short_en_y']\n",
    "df_orig.drop(['hs_product_name_short_en_x'],axis=1,inplace=True,errors='ignore')\n",
    "df_orig.drop(['hs_product_name_short_en_y'],axis=1,inplace=True,errors='ignore')\n",
    "df_orig.rename(columns={f'hs_product_name_short_en_new':f'hs_product_name_short_en'}, inplace=True)\n",
    "\n",
    "# Cross check that each row is a unique year-location-product entry\n",
    "df_orig['count'] = 1\n",
    "df_orig['sum'] = df_orig.groupby(['year','location_name_short_en','hs_product_name_short_en'])['count'].transform('sum')\n",
    "if df_orig['sum'].max() != 1:\n",
    "    print(f'duplicates found, stopping')\n",
    "    stop\n",
    "\n",
    "# rename variable names for convenience\n",
    "df_orig.rename(columns={f'location_name_short_en':f'country_name'}, inplace=True)\n",
    "df_orig.rename(columns={f'location_code':f'country_code'}, inplace=True)\n",
    "df_orig.rename(columns={f'hs_product_code':f'product_code'}, inplace=True)\n",
    "df_orig.rename(columns={f'hs_product_name_short_en':f'product_name'}, inplace=True)\n",
    "\n",
    "# Keep only relevant columns\n",
    "df_orig = df_orig[['year',\n",
    "         'country_code',\n",
    "         'country_name',\n",
    "         'product_code',\n",
    "         'product_name',\n",
    "         'export_value']]\n",
    "\n",
    "print('trade dataset \\'df_orig\\' ready')"
   ]
  },
  {
   "cell_type": "markdown",
   "id": "ca6f3a69-a5af-415d-a65f-bd374b1857d0",
   "metadata": {},
   "source": [
    "### Exploring the trade data"
   ]
  },
  {
   "cell_type": "markdown",
   "id": "8c8541a7-5a57-4d4f-a69f-487fb26afa39",
   "metadata": {},
   "source": [
    "#### Structure of dataset"
   ]
  },
  {
   "cell_type": "code",
   "execution_count": 3,
   "id": "469f4a5d-aa76-439a-acea-0a18df299c6f",
   "metadata": {},
   "outputs": [
    {
     "data": {
      "application/com.datacamp.data-table.v1+json": {
       "is_truncated": false,
       "table": {
        "data": [
         {
          "country_code": "SGP",
          "country_name": "Singapore",
          "export_value": 5658255,
          "index": 3461516,
          "product_code": "6107",
          "product_name": "Underpants, briefs, nightshirts, pyjamas, bathrobes, dressing gowns and similar articles; men's or boys', knitted or crocheted",
          "year": 1999
         },
         {
          "country_code": "LBR",
          "country_name": "Liberia",
          "export_value": 51103456,
          "index": 2568744,
          "product_code": "4403",
          "product_name": "Wood in the rough, whether or not stripped of bark or sapwood, or roughly squared",
          "year": 2013
         },
         {
          "country_code": "DNK",
          "country_name": "Denmark",
          "export_value": 1573574,
          "index": 4541981,
          "product_code": "7609",
          "product_name": "Aluminium; tube or pipe fittings (eg couplings, elbows, sleeves)",
          "year": 2015
         },
         {
          "country_code": "COM",
          "country_name": "Comoros",
          "export_value": 0,
          "index": 1846952,
          "product_code": "3101",
          "product_name": "Fertilizers; animal or vegetable, whether or not mixed together or chemically treated; fertilizers produced by the mixing or chemical treatment of animal or vegetable products",
          "year": 2009
         },
         {
          "country_code": "PNG",
          "country_name": "Papua New Guinea",
          "export_value": 4421,
          "index": 3536789,
          "product_code": "6205",
          "product_name": "Shirts; men's or boys' (not knitted or crocheted)",
          "year": 2015
         }
        ],
        "schema": {
         "fields": [
          {
           "name": "index",
           "type": "integer"
          },
          {
           "name": "year",
           "type": "integer"
          },
          {
           "name": "country_code",
           "type": "string"
          },
          {
           "name": "country_name",
           "type": "string"
          },
          {
           "name": "product_code",
           "type": "string"
          },
          {
           "name": "product_name",
           "type": "string"
          },
          {
           "name": "export_value",
           "type": "number"
          }
         ],
         "pandas_version": "1.4.0",
         "primaryKey": [
          "index"
         ]
        }
       },
       "total_rows": 5
      },
      "text/html": [
       "<div>\n",
       "<style scoped>\n",
       "    .dataframe tbody tr th:only-of-type {\n",
       "        vertical-align: middle;\n",
       "    }\n",
       "\n",
       "    .dataframe tbody tr th {\n",
       "        vertical-align: top;\n",
       "    }\n",
       "\n",
       "    .dataframe thead th {\n",
       "        text-align: right;\n",
       "    }\n",
       "</style>\n",
       "<table border=\"1\" class=\"dataframe\">\n",
       "  <thead>\n",
       "    <tr style=\"text-align: right;\">\n",
       "      <th></th>\n",
       "      <th>year</th>\n",
       "      <th>country_code</th>\n",
       "      <th>country_name</th>\n",
       "      <th>product_code</th>\n",
       "      <th>product_name</th>\n",
       "      <th>export_value</th>\n",
       "    </tr>\n",
       "  </thead>\n",
       "  <tbody>\n",
       "    <tr>\n",
       "      <th>3461516</th>\n",
       "      <td>1999</td>\n",
       "      <td>SGP</td>\n",
       "      <td>Singapore</td>\n",
       "      <td>6107</td>\n",
       "      <td>Underpants, briefs, nightshirts, pyjamas, bathrobes, dressing gowns and similar articles; men's or boys', knitted or crocheted</td>\n",
       "      <td>5658255.00</td>\n",
       "    </tr>\n",
       "    <tr>\n",
       "      <th>2568744</th>\n",
       "      <td>2013</td>\n",
       "      <td>LBR</td>\n",
       "      <td>Liberia</td>\n",
       "      <td>4403</td>\n",
       "      <td>Wood in the rough, whether or not stripped of bark or sapwood, or roughly squared</td>\n",
       "      <td>51103456.00</td>\n",
       "    </tr>\n",
       "    <tr>\n",
       "      <th>4541981</th>\n",
       "      <td>2015</td>\n",
       "      <td>DNK</td>\n",
       "      <td>Denmark</td>\n",
       "      <td>7609</td>\n",
       "      <td>Aluminium; tube or pipe fittings (eg couplings, elbows, sleeves)</td>\n",
       "      <td>1573574.00</td>\n",
       "    </tr>\n",
       "    <tr>\n",
       "      <th>1846952</th>\n",
       "      <td>2009</td>\n",
       "      <td>COM</td>\n",
       "      <td>Comoros</td>\n",
       "      <td>3101</td>\n",
       "      <td>Fertilizers; animal or vegetable, whether or not mixed together or chemically treated; fertilizers produced by the mixing or chemical treatment of animal or vegetable products</td>\n",
       "      <td>0.00</td>\n",
       "    </tr>\n",
       "    <tr>\n",
       "      <th>3536789</th>\n",
       "      <td>2015</td>\n",
       "      <td>PNG</td>\n",
       "      <td>Papua New Guinea</td>\n",
       "      <td>6205</td>\n",
       "      <td>Shirts; men's or boys' (not knitted or crocheted)</td>\n",
       "      <td>4421.00</td>\n",
       "    </tr>\n",
       "  </tbody>\n",
       "</table>\n",
       "</div>"
      ],
      "text/plain": [
       "         year country_code      country_name product_code                                                                                                                                                                     product_name  export_value\n",
       "3461516  1999          SGP         Singapore         6107                                                   Underpants, briefs, nightshirts, pyjamas, bathrobes, dressing gowns and similar articles; men's or boys', knitted or crocheted    5658255.00\n",
       "2568744  2013          LBR           Liberia         4403                                                                                                Wood in the rough, whether or not stripped of bark or sapwood, or roughly squared   51103456.00\n",
       "4541981  2015          DNK           Denmark         7609                                                                                                                 Aluminium; tube or pipe fittings (eg couplings, elbows, sleeves)    1573574.00\n",
       "1846952  2009          COM           Comoros         3101  Fertilizers; animal or vegetable, whether or not mixed together or chemically treated; fertilizers produced by the mixing or chemical treatment of animal or vegetable products          0.00\n",
       "3536789  2015          PNG  Papua New Guinea         6205                                                                                                                                Shirts; men's or boys' (not knitted or crocheted)       4421.00"
      ]
     },
     "execution_count": 3,
     "metadata": {},
     "output_type": "execute_result"
    }
   ],
   "source": [
    "# show 5 random rows\n",
    "df_orig.sample(n=5)"
   ]
  },
  {
   "cell_type": "markdown",
   "id": "fae4b60a-d573-4df6-9e59-b18a9185f8c0",
   "metadata": {},
   "source": [
    "#### What years are in the data?"
   ]
  },
  {
   "cell_type": "code",
   "execution_count": 4,
   "id": "2c1997b4-d047-4c42-b559-c9f40ab4bdfe",
   "metadata": {},
   "outputs": [
    {
     "data": {
      "text/plain": [
       "array([1995, 1996, 1997, 1998, 1999, 2000, 2001, 2002, 2003, 2004, 2005,\n",
       "       2006, 2007, 2008, 2009, 2010, 2011, 2012, 2013, 2014, 2015, 2016])"
      ]
     },
     "execution_count": 4,
     "metadata": {},
     "output_type": "execute_result"
    }
   ],
   "source": [
    "df_orig['year'].unique()"
   ]
  },
  {
   "cell_type": "markdown",
   "id": "bcd01504-f3d5-4d5d-86ae-ef3da6a14f0c",
   "metadata": {},
   "source": [
    "#### How many products are in the data?"
   ]
  },
  {
   "cell_type": "code",
   "execution_count": 5,
   "id": "6d8b4c09-6e96-4c22-b9eb-3e0735b25c93",
   "metadata": {},
   "outputs": [
    {
     "data": {
      "text/plain": [
       "1248"
      ]
     },
     "execution_count": 5,
     "metadata": {},
     "output_type": "execute_result"
    }
   ],
   "source": [
    "df_orig['product_name'].nunique()"
   ]
  },
  {
   "cell_type": "markdown",
   "id": "c9d69065-d71d-47fa-a88f-b705487ecb5f",
   "metadata": {},
   "source": [
    "#### Finding specific countries / products based on partial string matching"
   ]
  },
  {
   "cell_type": "markdown",
   "id": "4cfa2308-1496-4aee-9726-7bc6b1b4ad6b",
   "metadata": {},
   "source": [
    "If you&rsquo;re interested in finding data on certain countries / products but not sure how exactly these are spelled in the data (or are spelled with / without e.g. capital letters)."
   ]
  },
  {
   "cell_type": "code",
   "execution_count": 6,
   "id": "71851bdf-b0a8-4391-8baf-391739d2a343",
   "metadata": {},
   "outputs": [
    {
     "data": {
      "application/com.datacamp.data-table.v1+json": {
       "is_truncated": false,
       "table": {
        "data": [
         {
          "country_name": "Netherlands Antilles",
          "index": 132
         },
         {
          "country_name": "Netherlands",
          "index": 3143
         }
        ],
        "schema": {
         "fields": [
          {
           "name": "index",
           "type": "integer"
          },
          {
           "name": "country_name",
           "type": "string"
          }
         ],
         "pandas_version": "1.4.0",
         "primaryKey": [
          "index"
         ]
        }
       },
       "total_rows": 2
      },
      "text/html": [
       "<div>\n",
       "<style scoped>\n",
       "    .dataframe tbody tr th:only-of-type {\n",
       "        vertical-align: middle;\n",
       "    }\n",
       "\n",
       "    .dataframe tbody tr th {\n",
       "        vertical-align: top;\n",
       "    }\n",
       "\n",
       "    .dataframe thead th {\n",
       "        text-align: right;\n",
       "    }\n",
       "</style>\n",
       "<table border=\"1\" class=\"dataframe\">\n",
       "  <thead>\n",
       "    <tr style=\"text-align: right;\">\n",
       "      <th></th>\n",
       "      <th>country_name</th>\n",
       "    </tr>\n",
       "  </thead>\n",
       "  <tbody>\n",
       "    <tr>\n",
       "      <th>132</th>\n",
       "      <td>Netherlands Antilles</td>\n",
       "    </tr>\n",
       "    <tr>\n",
       "      <th>3143</th>\n",
       "      <td>Netherlands</td>\n",
       "    </tr>\n",
       "  </tbody>\n",
       "</table>\n",
       "</div>"
      ],
      "text/plain": [
       "              country_name\n",
       "132   Netherlands Antilles\n",
       "3143           Netherlands"
      ]
     },
     "execution_count": 6,
     "metadata": {},
     "output_type": "execute_result"
    },
    {
     "data": {
      "application/com.datacamp.data-table.v1+json": {
       "is_truncated": false,
       "table": {
        "data": [
         {
          "index": 10074,
          "product_name": "Swine; live"
         },
         {
          "index": 40293,
          "product_name": "Meat of swine; fresh, chilled or frozen"
         },
         {
          "index": 55402,
          "product_name": "Edible offal of bovine animals, swine, sheep, goats, horses, asses, mules or hinnies; fresh, chilled or frozen"
         },
         {
          "index": 921288,
          "product_name": "Wine of fresh grapes, including fortified wines; grape must other than that of heading no. 2009"
         },
         {
          "index": 926325,
          "product_name": "Vermouth and other wine of fresh grapes, flavoured with plants or aromatic substances"
         },
         {
          "index": 981731,
          "product_name": "Wine lees; argol"
         },
         {
          "index": 3266401,
          "product_name": "Twine, cordage, ropes and cables, whether or not plaited or braided; whether or not impregnated, coated, covered or sheathed with rubber or plastics"
         },
         {
          "index": 3271438,
          "product_name": "Twine, cordage or rope; knotted netting, made up fishing nets and other made up nets, of textile materials"
         },
         {
          "index": 3276475,
          "product_name": "Articles of yarn, strip or the like of heading no. 5404 or 5405; twine, cordage, rope or cables n.e.s. or included"
         },
         {
          "index": 3644176,
          "product_name": "Rags; used or new, scrap twine, cordage, rope and cables and worn out articles of twine, cordage, rope or cables, of textile materials"
         },
         {
          "index": 5049490,
          "product_name": "Presses, crushers and similar machinery; used in the manufacture of wine, cider, fruit juices or similar beverages"
         }
        ],
        "schema": {
         "fields": [
          {
           "name": "index",
           "type": "integer"
          },
          {
           "name": "product_name",
           "type": "string"
          }
         ],
         "pandas_version": "1.4.0",
         "primaryKey": [
          "index"
         ]
        }
       },
       "total_rows": 11
      },
      "text/html": [
       "<div>\n",
       "<style scoped>\n",
       "    .dataframe tbody tr th:only-of-type {\n",
       "        vertical-align: middle;\n",
       "    }\n",
       "\n",
       "    .dataframe tbody tr th {\n",
       "        vertical-align: top;\n",
       "    }\n",
       "\n",
       "    .dataframe thead th {\n",
       "        text-align: right;\n",
       "    }\n",
       "</style>\n",
       "<table border=\"1\" class=\"dataframe\">\n",
       "  <thead>\n",
       "    <tr style=\"text-align: right;\">\n",
       "      <th></th>\n",
       "      <th>product_name</th>\n",
       "    </tr>\n",
       "  </thead>\n",
       "  <tbody>\n",
       "    <tr>\n",
       "      <th>10074</th>\n",
       "      <td>Swine; live</td>\n",
       "    </tr>\n",
       "    <tr>\n",
       "      <th>40293</th>\n",
       "      <td>Meat of swine; fresh, chilled or frozen</td>\n",
       "    </tr>\n",
       "    <tr>\n",
       "      <th>55402</th>\n",
       "      <td>Edible offal of bovine animals, swine, sheep, goats, horses, asses, mules or hinnies; fresh, chilled or frozen</td>\n",
       "    </tr>\n",
       "    <tr>\n",
       "      <th>921288</th>\n",
       "      <td>Wine of fresh grapes, including fortified wines; grape must other than that of heading no. 2009</td>\n",
       "    </tr>\n",
       "    <tr>\n",
       "      <th>926325</th>\n",
       "      <td>Vermouth and other wine of fresh grapes, flavoured with plants or aromatic substances</td>\n",
       "    </tr>\n",
       "    <tr>\n",
       "      <th>981731</th>\n",
       "      <td>Wine lees; argol</td>\n",
       "    </tr>\n",
       "    <tr>\n",
       "      <th>3266401</th>\n",
       "      <td>Twine, cordage, ropes and cables, whether or not plaited or braided; whether or not impregnated, coated, covered or sheathed with rubber or plastics</td>\n",
       "    </tr>\n",
       "    <tr>\n",
       "      <th>3271438</th>\n",
       "      <td>Twine, cordage or rope; knotted netting, made up fishing nets and other made up nets, of textile materials</td>\n",
       "    </tr>\n",
       "    <tr>\n",
       "      <th>3276475</th>\n",
       "      <td>Articles of yarn, strip or the like of heading no. 5404 or 5405; twine, cordage, rope or cables n.e.s. or included</td>\n",
       "    </tr>\n",
       "    <tr>\n",
       "      <th>3644176</th>\n",
       "      <td>Rags; used or new, scrap twine, cordage, rope and cables and worn out articles of twine, cordage, rope or cables, of textile materials</td>\n",
       "    </tr>\n",
       "    <tr>\n",
       "      <th>5049490</th>\n",
       "      <td>Presses, crushers and similar machinery; used in the manufacture of wine, cider, fruit juices or similar beverages</td>\n",
       "    </tr>\n",
       "  </tbody>\n",
       "</table>\n",
       "</div>"
      ],
      "text/plain": [
       "                                                                                                                                                 product_name\n",
       "10074                                                                                                                                             Swine; live\n",
       "40293                                                                                                                 Meat of swine; fresh, chilled or frozen\n",
       "55402                                          Edible offal of bovine animals, swine, sheep, goats, horses, asses, mules or hinnies; fresh, chilled or frozen\n",
       "921288                                                        Wine of fresh grapes, including fortified wines; grape must other than that of heading no. 2009\n",
       "926325                                                                  Vermouth and other wine of fresh grapes, flavoured with plants or aromatic substances\n",
       "981731                                                                                                                                       Wine lees; argol\n",
       "3266401  Twine, cordage, ropes and cables, whether or not plaited or braided; whether or not impregnated, coated, covered or sheathed with rubber or plastics\n",
       "3271438                                            Twine, cordage or rope; knotted netting, made up fishing nets and other made up nets, of textile materials\n",
       "3276475                                    Articles of yarn, strip or the like of heading no. 5404 or 5405; twine, cordage, rope or cables n.e.s. or included\n",
       "3644176                Rags; used or new, scrap twine, cordage, rope and cables and worn out articles of twine, cordage, rope or cables, of textile materials\n",
       "5049490                                    Presses, crushers and similar machinery; used in the manufacture of wine, cider, fruit juices or similar beverages"
      ]
     },
     "execution_count": 6,
     "metadata": {},
     "output_type": "execute_result"
    }
   ],
   "source": [
    "STRING = 'Netherland'\n",
    "df_orig[df_orig['country_name'].str.contains(STRING)][['country_name']].drop_duplicates()\n",
    "\n",
    "# You can also include regex expressions here, e.g. to ignore lower/uppercase ('wine' vs 'Wine')\n",
    "STRING = 'wine'\n",
    "df_orig[df_orig['product_name'].str.contains(STRING,flags=re.IGNORECASE, regex=True)][['product_name']].drop_duplicates()"
   ]
  },
  {
   "cell_type": "markdown",
   "id": "345938df-bc0a-4300-a92c-604305941fe7",
   "metadata": {},
   "source": [
    "#### Example: What were the major export products of the USA in 2012?"
   ]
  },
  {
   "cell_type": "code",
   "execution_count": 8,
   "id": "82afeb58-8917-4a4d-96d7-3483a254cb19",
   "metadata": {},
   "outputs": [
    {
     "data": {
      "application/com.datacamp.data-table.v1+json": {
       "is_truncated": false,
       "table": {
        "data": [
         {
          "export_value": 317000000000,
          "index": 1242,
          "product_code": "ict",
          "product_name": "ICT"
         },
         {
          "export_value": 162000000000,
          "index": 1244,
          "product_code": "travel",
          "product_name": "Travel and tourism"
         },
         {
          "export_value": 106514210816,
          "index": 1240,
          "product_code": "9999",
          "product_name": "Commodities not specified according to kind"
         },
         {
          "export_value": 101087379456,
          "index": 260,
          "product_code": "2710",
          "product_name": "Petroleum oils, oils from bituminous minerals, not crude; preparations n.e.s. containing less than 70% petroleum oils, oils from bituminous minerals; these being the basic constituents of the preparations"
         },
         {
          "export_value": 93500000000,
          "index": 1241,
          "product_code": "financial",
          "product_name": "Insurance and finance"
         },
         {
          "export_value": 83900000000,
          "index": 1243,
          "product_code": "transport",
          "product_name": "Transport"
         },
         {
          "export_value": 52303282176,
          "index": 1112,
          "product_code": "8703",
          "product_name": "Motor cars and other motor vehicles; principally designed for the transport of persons (other than those of heading no. 8702), including station wagons and racing cars"
         },
         {
          "export_value": 39675609088,
          "index": 1117,
          "product_code": "8708",
          "product_name": "Motor vehicles; parts and accessories, of heading no. 8701 to 8705"
         },
         {
          "export_value": 36943609856,
          "index": 1094,
          "product_code": "8542",
          "product_name": "Electronic integrated circuits and microassemblies"
         },
         {
          "export_value": 32980711424,
          "index": 1127,
          "product_code": "8802",
          "product_name": "Aircraft; (eg helicopters, aeroplanes), spacecraft (including satellites) and spacecraft launch vehicles"
         }
        ],
        "schema": {
         "fields": [
          {
           "name": "index",
           "type": "integer"
          },
          {
           "name": "product_code",
           "type": "string"
          },
          {
           "name": "product_name",
           "type": "string"
          },
          {
           "name": "export_value",
           "type": "number"
          }
         ],
         "pandas_version": "1.4.0",
         "primaryKey": [
          "index"
         ]
        }
       },
       "total_rows": 10
      },
      "text/html": [
       "<div>\n",
       "<style scoped>\n",
       "    .dataframe tbody tr th:only-of-type {\n",
       "        vertical-align: middle;\n",
       "    }\n",
       "\n",
       "    .dataframe tbody tr th {\n",
       "        vertical-align: top;\n",
       "    }\n",
       "\n",
       "    .dataframe thead th {\n",
       "        text-align: right;\n",
       "    }\n",
       "</style>\n",
       "<table border=\"1\" class=\"dataframe\">\n",
       "  <thead>\n",
       "    <tr style=\"text-align: right;\">\n",
       "      <th></th>\n",
       "      <th>product_code</th>\n",
       "      <th>product_name</th>\n",
       "      <th>export_value</th>\n",
       "    </tr>\n",
       "  </thead>\n",
       "  <tbody>\n",
       "    <tr>\n",
       "      <th>1242</th>\n",
       "      <td>ict</td>\n",
       "      <td>ICT</td>\n",
       "      <td>317000000000.00</td>\n",
       "    </tr>\n",
       "    <tr>\n",
       "      <th>1244</th>\n",
       "      <td>travel</td>\n",
       "      <td>Travel and tourism</td>\n",
       "      <td>162000000000.00</td>\n",
       "    </tr>\n",
       "    <tr>\n",
       "      <th>1240</th>\n",
       "      <td>9999</td>\n",
       "      <td>Commodities not specified according to kind</td>\n",
       "      <td>106514210816.00</td>\n",
       "    </tr>\n",
       "    <tr>\n",
       "      <th>260</th>\n",
       "      <td>2710</td>\n",
       "      <td>Petroleum oils, oils from bituminous minerals, not crude; preparations n.e.s. containing less than 70% petroleum oils, oils from bituminous minerals; these being the basic constituents of the preparations</td>\n",
       "      <td>101087379456.00</td>\n",
       "    </tr>\n",
       "    <tr>\n",
       "      <th>1241</th>\n",
       "      <td>financial</td>\n",
       "      <td>Insurance and finance</td>\n",
       "      <td>93500000000.00</td>\n",
       "    </tr>\n",
       "    <tr>\n",
       "      <th>1243</th>\n",
       "      <td>transport</td>\n",
       "      <td>Transport</td>\n",
       "      <td>83900000000.00</td>\n",
       "    </tr>\n",
       "    <tr>\n",
       "      <th>1112</th>\n",
       "      <td>8703</td>\n",
       "      <td>Motor cars and other motor vehicles; principally designed for the transport of persons (other than those of heading no. 8702), including station wagons and racing cars</td>\n",
       "      <td>52303282176.00</td>\n",
       "    </tr>\n",
       "    <tr>\n",
       "      <th>1117</th>\n",
       "      <td>8708</td>\n",
       "      <td>Motor vehicles; parts and accessories, of heading no. 8701 to 8705</td>\n",
       "      <td>39675609088.00</td>\n",
       "    </tr>\n",
       "    <tr>\n",
       "      <th>1094</th>\n",
       "      <td>8542</td>\n",
       "      <td>Electronic integrated circuits and microassemblies</td>\n",
       "      <td>36943609856.00</td>\n",
       "    </tr>\n",
       "    <tr>\n",
       "      <th>1127</th>\n",
       "      <td>8802</td>\n",
       "      <td>Aircraft; (eg helicopters, aeroplanes), spacecraft (including satellites) and spacecraft launch vehicles</td>\n",
       "      <td>32980711424.00</td>\n",
       "    </tr>\n",
       "  </tbody>\n",
       "</table>\n",
       "</div>"
      ],
      "text/plain": [
       "     product_code                                                                                                                                                                                                  product_name    export_value\n",
       "1242          ict                                                                                                                                                                                                           ICT 317000000000.00\n",
       "1244       travel                                                                                                                                                                                            Travel and tourism 162000000000.00\n",
       "1240         9999                                                                                                                                                                   Commodities not specified according to kind 106514210816.00\n",
       "260          2710  Petroleum oils, oils from bituminous minerals, not crude; preparations n.e.s. containing less than 70% petroleum oils, oils from bituminous minerals; these being the basic constituents of the preparations 101087379456.00\n",
       "1241    financial                                                                                                                                                                                         Insurance and finance  93500000000.00\n",
       "1243    transport                                                                                                                                                                                                     Transport  83900000000.00\n",
       "1112         8703                                       Motor cars and other motor vehicles; principally designed for the transport of persons (other than those of heading no. 8702), including station wagons and racing cars  52303282176.00\n",
       "1117         8708                                                                                                                                            Motor vehicles; parts and accessories, of heading no. 8701 to 8705  39675609088.00\n",
       "1094         8542                                                                                                                                                            Electronic integrated circuits and microassemblies  36943609856.00\n",
       "1127         8802                                                                                                      Aircraft; (eg helicopters, aeroplanes), spacecraft (including satellites) and spacecraft launch vehicles  32980711424.00"
      ]
     },
     "execution_count": 8,
     "metadata": {},
     "output_type": "execute_result"
    }
   ],
   "source": [
    "# create a 'dataframe' called 'df2' with only exports from USA in 2012\n",
    "df2 = df_orig[ (df_orig['country_code']=='USA') & (df_orig['year'] == 2012) ].copy()\n",
    "# create another dataframe 'df3' that contains the sum of exports per product\n",
    "df3 = df2.groupby(['product_code','product_name'],as_index=False)['export_value'].sum()\n",
    "# sort\n",
    "df3.sort_values(by=['export_value'],ascending=False,inplace=True)\n",
    "# show first 10 rows\n",
    "df3[0:10]"
   ]
  },
  {
   "cell_type": "markdown",
   "id": "41ec5505-fbd8-4638-8414-018e92f24358",
   "metadata": {},
   "source": [
    "#### Example: How did exports of Cars evolve over time in the USA?"
   ]
  },
  {
   "cell_type": "markdown",
   "id": "e094b9ab-4479-4881-95d7-0a1d892cbc86",
   "metadata": {},
   "source": [
    "From about 10 billion USD up to almost $60 billion USD."
   ]
  },
  {
   "cell_type": "code",
   "execution_count": 9,
   "id": "96bfd125-5f5d-4439-a639-d698d308a3fb",
   "metadata": {},
   "outputs": [
    {
     "data": {
      "text/plain": [
       "<AxesSubplot:xlabel='year'>"
      ]
     },
     "execution_count": 9,
     "metadata": {},
     "output_type": "execute_result"
    },
    {
     "data": {
      "image/png": "[encoded data removed]",
      "text/plain": [
       "<Figure size 432x288 with 1 Axes>"
      ]
     },
     "metadata": {},
     "output_type": "display_data"
    }
   ],
   "source": [
    "df2 = df_orig[ (df_orig['country_code']=='USA')].copy()\n",
    "#df3 = df2[df2['product_name']=='Cars']\n",
    "df3 = df2[df2['product_code']=='8703']\n",
    "df3.plot(x='year', y='export_value')"
   ]
  },
  {
   "cell_type": "markdown",
   "id": "c58aa6c0-5d24-46bc-b624-4d25f87f1d6a",
   "metadata": {
    "tags": [],
    "toc-hr-collapsed": true
   },
   "source": [
    "## Revealed comparative advantage (RCA)"
   ]
  },
  {
   "cell_type": "markdown",
   "id": "7e8b1db2-dcc0-4235-aa72-cc0d03b47143",
   "metadata": {},
   "source": [
    "What products are countries specialized in? For that, following Hidalgo et al. (2007), we calculate the Revealed Comparative Advantage (RCA) of each country-product pair: how much a country &rsquo;over-exports&rsquo; a product in comparison to all other countries.\n",
    "\n",
    "Technically this is the Balassa index of comparative advantage, calculated as follows for product $p$ and country $c$ at time $t$:\n",
    "\n",
    "\\begin{equation} \\label{e_RCA}\n",
    "{RCA}_{cpt}=\\frac{X_{cpt}/X_{ct}}{X_{pt}/X_{t}}\n",
    "\\tag{1}\n",
    "\\end{equation}\n",
    "\n",
    "where $X_{cpt}$ represents the total value of country $c$’s exports of product $p$ at time $t$ across all importers. An omitted subscript indicates a summation over the omitted dimension, e.g.: $X_{t}=\\sum \\limits_{c,p,t} X_{cpt}$.\n",
    "\n",
    "A product-country pair with $RCA>1$ means that the product is over-represented in the country&rsquo;s export basket.\n",
    "\n",
    "We use the original trade dataset (&rsquo;df<sub>orig</sub>&rsquo;) that is loaded into memory:"
   ]
  },
  {
   "cell_type": "code",
   "execution_count": 10,
   "id": "7a642e2e-f503-43ee-89d4-0df4c3ee591f",
   "metadata": {},
   "outputs": [
    {
     "name": "stdout",
     "output_type": "stream",
     "text": [
      "creating all country-product-time combinations\n",
      "merging data in\n",
      "calculating properties\n",
      "rca dataframe ready\n"
     ]
    },
    {
     "data": {
      "application/com.datacamp.data-table.v1+json": {
       "is_truncated": false,
       "table": {
        "data": [
         {
          "RCAcpt": 0.0822035187,
          "country_name": "Aruba",
          "export_value": 18000,
          "index": 0,
          "product_name": "Horses, asses, mules and hinnies; live",
          "year": 1995
         },
         {
          "RCAcpt": 0,
          "country_name": "Aruba",
          "export_value": 0,
          "index": 1,
          "product_name": "Bovine animals; live",
          "year": 1995
         },
         {
          "RCAcpt": 0,
          "country_name": "Aruba",
          "export_value": 0,
          "index": 2,
          "product_name": "Swine; live",
          "year": 1995
         },
         {
          "RCAcpt": 0,
          "country_name": "Aruba",
          "export_value": 0,
          "index": 3,
          "product_name": "Sheep and goats; live",
          "year": 1995
         },
         {
          "RCAcpt": 0,
          "country_name": "Aruba",
          "export_value": 0,
          "index": 4,
          "product_name": "Poultry; live, fowls of the species gallus domesticus, ducks, geese, turkeys and guinea fowls",
          "year": 1995
         },
         {
          "RCAcpt": 0.0290693404,
          "country_name": "Aruba",
          "export_value": 2473,
          "index": 5,
          "product_name": "Animals, n.e.s. in chapter 01; live",
          "year": 1995
         },
         {
          "RCAcpt": 0,
          "country_name": "Aruba",
          "export_value": 0,
          "index": 6,
          "product_name": "Meat of bovine animals; fresh or chilled",
          "year": 1995
         },
         {
          "RCAcpt": 0,
          "country_name": "Aruba",
          "export_value": 0,
          "index": 7,
          "product_name": "Meat of bovine animals; frozen",
          "year": 1995
         },
         {
          "RCAcpt": 0,
          "country_name": "Aruba",
          "export_value": 0,
          "index": 8,
          "product_name": "Meat of swine; fresh, chilled or frozen",
          "year": 1995
         },
         {
          "RCAcpt": 0,
          "country_name": "Aruba",
          "export_value": 0,
          "index": 9,
          "product_name": "Meat of sheep or goats; fresh, chilled or frozen",
          "year": 1995
         }
        ],
        "schema": {
         "fields": [
          {
           "name": "index",
           "type": "integer"
          },
          {
           "name": "year",
           "type": "integer"
          },
          {
           "name": "country_name",
           "type": "string"
          },
          {
           "name": "product_name",
           "type": "string"
          },
          {
           "name": "export_value",
           "type": "number"
          },
          {
           "name": "RCAcpt",
           "type": "number"
          }
         ],
         "pandas_version": "1.4.0",
         "primaryKey": [
          "index"
         ]
        }
       },
       "total_rows": 10
      },
      "text/html": [
       "<div>\n",
       "<style scoped>\n",
       "    .dataframe tbody tr th:only-of-type {\n",
       "        vertical-align: middle;\n",
       "    }\n",
       "\n",
       "    .dataframe tbody tr th {\n",
       "        vertical-align: top;\n",
       "    }\n",
       "\n",
       "    .dataframe thead th {\n",
       "        text-align: right;\n",
       "    }\n",
       "</style>\n",
       "<table border=\"1\" class=\"dataframe\">\n",
       "  <thead>\n",
       "    <tr style=\"text-align: right;\">\n",
       "      <th></th>\n",
       "      <th>year</th>\n",
       "      <th>country_name</th>\n",
       "      <th>product_name</th>\n",
       "      <th>export_value</th>\n",
       "      <th>RCAcpt</th>\n",
       "    </tr>\n",
       "  </thead>\n",
       "  <tbody>\n",
       "    <tr>\n",
       "      <th>0</th>\n",
       "      <td>1995</td>\n",
       "      <td>Aruba</td>\n",
       "      <td>Horses, asses, mules and hinnies; live</td>\n",
       "      <td>18000.00</td>\n",
       "      <td>0.08</td>\n",
       "    </tr>\n",
       "    <tr>\n",
       "      <th>1</th>\n",
       "      <td>1995</td>\n",
       "      <td>Aruba</td>\n",
       "      <td>Bovine animals; live</td>\n",
       "      <td>0.00</td>\n",
       "      <td>0.00</td>\n",
       "    </tr>\n",
       "    <tr>\n",
       "      <th>2</th>\n",
       "      <td>1995</td>\n",
       "      <td>Aruba</td>\n",
       "      <td>Swine; live</td>\n",
       "      <td>0.00</td>\n",
       "      <td>0.00</td>\n",
       "    </tr>\n",
       "    <tr>\n",
       "      <th>3</th>\n",
       "      <td>1995</td>\n",
       "      <td>Aruba</td>\n",
       "      <td>Sheep and goats; live</td>\n",
       "      <td>0.00</td>\n",
       "      <td>0.00</td>\n",
       "    </tr>\n",
       "    <tr>\n",
       "      <th>4</th>\n",
       "      <td>1995</td>\n",
       "      <td>Aruba</td>\n",
       "      <td>Poultry; live, fowls of the species gallus domesticus, ducks, geese, turkeys and guinea fowls</td>\n",
       "      <td>0.00</td>\n",
       "      <td>0.00</td>\n",
       "    </tr>\n",
       "    <tr>\n",
       "      <th>5</th>\n",
       "      <td>1995</td>\n",
       "      <td>Aruba</td>\n",
       "      <td>Animals, n.e.s. in chapter 01; live</td>\n",
       "      <td>2473.00</td>\n",
       "      <td>0.03</td>\n",
       "    </tr>\n",
       "    <tr>\n",
       "      <th>6</th>\n",
       "      <td>1995</td>\n",
       "      <td>Aruba</td>\n",
       "      <td>Meat of bovine animals; fresh or chilled</td>\n",
       "      <td>0.00</td>\n",
       "      <td>0.00</td>\n",
       "    </tr>\n",
       "    <tr>\n",
       "      <th>7</th>\n",
       "      <td>1995</td>\n",
       "      <td>Aruba</td>\n",
       "      <td>Meat of bovine animals; frozen</td>\n",
       "      <td>0.00</td>\n",
       "      <td>0.00</td>\n",
       "    </tr>\n",
       "    <tr>\n",
       "      <th>8</th>\n",
       "      <td>1995</td>\n",
       "      <td>Aruba</td>\n",
       "      <td>Meat of swine; fresh, chilled or frozen</td>\n",
       "      <td>0.00</td>\n",
       "      <td>0.00</td>\n",
       "    </tr>\n",
       "    <tr>\n",
       "      <th>9</th>\n",
       "      <td>1995</td>\n",
       "      <td>Aruba</td>\n",
       "      <td>Meat of sheep or goats; fresh, chilled or frozen</td>\n",
       "      <td>0.00</td>\n",
       "      <td>0.00</td>\n",
       "    </tr>\n",
       "  </tbody>\n",
       "</table>\n",
       "</div>"
      ],
      "text/plain": [
       "   year country_name                                                                                   product_name  export_value  RCAcpt\n",
       "0  1995        Aruba                                                         Horses, asses, mules and hinnies; live      18000.00    0.08\n",
       "1  1995        Aruba                                                                           Bovine animals; live          0.00    0.00\n",
       "2  1995        Aruba                                                                                    Swine; live          0.00    0.00\n",
       "3  1995        Aruba                                                                          Sheep and goats; live          0.00    0.00\n",
       "4  1995        Aruba  Poultry; live, fowls of the species gallus domesticus, ducks, geese, turkeys and guinea fowls          0.00    0.00\n",
       "5  1995        Aruba                                                            Animals, n.e.s. in chapter 01; live       2473.00    0.03\n",
       "6  1995        Aruba                                                       Meat of bovine animals; fresh or chilled          0.00    0.00\n",
       "7  1995        Aruba                                                                 Meat of bovine animals; frozen          0.00    0.00\n",
       "8  1995        Aruba                                                        Meat of swine; fresh, chilled or frozen          0.00    0.00\n",
       "9  1995        Aruba                                               Meat of sheep or goats; fresh, chilled or frozen          0.00    0.00"
      ]
     },
     "execution_count": 10,
     "metadata": {},
     "output_type": "execute_result"
    }
   ],
   "source": [
    "def calc_rca(data,country_col,product_col,time_col,value_col):\n",
    "    \"\"\"\n",
    "    Calculates Revealed Comparative Advantage (RCA) of country-product-time combinations\n",
    "\n",
    "    Returns:\n",
    "        pandas dataframe with RCAs\n",
    "    \"\"\"\n",
    "\n",
    "    # Aggregate to country-product-time dataframe\n",
    "    print('creating all country-product-time combinations')\n",
    "    # - add all possible products for each country with export value 0\n",
    "    # - else matrices later on will have missing values in them, complicating calculations\n",
    "    df_all = pd.DataFrame(list(product(data[time_col].unique(), data[country_col].unique(),data[product_col].unique())))\n",
    "    df_all.columns=[time_col,country_col,product_col]\n",
    "    print('merging data in')\n",
    "    df_all = pd.merge(df_all,data[[time_col,country_col,product_col,value_col]],how='left',on=[time_col,country_col,product_col])\n",
    "    df_all.loc[df_all[value_col].isnull(),value_col] = 0\n",
    "\n",
    "    # Calculate the properties\n",
    "    print('calculating properties')\n",
    "    df_all['Xcpt'] = df_all[value_col]\n",
    "    df_all['Xct'] = df_all.groupby([country_col, time_col])[value_col].transform(sum)\n",
    "    df_all['Xpt'] = df_all.groupby([product_col, time_col])[value_col].transform(sum)\n",
    "    df_all['Xt'] = df_all.groupby([time_col])[value_col].transform('sum')\n",
    "    df_all['RCAcpt'] = (df_all['Xcpt']/df_all['Xct'])/(df_all['Xpt']/df_all['Xt'])\n",
    "    # set to 0 if missing, e.g. if product / country have 0 (total) exports\n",
    "    df_all.loc[df_all['RCAcpt'].isnull(),'RCAcpt'] = 0\n",
    "    # drop the properties \n",
    "    df_all.drop(['Xcpt','Xct','Xpt','Xt'],axis=1,inplace=True,errors='ignore')\n",
    "\n",
    "    return df_all\n",
    "\n",
    "df_rca = calc_rca(data=df_orig,country_col='country_name',product_col='product_name',time_col='year',value_col='export_value')\n",
    "\n",
    "print('rca dataframe ready')\n",
    "\n",
    "# show results\n",
    "df_rca[0:10]"
   ]
  },
  {
   "cell_type": "markdown",
   "id": "7bf7088d-6c26-4af2-9b22-08380726e631",
   "metadata": {},
   "source": [
    "Note: You can operate (more) directly on matrices with NumPy (Pandas is built on NumPy), e.g. to calculate RCA:"
   ]
  },
  {
   "cell_type": "markdown",
   "id": "b4bfd5c5-0295-4efc-a59f-6ed64f76fba1",
   "metadata": {},
   "source": [
    "    Xc = np.sum(Xcp, axis=1)\n",
    "    Xp = np.sum(Xcp, axis=0)\n",
    "    X = np.sum(Xcp)\n",
    "    RAC_mat = np.copy(Xcp)\n",
    "    for i in range(len(RAC_mat)):\n",
    "        RAC_mat[i, :] = RAC_mat[i, :] / Xc[i]\n",
    "    # products / countries with no exports\n",
    "    RAC_mat[np.isnan(RAC_mat)] = 0\n",
    "    RAC_mat = np.transpose(RAC_mat)\n",
    "    for i in range(len(RAC_mat)):\n",
    "        RAC_mat[i, :] = RAC_mat[i, :] / (Xp[i] / X)"
   ]
  },
  {
   "cell_type": "markdown",
   "id": "8186c98f-77d4-4b2c-a3aa-222e50ad2b4c",
   "metadata": {},
   "source": [
    "### Example: What products are The Netherlands and Saudi Arabia specialized in, in 2000?"
   ]
  },
  {
   "cell_type": "markdown",
   "id": "71d37714-c293-4437-8f99-7d10b1f59f83",
   "metadata": {},
   "source": [
    "(Note that different commands are chained together here; can also be ran separately)"
   ]
  },
  {
   "cell_type": "code",
   "execution_count": 11,
   "id": "a7c1deeb-83cf-43ff-841d-cf7224a3269c",
   "metadata": {},
   "outputs": [
    {
     "name": "stdout",
     "output_type": "stream",
     "text": [
      "\n",
      " The Netherlands: \n",
      "\n"
     ]
    },
    {
     "data": {
      "application/com.datacamp.data-table.v1+json": {
       "is_truncated": false,
       "table": {
        "data": [
         {
          "RCAcpt": 24.6287344241,
          "index": 1692332,
          "product_name": "Bulbs, tubers, tuberous roots, corms, crowns and rhizomes; dormant, in growth or in flower; chicory plants and roots other than roots of heading no. 1212",
          "year": 2000
         },
         {
          "RCAcpt": 17.0024447754,
          "index": 1692334,
          "product_name": "Flowers; cut flowers and flower buds of a kind suitable for bouquets or for ornamental purposes, fresh, dried, dyed, bleached, impregnated or otherwise prepared",
          "year": 2000
         },
         {
          "RCAcpt": 13.7978349381,
          "index": 1692446,
          "product_name": "Cocoa; powder, not containing added sugar or other sweetening matter",
          "year": 2000
         },
         {
          "RCAcpt": 12.642975561,
          "index": 1692333,
          "product_name": "Plants, live; n.e.s. in heading no. 0601, (including their roots) cuttings and slips; mushroom spawn",
          "year": 2000
         },
         {
          "RCAcpt": 11.3358745816,
          "index": 1692836,
          "product_name": "Composite paper and paperboard, (made by sticking layers together with an adhesive), not surface-coated or impregnated, whether or not internally reinforced, in rolls or sheets",
          "year": 2000
         }
        ],
        "schema": {
         "fields": [
          {
           "name": "index",
           "type": "integer"
          },
          {
           "name": "product_name",
           "type": "string"
          },
          {
           "name": "RCAcpt",
           "type": "number"
          },
          {
           "name": "year",
           "type": "integer"
          }
         ],
         "pandas_version": "1.4.0",
         "primaryKey": [
          "index"
         ]
        }
       },
       "total_rows": 5
      },
      "text/html": [
       "<div>\n",
       "<style scoped>\n",
       "    .dataframe tbody tr th:only-of-type {\n",
       "        vertical-align: middle;\n",
       "    }\n",
       "\n",
       "    .dataframe tbody tr th {\n",
       "        vertical-align: top;\n",
       "    }\n",
       "\n",
       "    .dataframe thead th {\n",
       "        text-align: right;\n",
       "    }\n",
       "</style>\n",
       "<table border=\"1\" class=\"dataframe\">\n",
       "  <thead>\n",
       "    <tr style=\"text-align: right;\">\n",
       "      <th></th>\n",
       "      <th>product_name</th>\n",
       "      <th>RCAcpt</th>\n",
       "      <th>year</th>\n",
       "    </tr>\n",
       "  </thead>\n",
       "  <tbody>\n",
       "    <tr>\n",
       "      <th>1692332</th>\n",
       "      <td>Bulbs, tubers, tuberous roots, corms, crowns and rhizomes; dormant, in growth or in flower; chicory plants and roots other than roots of heading no. 1212</td>\n",
       "      <td>24.63</td>\n",
       "      <td>2000</td>\n",
       "    </tr>\n",
       "    <tr>\n",
       "      <th>1692334</th>\n",
       "      <td>Flowers; cut flowers and flower buds of a kind suitable for bouquets or for ornamental purposes, fresh, dried, dyed, bleached, impregnated or otherwise prepared</td>\n",
       "      <td>17.00</td>\n",
       "      <td>2000</td>\n",
       "    </tr>\n",
       "    <tr>\n",
       "      <th>1692446</th>\n",
       "      <td>Cocoa; powder, not containing added sugar or other sweetening matter</td>\n",
       "      <td>13.80</td>\n",
       "      <td>2000</td>\n",
       "    </tr>\n",
       "    <tr>\n",
       "      <th>1692333</th>\n",
       "      <td>Plants, live; n.e.s. in heading no. 0601, (including their roots) cuttings and slips; mushroom spawn</td>\n",
       "      <td>12.64</td>\n",
       "      <td>2000</td>\n",
       "    </tr>\n",
       "    <tr>\n",
       "      <th>1692836</th>\n",
       "      <td>Composite paper and paperboard, (made by sticking layers together with an adhesive), not surface-coated or impregnated, whether or not internally reinforced, in rolls or sheets</td>\n",
       "      <td>11.34</td>\n",
       "      <td>2000</td>\n",
       "    </tr>\n",
       "  </tbody>\n",
       "</table>\n",
       "</div>"
      ],
      "text/plain": [
       "                                                                                                                                                                             product_name  RCAcpt  year\n",
       "1692332                         Bulbs, tubers, tuberous roots, corms, crowns and rhizomes; dormant, in growth or in flower; chicory plants and roots other than roots of heading no. 1212   24.63  2000\n",
       "1692334                  Flowers; cut flowers and flower buds of a kind suitable for bouquets or for ornamental purposes, fresh, dried, dyed, bleached, impregnated or otherwise prepared   17.00  2000\n",
       "1692446                                                                                                              Cocoa; powder, not containing added sugar or other sweetening matter   13.80  2000\n",
       "1692333                                                                              Plants, live; n.e.s. in heading no. 0601, (including their roots) cuttings and slips; mushroom spawn   12.64  2000\n",
       "1692836  Composite paper and paperboard, (made by sticking layers together with an adhesive), not surface-coated or impregnated, whether or not internally reinforced, in rolls or sheets   11.34  2000"
      ]
     },
     "execution_count": 11,
     "metadata": {},
     "output_type": "execute_result"
    },
    {
     "name": "stdout",
     "output_type": "stream",
     "text": [
      "\n",
      " Saudi Arabia:\n",
      "\n"
     ]
    },
    {
     "data": {
      "application/com.datacamp.data-table.v1+json": {
       "is_truncated": false,
       "table": {
        "data": [
         {
          "RCAcpt": 17.4656519101,
          "index": 1721319,
          "product_name": "Ethers, ether-alcohols, ether-phenols, ether-alcohol-phenols, alcohol peroxides, ether peroxides, ketone peroxides (chemically defined or not); halogenated, sulphonated, nitrated, nitrosated derivative",
          "year": 2000
         },
         {
          "RCAcpt": 15.2139114611,
          "index": 1721252,
          "product_name": "Petroleum oils and oils obtained from bituminous minerals; crude",
          "year": 2000
         },
         {
          "RCAcpt": 12.2025045027,
          "index": 1721315,
          "product_name": "Acyclic alcohols and their halogenated, sulphonated, nitrated or nitrosated derivatives",
          "year": 2000
         },
         {
          "RCAcpt": 8.4394623111,
          "index": 1721359,
          "product_name": "Fertilizers; animal or vegetable, whether or not mixed together or chemically treated; fertilizers produced by the mixing or chemical treatment of animal or vegetable products",
          "year": 2000
         },
         {
          "RCAcpt": 7.9997001811,
          "index": 1721195,
          "product_name": "Sulphur of all kinds; other than sublimed, precipitated and colloidal sulphur",
          "year": 2000
         }
        ],
        "schema": {
         "fields": [
          {
           "name": "index",
           "type": "integer"
          },
          {
           "name": "product_name",
           "type": "string"
          },
          {
           "name": "RCAcpt",
           "type": "number"
          },
          {
           "name": "year",
           "type": "integer"
          }
         ],
         "pandas_version": "1.4.0",
         "primaryKey": [
          "index"
         ]
        }
       },
       "total_rows": 5
      },
      "text/html": [
       "<div>\n",
       "<style scoped>\n",
       "    .dataframe tbody tr th:only-of-type {\n",
       "        vertical-align: middle;\n",
       "    }\n",
       "\n",
       "    .dataframe tbody tr th {\n",
       "        vertical-align: top;\n",
       "    }\n",
       "\n",
       "    .dataframe thead th {\n",
       "        text-align: right;\n",
       "    }\n",
       "</style>\n",
       "<table border=\"1\" class=\"dataframe\">\n",
       "  <thead>\n",
       "    <tr style=\"text-align: right;\">\n",
       "      <th></th>\n",
       "      <th>product_name</th>\n",
       "      <th>RCAcpt</th>\n",
       "      <th>year</th>\n",
       "    </tr>\n",
       "  </thead>\n",
       "  <tbody>\n",
       "    <tr>\n",
       "      <th>1721319</th>\n",
       "      <td>Ethers, ether-alcohols, ether-phenols, ether-alcohol-phenols, alcohol peroxides, ether peroxides, ketone peroxides (chemically defined or not); halogenated, sulphonated, nitrated, nitrosated derivative</td>\n",
       "      <td>17.47</td>\n",
       "      <td>2000</td>\n",
       "    </tr>\n",
       "    <tr>\n",
       "      <th>1721252</th>\n",
       "      <td>Petroleum oils and oils obtained from bituminous minerals; crude</td>\n",
       "      <td>15.21</td>\n",
       "      <td>2000</td>\n",
       "    </tr>\n",
       "    <tr>\n",
       "      <th>1721315</th>\n",
       "      <td>Acyclic alcohols and their halogenated, sulphonated, nitrated or nitrosated derivatives</td>\n",
       "      <td>12.20</td>\n",
       "      <td>2000</td>\n",
       "    </tr>\n",
       "    <tr>\n",
       "      <th>1721359</th>\n",
       "      <td>Fertilizers; animal or vegetable, whether or not mixed together or chemically treated; fertilizers produced by the mixing or chemical treatment of animal or vegetable products</td>\n",
       "      <td>8.44</td>\n",
       "      <td>2000</td>\n",
       "    </tr>\n",
       "    <tr>\n",
       "      <th>1721195</th>\n",
       "      <td>Sulphur of all kinds; other than sublimed, precipitated and colloidal sulphur</td>\n",
       "      <td>8.00</td>\n",
       "      <td>2000</td>\n",
       "    </tr>\n",
       "  </tbody>\n",
       "</table>\n",
       "</div>"
      ],
      "text/plain": [
       "                                                                                                                                                                                                      product_name  RCAcpt  year\n",
       "1721319  Ethers, ether-alcohols, ether-phenols, ether-alcohol-phenols, alcohol peroxides, ether peroxides, ketone peroxides (chemically defined or not); halogenated, sulphonated, nitrated, nitrosated derivative   17.47  2000\n",
       "1721252                                                                                                                                           Petroleum oils and oils obtained from bituminous minerals; crude   15.21  2000\n",
       "1721315                                                                                                                    Acyclic alcohols and their halogenated, sulphonated, nitrated or nitrosated derivatives   12.20  2000\n",
       "1721359                            Fertilizers; animal or vegetable, whether or not mixed together or chemically treated; fertilizers produced by the mixing or chemical treatment of animal or vegetable products    8.44  2000\n",
       "1721195                                                                                                                              Sulphur of all kinds; other than sublimed, precipitated and colloidal sulphur    8.00  2000"
      ]
     },
     "execution_count": 11,
     "metadata": {},
     "output_type": "execute_result"
    }
   ],
   "source": [
    "# The Netherlands\n",
    "print(\"\\n The Netherlands: \\n\")\n",
    "\n",
    "df_rca[ (df_rca['year']==2000) & (df_rca['country_name']=='Netherlands')].sort_values(by=['RCAcpt'],ascending=False)[['product_name','RCAcpt','year']][0:5]\n",
    "\n",
    "print(\"\\n Saudi Arabia:\\n\")\n",
    "\n",
    "# Saudi Arabia\n",
    "df_rca[ (df_rca['year']==2000) & (df_rca['country_name']=='Saudi Arabia')].sort_values(by=['RCAcpt'],ascending=False)[['product_name','RCAcpt','year']][0:5]"
   ]
  },
  {
   "cell_type": "markdown",
   "id": "171c790e-0995-475a-bf65-e2be6acee841",
   "metadata": {
    "tags": [],
    "toc-hr-collapsed": true
   },
   "source": [
    "## Product proximity (based on co-occurences)"
   ]
  },
  {
   "cell_type": "markdown",
   "id": "2dab0773-4fde-4b12-ad5f-0e8bcf002f9c",
   "metadata": {},
   "source": [
    "### Calculating product co-occurences and proximities"
   ]
  },
  {
   "cell_type": "markdown",
   "id": "ce88974f-712a-49f1-b35d-36342f602229",
   "metadata": {},
   "source": [
    "Knowing which countries are specialized in which products, the next step analyzes the extent to which two products are over-represented ($RCA>1$) in the same countries.\n",
    "\n",
    "As noted in the lecture, the main insight supporting this inference is that countries will produce combinations of products that require similar capabilities.\n",
    "\n",
    "Hence we infer capabilities from trade patterns, because the capabilities of a country is a priori hard to determine and capabilities themselves are hard to observe.\n",
    "\n",
    "Hence, **the degree to which two products cooccur in the export baskets of the same countries provides an indication of how similar the capability requirements of the two products are**.\n",
    "\n",
    "We will calculate the co-occurence matrix of products below.\n",
    "\n",
    "First, a product is &rsquo;present&rsquo; in a country if the country exports the product with $RCA>1$:\n",
    "\n",
    "\\begin{equation} \\label{e_presence}\n",
    "M_{cp}=\\begin{cases}\n",
    "    1 & \\text{if ${RCA}_{cp}>1$}; \\\\\n",
    "    0 & \\text{elsewhere.}\n",
    "    \\end{cases}\n",
    "\\tag{2}\n",
    "\\end{equation}"
   ]
  },
  {
   "cell_type": "code",
   "execution_count": 12,
   "id": "33cd245a-0c62-4163-90ab-66ba3aa34695",
   "metadata": {},
   "outputs": [],
   "source": [
    "df_rca['Mcp'] = 0\n",
    "df_rca.loc[df_rca['RCAcpt']>1,'Mcp'] = 1"
   ]
  },
  {
   "cell_type": "markdown",
   "id": "0be7e8fd-f60f-4f23-834f-52b381c3bed5",
   "metadata": {},
   "source": [
    "Next, we calculate how often two products are present in the same countries, using the Mcp threshold:\n",
    "\n",
    "\\begin{equation} \\label{e_cooc}\n",
    "C_{pp'}=\\sum \\limits_{c} M_{cp} M_{cp'}\n",
    "\\tag{3}\n",
    "\\end{equation}\n",
    "\n",
    "To get an accurate value of product proximity, we need to correct these numbers for the extent to which products are present in general in trade flows between countries. To do so, Hidalgo et al. (2007) calculate product proximity as follows, defining it as the minimum of two conditional probabilities:\n",
    "\n",
    "\\begin{equation}\n",
    "C_{ppt'}  = \\min \\left( \\frac{C_{pp'}}{C_{p}},\\frac{C_{pp'}}{C_{p'}} \\right)\n",
    "\\tag{4}\n",
    "\\end{equation}\n",
    "\n",
    "The minimum here is used to elimate a &rsquo;false positive&rsquo;.\n",
    "\n",
    "Hence we correct for how prevalent specialization in product $i$ and product $j$ is across countries (i.e. the &rsquo;ubiquity&rsquo; of the products).\n",
    "\n",
    "We will use the first year of data in the dataset, **1995,** below.\n",
    "\n",
    "Note that to reduce yearly votality, Hidalgo et al. (2007) aggregate the trade data across multiple years (1998-2000) when calculating RCAs and product proximities for the product space. (However, when comparing the product space across years, they do use individual years)."
   ]
  },
  {
   "cell_type": "code",
   "execution_count": 13,
   "id": "ef3d7f8f-f5b6-4c9b-9b5a-c96064cd8bff",
   "metadata": {},
   "outputs": [
    {
     "name": "stdout",
     "output_type": "stream",
     "text": [
      "cppt product co-occurences and proximities dataframe ready\n"
     ]
    }
   ],
   "source": [
    "def calc_cppt(data,country_col,product_col):\n",
    "    \"\"\"\n",
    "    Calculates product co-occurences in countries\n",
    "\n",
    "    Returns:\n",
    "        pandas dataframe with co-occurence value for each product pair\n",
    "    \"\"\"\n",
    "\n",
    "    # Create combinations within country_col (i.e. countries) of entities (i.e. products)\n",
    "    dft = (data.groupby(country_col)[product_col].apply(lambda x: pd.DataFrame(list(combinations(x,2))))\n",
    "            .reset_index(level=1, drop=True)\n",
    "            .reset_index())\n",
    "    dft.rename(columns={0:f'{product_col}_1'}, inplace=True)\n",
    "    dft.rename(columns={1:f'{product_col}_2'}, inplace=True)\n",
    "\n",
    "    # Create second half of matrix (assymmetrical):\n",
    "    # -- {product_col} 1 X {product_col} 2 == {product_col} 2 X {product_col} 1\n",
    "    dft2 = dft.copy()\n",
    "    dft2.rename(columns={f'{product_col}_1':f'{product_col}_2t'}, inplace=True)\n",
    "    dft2.rename(columns={f'{product_col}_2':f'{product_col}_1'}, inplace=True)\n",
    "    dft2.rename(columns={f'{product_col}_2t':f'{product_col}_2'}, inplace=True)\n",
    "    # -- add second half\n",
    "    dft3 = pd.concat([dft,dft2],axis=0,sort=False)\n",
    "\n",
    "    # Drop diagonal if present\n",
    "    dft3 = dft3[ dft3[f'{product_col}_1'] != dft3[f'{product_col}_2'] ]\n",
    "\n",
    "    # Now calculate N of times that {product_col}s occur together\n",
    "    dft3['count'] = 1\n",
    "    dft3 = dft3.groupby([f'{product_col}_1',f'{product_col}_2'],as_index=False)['count'].sum()\n",
    "    dft3.rename(columns={f'count':f'Cpp'}, inplace=True)\n",
    "\n",
    "    # Calculate ubiquity\n",
    "    df_ub = data.groupby(product_col,as_index=False)['Mcp'].sum()\n",
    "    # Merge ubiqity into cpp matrix\n",
    "    df_ub.rename(columns={f'{product_col}':f'{product_col}_1'}, inplace=True)\n",
    "    dft3 = pd.merge(dft3,df_ub,how='left',on=f'{product_col}_1')\n",
    "    df_ub.rename(columns={f'{product_col}_1':f'{product_col}_2'}, inplace=True)\n",
    "    dft3 = pd.merge(dft3,df_ub,how='left',on=f'{product_col}_2')\n",
    "\n",
    "    # Take minimum of conditional probabilities\n",
    "    dft3['kpi'] = dft3['Cpp']/dft3['Mcp_x']\n",
    "    dft3['kpj'] = dft3['Cpp']/dft3['Mcp_y']\n",
    "    dft3['phi'] = dft3['kpi']\n",
    "    dft3.loc[dft3['kpj']<dft3['kpi'],'phi'] = dft3['kpj']\n",
    "\n",
    "    return dft3\n",
    "\n",
    "# Keep only year 1995\n",
    "dft = df_rca[df_rca['year']==1995].copy()\n",
    "\n",
    "# Keep only country-product combinations where Mcp == 1 (thus RCAcp > 1)\n",
    "dft = dft[dft['Mcp']==1]\n",
    "\n",
    "# Calculate cpp\n",
    "df_cppt = calc_cppt(dft,country_col='country_name',product_col='product_name')\n",
    "\n",
    "print('cppt product co-occurences and proximities dataframe ready')"
   ]
  },
  {
   "cell_type": "markdown",
   "id": "d162443a-e87b-4ece-afef-5f1e7e966fb5",
   "metadata": {},
   "source": [
    "#### Products that co-occur most often"
   ]
  },
  {
   "cell_type": "code",
   "execution_count": 14,
   "id": "05beff68-38e8-420f-a6ea-189f3e991e87",
   "metadata": {},
   "outputs": [
    {
     "data": {
      "application/com.datacamp.data-table.v1+json": {
       "is_truncated": false,
       "table": {
        "data": [
         {
          "Cpp": 59,
          "Mcp_x": 68,
          "Mcp_y": 70,
          "index": 1149849,
          "kpi": 0.8676470588,
          "kpj": 0.8428571429,
          "phi": 0.8428571429,
          "product_name_1": "Suits, ensembles, jackets, blazers, trousers, bib and brace overalls, breeches and shorts (other than swimwear); men's or boys' (not knitted or crocheted)",
          "product_name_2": "Suits, ensembles, jackets, dresses, skirts, divided skirts, trousers, bib and brace overalls, breeches and shorts (other than swimwear); women's or girls' (not knitted or crocheted)"
         },
         {
          "Cpp": 59,
          "Mcp_x": 70,
          "Mcp_y": 68,
          "index": 1153522,
          "kpi": 0.8428571429,
          "kpj": 0.8676470588,
          "phi": 0.8428571429,
          "product_name_1": "Suits, ensembles, jackets, dresses, skirts, divided skirts, trousers, bib and brace overalls, breeches and shorts (other than swimwear); women's or girls' (not knitted or crocheted)",
          "product_name_2": "Suits, ensembles, jackets, blazers, trousers, bib and brace overalls, breeches and shorts (other than swimwear); men's or boys' (not knitted or crocheted)"
         },
         {
          "Cpp": 59,
          "Mcp_x": 82,
          "Mcp_y": 86,
          "index": 589806,
          "kpi": 0.7195121951,
          "kpj": 0.6860465116,
          "phi": 0.6860465116,
          "product_name_1": "ICT",
          "product_name_2": "Travel and tourism"
         },
         {
          "Cpp": 59,
          "Mcp_x": 86,
          "Mcp_y": 82,
          "index": 1270771,
          "kpi": 0.6860465116,
          "kpj": 0.7195121951,
          "phi": 0.6860465116,
          "product_name_1": "Travel and tourism",
          "product_name_2": "ICT"
         },
         {
          "Cpp": 57,
          "Mcp_x": 86,
          "Mcp_y": 86,
          "index": 1271357,
          "kpi": 0.6627906977,
          "kpj": 0.6627906977,
          "phi": 0.6627906977,
          "product_name_1": "Travel and tourism",
          "product_name_2": "Transport"
         },
         {
          "Cpp": 57,
          "Mcp_x": 86,
          "Mcp_y": 86,
          "index": 1270116,
          "kpi": 0.6627906977,
          "kpj": 0.6627906977,
          "phi": 0.6627906977,
          "product_name_1": "Transport",
          "product_name_2": "Travel and tourism"
         },
         {
          "Cpp": 55,
          "Mcp_x": 70,
          "Mcp_y": 70,
          "index": 1153464,
          "kpi": 0.7857142857,
          "kpj": 0.7857142857,
          "phi": 0.7857142857,
          "product_name_1": "Suits, ensembles, jackets, dresses, skirts, divided skirts, trousers, bib and brace overalls, breeches and shorts (other than swimwear); women's or girls' (not knitted or crocheted)",
          "product_name_2": "Shirts; men's or boys' (not knitted or crocheted)"
         },
         {
          "Cpp": 55,
          "Mcp_x": 70,
          "Mcp_y": 70,
          "index": 1081059,
          "kpi": 0.7857142857,
          "kpj": 0.7857142857,
          "phi": 0.7857142857,
          "product_name_1": "Shirts; men's or boys' (not knitted or crocheted)",
          "product_name_2": "Suits, ensembles, jackets, dresses, skirts, divided skirts, trousers, bib and brace overalls, breeches and shorts (other than swimwear); women's or girls' (not knitted or crocheted)"
         },
         {
          "Cpp": 53,
          "Mcp_x": 68,
          "Mcp_y": 70,
          "index": 1149789,
          "kpi": 0.7794117647,
          "kpj": 0.7571428571,
          "phi": 0.7571428571,
          "product_name_1": "Suits, ensembles, jackets, blazers, trousers, bib and brace overalls, breeches and shorts (other than swimwear); men's or boys' (not knitted or crocheted)",
          "product_name_2": "Shirts; men's or boys' (not knitted or crocheted)"
         },
         {
          "Cpp": 53,
          "Mcp_x": 70,
          "Mcp_y": 68,
          "index": 1081056,
          "kpi": 0.7571428571,
          "kpj": 0.7794117647,
          "phi": 0.7571428571,
          "product_name_1": "Shirts; men's or boys' (not knitted or crocheted)",
          "product_name_2": "Suits, ensembles, jackets, blazers, trousers, bib and brace overalls, breeches and shorts (other than swimwear); men's or boys' (not knitted or crocheted)"
         }
        ],
        "schema": {
         "fields": [
          {
           "name": "index",
           "type": "integer"
          },
          {
           "name": "product_name_1",
           "type": "string"
          },
          {
           "name": "product_name_2",
           "type": "string"
          },
          {
           "name": "Cpp",
           "type": "integer"
          },
          {
           "name": "Mcp_x",
           "type": "integer"
          },
          {
           "name": "Mcp_y",
           "type": "integer"
          },
          {
           "name": "kpi",
           "type": "number"
          },
          {
           "name": "kpj",
           "type": "number"
          },
          {
           "name": "phi",
           "type": "number"
          }
         ],
         "pandas_version": "1.4.0",
         "primaryKey": [
          "index"
         ]
        }
       },
       "total_rows": 10
      },
      "text/html": [
       "<div>\n",
       "<style scoped>\n",
       "    .dataframe tbody tr th:only-of-type {\n",
       "        vertical-align: middle;\n",
       "    }\n",
       "\n",
       "    .dataframe tbody tr th {\n",
       "        vertical-align: top;\n",
       "    }\n",
       "\n",
       "    .dataframe thead th {\n",
       "        text-align: right;\n",
       "    }\n",
       "</style>\n",
       "<table border=\"1\" class=\"dataframe\">\n",
       "  <thead>\n",
       "    <tr style=\"text-align: right;\">\n",
       "      <th></th>\n",
       "      <th>product_name_1</th>\n",
       "      <th>product_name_2</th>\n",
       "      <th>Cpp</th>\n",
       "      <th>Mcp_x</th>\n",
       "      <th>Mcp_y</th>\n",
       "      <th>kpi</th>\n",
       "      <th>kpj</th>\n",
       "      <th>phi</th>\n",
       "    </tr>\n",
       "  </thead>\n",
       "  <tbody>\n",
       "    <tr>\n",
       "      <th>1149849</th>\n",
       "      <td>Suits, ensembles, jackets, blazers, trousers, bib and brace overalls, breeches and shorts (other than swimwear); men's or boys' (not knitted or crocheted)</td>\n",
       "      <td>Suits, ensembles, jackets, dresses, skirts, divided skirts, trousers, bib and brace overalls, breeches and shorts (other than swimwear); women's or girls' (not knitted or crocheted)</td>\n",
       "      <td>59</td>\n",
       "      <td>68</td>\n",
       "      <td>70</td>\n",
       "      <td>0.87</td>\n",
       "      <td>0.84</td>\n",
       "      <td>0.84</td>\n",
       "    </tr>\n",
       "    <tr>\n",
       "      <th>1153522</th>\n",
       "      <td>Suits, ensembles, jackets, dresses, skirts, divided skirts, trousers, bib and brace overalls, breeches and shorts (other than swimwear); women's or girls' (not knitted or crocheted)</td>\n",
       "      <td>Suits, ensembles, jackets, blazers, trousers, bib and brace overalls, breeches and shorts (other than swimwear); men's or boys' (not knitted or crocheted)</td>\n",
       "      <td>59</td>\n",
       "      <td>70</td>\n",
       "      <td>68</td>\n",
       "      <td>0.84</td>\n",
       "      <td>0.87</td>\n",
       "      <td>0.84</td>\n",
       "    </tr>\n",
       "    <tr>\n",
       "      <th>589806</th>\n",
       "      <td>ICT</td>\n",
       "      <td>Travel and tourism</td>\n",
       "      <td>59</td>\n",
       "      <td>82</td>\n",
       "      <td>86</td>\n",
       "      <td>0.72</td>\n",
       "      <td>0.69</td>\n",
       "      <td>0.69</td>\n",
       "    </tr>\n",
       "    <tr>\n",
       "      <th>1270771</th>\n",
       "      <td>Travel and tourism</td>\n",
       "      <td>ICT</td>\n",
       "      <td>59</td>\n",
       "      <td>86</td>\n",
       "      <td>82</td>\n",
       "      <td>0.69</td>\n",
       "      <td>0.72</td>\n",
       "      <td>0.69</td>\n",
       "    </tr>\n",
       "    <tr>\n",
       "      <th>1271357</th>\n",
       "      <td>Travel and tourism</td>\n",
       "      <td>Transport</td>\n",
       "      <td>57</td>\n",
       "      <td>86</td>\n",
       "      <td>86</td>\n",
       "      <td>0.66</td>\n",
       "      <td>0.66</td>\n",
       "      <td>0.66</td>\n",
       "    </tr>\n",
       "    <tr>\n",
       "      <th>1270116</th>\n",
       "      <td>Transport</td>\n",
       "      <td>Travel and tourism</td>\n",
       "      <td>57</td>\n",
       "      <td>86</td>\n",
       "      <td>86</td>\n",
       "      <td>0.66</td>\n",
       "      <td>0.66</td>\n",
       "      <td>0.66</td>\n",
       "    </tr>\n",
       "    <tr>\n",
       "      <th>1153464</th>\n",
       "      <td>Suits, ensembles, jackets, dresses, skirts, divided skirts, trousers, bib and brace overalls, breeches and shorts (other than swimwear); women's or girls' (not knitted or crocheted)</td>\n",
       "      <td>Shirts; men's or boys' (not knitted or crocheted)</td>\n",
       "      <td>55</td>\n",
       "      <td>70</td>\n",
       "      <td>70</td>\n",
       "      <td>0.79</td>\n",
       "      <td>0.79</td>\n",
       "      <td>0.79</td>\n",
       "    </tr>\n",
       "    <tr>\n",
       "      <th>1081059</th>\n",
       "      <td>Shirts; men's or boys' (not knitted or crocheted)</td>\n",
       "      <td>Suits, ensembles, jackets, dresses, skirts, divided skirts, trousers, bib and brace overalls, breeches and shorts (other than swimwear); women's or girls' (not knitted or crocheted)</td>\n",
       "      <td>55</td>\n",
       "      <td>70</td>\n",
       "      <td>70</td>\n",
       "      <td>0.79</td>\n",
       "      <td>0.79</td>\n",
       "      <td>0.79</td>\n",
       "    </tr>\n",
       "    <tr>\n",
       "      <th>1149789</th>\n",
       "      <td>Suits, ensembles, jackets, blazers, trousers, bib and brace overalls, breeches and shorts (other than swimwear); men's or boys' (not knitted or crocheted)</td>\n",
       "      <td>Shirts; men's or boys' (not knitted or crocheted)</td>\n",
       "      <td>53</td>\n",
       "      <td>68</td>\n",
       "      <td>70</td>\n",
       "      <td>0.78</td>\n",
       "      <td>0.76</td>\n",
       "      <td>0.76</td>\n",
       "    </tr>\n",
       "    <tr>\n",
       "      <th>1081056</th>\n",
       "      <td>Shirts; men's or boys' (not knitted or crocheted)</td>\n",
       "      <td>Suits, ensembles, jackets, blazers, trousers, bib and brace overalls, breeches and shorts (other than swimwear); men's or boys' (not knitted or crocheted)</td>\n",
       "      <td>53</td>\n",
       "      <td>70</td>\n",
       "      <td>68</td>\n",
       "      <td>0.76</td>\n",
       "      <td>0.78</td>\n",
       "      <td>0.76</td>\n",
       "    </tr>\n",
       "  </tbody>\n",
       "</table>\n",
       "</div>"
      ],
      "text/plain": [
       "                                                                                                                                                                                product_name_1                                                                                                                                                                         product_name_2  Cpp  Mcp_x  Mcp_y  kpi  kpj  phi\n",
       "1149849                             Suits, ensembles, jackets, blazers, trousers, bib and brace overalls, breeches and shorts (other than swimwear); men's or boys' (not knitted or crocheted)  Suits, ensembles, jackets, dresses, skirts, divided skirts, trousers, bib and brace overalls, breeches and shorts (other than swimwear); women's or girls' (not knitted or crocheted)   59     68     70 0.87 0.84 0.84\n",
       "1153522  Suits, ensembles, jackets, dresses, skirts, divided skirts, trousers, bib and brace overalls, breeches and shorts (other than swimwear); women's or girls' (not knitted or crocheted)                             Suits, ensembles, jackets, blazers, trousers, bib and brace overalls, breeches and shorts (other than swimwear); men's or boys' (not knitted or crocheted)   59     70     68 0.84 0.87 0.84\n",
       "589806                                                                                                                                                                                     ICT                                                                                                                                                                     Travel and tourism   59     82     86 0.72 0.69 0.69\n",
       "1270771                                                                                                                                                                     Travel and tourism                                                                                                                                                                                    ICT   59     86     82 0.69 0.72 0.69\n",
       "1271357                                                                                                                                                                     Travel and tourism                                                                                                                                                                              Transport   57     86     86 0.66 0.66 0.66\n",
       "1270116                                                                                                                                                                              Transport                                                                                                                                                                     Travel and tourism   57     86     86 0.66 0.66 0.66\n",
       "1153464  Suits, ensembles, jackets, dresses, skirts, divided skirts, trousers, bib and brace overalls, breeches and shorts (other than swimwear); women's or girls' (not knitted or crocheted)                                                                                                                                      Shirts; men's or boys' (not knitted or crocheted)   55     70     70 0.79 0.79 0.79\n",
       "1081059                                                                                                                                      Shirts; men's or boys' (not knitted or crocheted)  Suits, ensembles, jackets, dresses, skirts, divided skirts, trousers, bib and brace overalls, breeches and shorts (other than swimwear); women's or girls' (not knitted or crocheted)   55     70     70 0.79 0.79 0.79\n",
       "1149789                             Suits, ensembles, jackets, blazers, trousers, bib and brace overalls, breeches and shorts (other than swimwear); men's or boys' (not knitted or crocheted)                                                                                                                                      Shirts; men's or boys' (not knitted or crocheted)   53     68     70 0.78 0.76 0.76\n",
       "1081056                                                                                                                                      Shirts; men's or boys' (not knitted or crocheted)                             Suits, ensembles, jackets, blazers, trousers, bib and brace overalls, breeches and shorts (other than swimwear); men's or boys' (not knitted or crocheted)   53     70     68 0.76 0.78 0.76"
      ]
     },
     "execution_count": 14,
     "metadata": {},
     "output_type": "execute_result"
    }
   ],
   "source": [
    "df_cppt.sort_values(by=['Cpp'],ascending=False)[0:10]"
   ]
  },
  {
   "cell_type": "markdown",
   "id": "4970420b-8f1f-4090-97c1-a2ff42fedd6c",
   "metadata": {},
   "source": [
    "#### Most proximate products"
   ]
  },
  {
   "cell_type": "code",
   "execution_count": 15,
   "id": "08e42fb3-06cc-41b9-a002-d446a3ace764",
   "metadata": {},
   "outputs": [
    {
     "data": {
      "application/com.datacamp.data-table.v1+json": {
       "is_truncated": false,
       "table": {
        "data": [
         {
          "Cpp": 9,
          "Mcp_x": 10,
          "Mcp_y": 10,
          "index": 690963,
          "kpi": 0.9,
          "kpj": 0.9,
          "phi": 0.9,
          "product_name_1": "Machine-tools; (including machines for nailing, stapling, glueing or otherwise assembling) for working wood, cork, bone, hard plastics or rubber or similar hard materials",
          "product_name_2": "Machines; calendering or other rolling machines, for other than metal or glass and cylinders therefor"
         },
         {
          "Cpp": 9,
          "Mcp_x": 10,
          "Mcp_y": 10,
          "index": 723013,
          "kpi": 0.9,
          "kpj": 0.9,
          "phi": 0.9,
          "product_name_1": "Machines; calendering or other rolling machines, for other than metal or glass and cylinders therefor",
          "product_name_2": "Machine-tools; (including machines for nailing, stapling, glueing or otherwise assembling) for working wood, cork, bone, hard plastics or rubber or similar hard materials"
         },
         {
          "Cpp": 59,
          "Mcp_x": 68,
          "Mcp_y": 70,
          "index": 1149849,
          "kpi": 0.8676470588,
          "kpj": 0.8428571429,
          "phi": 0.8428571429,
          "product_name_1": "Suits, ensembles, jackets, blazers, trousers, bib and brace overalls, breeches and shorts (other than swimwear); men's or boys' (not knitted or crocheted)",
          "product_name_2": "Suits, ensembles, jackets, dresses, skirts, divided skirts, trousers, bib and brace overalls, breeches and shorts (other than swimwear); women's or girls' (not knitted or crocheted)"
         },
         {
          "Cpp": 59,
          "Mcp_x": 70,
          "Mcp_y": 68,
          "index": 1153522,
          "kpi": 0.8428571429,
          "kpj": 0.8676470588,
          "phi": 0.8428571429,
          "product_name_1": "Suits, ensembles, jackets, dresses, skirts, divided skirts, trousers, bib and brace overalls, breeches and shorts (other than swimwear); women's or girls' (not knitted or crocheted)",
          "product_name_2": "Suits, ensembles, jackets, blazers, trousers, bib and brace overalls, breeches and shorts (other than swimwear); men's or boys' (not knitted or crocheted)"
         },
         {
          "Cpp": 5,
          "Mcp_x": 6,
          "Mcp_y": 6,
          "index": 324476,
          "kpi": 0.8333333333,
          "kpj": 0.8333333333,
          "phi": 0.8333333333,
          "product_name_1": "Cork; articles of natural cork",
          "product_name_2": "Natural cork, raw or simply prepared; waste cork; crushed, granulated or ground cork"
         },
         {
          "Cpp": 5,
          "Mcp_x": 6,
          "Mcp_y": 6,
          "index": 808540,
          "kpi": 0.8333333333,
          "kpj": 0.8333333333,
          "phi": 0.8333333333,
          "product_name_1": "Natural cork, raw or simply prepared; waste cork; crushed, granulated or ground cork",
          "product_name_2": "Cork; articles of natural cork"
         },
         {
          "Cpp": 10,
          "Mcp_x": 12,
          "Mcp_y": 12,
          "index": 1339374,
          "kpi": 0.8333333333,
          "kpj": 0.8333333333,
          "phi": 0.8333333333,
          "product_name_1": "Video recording or reproducing apparatus",
          "product_name_2": "Sound or video recording apparatus; parts thereof of apparatus of heading no. 8519 to 8521"
         },
         {
          "Cpp": 50,
          "Mcp_x": 54,
          "Mcp_y": 60,
          "index": 137061,
          "kpi": 0.9259259259,
          "kpj": 0.8333333333,
          "phi": 0.8333333333,
          "product_name_1": "Blouses, shirts and shirt-blouses; women's or girls', knitted or crocheted",
          "product_name_2": "Suits, ensembles, jackets, dresses, skirts, divided skirts, trousers, bib and brace overalls, breeches and shorts (not swimwear), women's or girls', knitted or crocheted"
         },
         {
          "Cpp": 10,
          "Mcp_x": 12,
          "Mcp_y": 12,
          "index": 1115899,
          "kpi": 0.8333333333,
          "kpj": 0.8333333333,
          "phi": 0.8333333333,
          "product_name_1": "Sound or video recording apparatus; parts thereof of apparatus of heading no. 8519 to 8521",
          "product_name_2": "Video recording or reproducing apparatus"
         },
         {
          "Cpp": 50,
          "Mcp_x": 60,
          "Mcp_y": 54,
          "index": 1151434,
          "kpi": 0.8333333333,
          "kpj": 0.9259259259,
          "phi": 0.8333333333,
          "product_name_1": "Suits, ensembles, jackets, dresses, skirts, divided skirts, trousers, bib and brace overalls, breeches and shorts (not swimwear), women's or girls', knitted or crocheted",
          "product_name_2": "Blouses, shirts and shirt-blouses; women's or girls', knitted or crocheted"
         }
        ],
        "schema": {
         "fields": [
          {
           "name": "index",
           "type": "integer"
          },
          {
           "name": "product_name_1",
           "type": "string"
          },
          {
           "name": "product_name_2",
           "type": "string"
          },
          {
           "name": "Cpp",
           "type": "integer"
          },
          {
           "name": "Mcp_x",
           "type": "integer"
          },
          {
           "name": "Mcp_y",
           "type": "integer"
          },
          {
           "name": "kpi",
           "type": "number"
          },
          {
           "name": "kpj",
           "type": "number"
          },
          {
           "name": "phi",
           "type": "number"
          }
         ],
         "pandas_version": "1.4.0",
         "primaryKey": [
          "index"
         ]
        }
       },
       "total_rows": 10
      },
      "text/html": [
       "<div>\n",
       "<style scoped>\n",
       "    .dataframe tbody tr th:only-of-type {\n",
       "        vertical-align: middle;\n",
       "    }\n",
       "\n",
       "    .dataframe tbody tr th {\n",
       "        vertical-align: top;\n",
       "    }\n",
       "\n",
       "    .dataframe thead th {\n",
       "        text-align: right;\n",
       "    }\n",
       "</style>\n",
       "<table border=\"1\" class=\"dataframe\">\n",
       "  <thead>\n",
       "    <tr style=\"text-align: right;\">\n",
       "      <th></th>\n",
       "      <th>product_name_1</th>\n",
       "      <th>product_name_2</th>\n",
       "      <th>Cpp</th>\n",
       "      <th>Mcp_x</th>\n",
       "      <th>Mcp_y</th>\n",
       "      <th>kpi</th>\n",
       "      <th>kpj</th>\n",
       "      <th>phi</th>\n",
       "    </tr>\n",
       "  </thead>\n",
       "  <tbody>\n",
       "    <tr>\n",
       "      <th>690963</th>\n",
       "      <td>Machine-tools; (including machines for nailing, stapling, glueing or otherwise assembling) for working wood, cork, bone, hard plastics or rubber or similar hard materials</td>\n",
       "      <td>Machines; calendering or other rolling machines, for other than metal or glass and cylinders therefor</td>\n",
       "      <td>9</td>\n",
       "      <td>10</td>\n",
       "      <td>10</td>\n",
       "      <td>0.90</td>\n",
       "      <td>0.90</td>\n",
       "      <td>0.90</td>\n",
       "    </tr>\n",
       "    <tr>\n",
       "      <th>723013</th>\n",
       "      <td>Machines; calendering or other rolling machines, for other than metal or glass and cylinders therefor</td>\n",
       "      <td>Machine-tools; (including machines for nailing, stapling, glueing or otherwise assembling) for working wood, cork, bone, hard plastics or rubber or similar hard materials</td>\n",
       "      <td>9</td>\n",
       "      <td>10</td>\n",
       "      <td>10</td>\n",
       "      <td>0.90</td>\n",
       "      <td>0.90</td>\n",
       "      <td>0.90</td>\n",
       "    </tr>\n",
       "    <tr>\n",
       "      <th>1149849</th>\n",
       "      <td>Suits, ensembles, jackets, blazers, trousers, bib and brace overalls, breeches and shorts (other than swimwear); men's or boys' (not knitted or crocheted)</td>\n",
       "      <td>Suits, ensembles, jackets, dresses, skirts, divided skirts, trousers, bib and brace overalls, breeches and shorts (other than swimwear); women's or girls' (not knitted or crocheted)</td>\n",
       "      <td>59</td>\n",
       "      <td>68</td>\n",
       "      <td>70</td>\n",
       "      <td>0.87</td>\n",
       "      <td>0.84</td>\n",
       "      <td>0.84</td>\n",
       "    </tr>\n",
       "    <tr>\n",
       "      <th>1153522</th>\n",
       "      <td>Suits, ensembles, jackets, dresses, skirts, divided skirts, trousers, bib and brace overalls, breeches and shorts (other than swimwear); women's or girls' (not knitted or crocheted)</td>\n",
       "      <td>Suits, ensembles, jackets, blazers, trousers, bib and brace overalls, breeches and shorts (other than swimwear); men's or boys' (not knitted or crocheted)</td>\n",
       "      <td>59</td>\n",
       "      <td>70</td>\n",
       "      <td>68</td>\n",
       "      <td>0.84</td>\n",
       "      <td>0.87</td>\n",
       "      <td>0.84</td>\n",
       "    </tr>\n",
       "    <tr>\n",
       "      <th>324476</th>\n",
       "      <td>Cork; articles of natural cork</td>\n",
       "      <td>Natural cork, raw or simply prepared; waste cork; crushed, granulated or ground cork</td>\n",
       "      <td>5</td>\n",
       "      <td>6</td>\n",
       "      <td>6</td>\n",
       "      <td>0.83</td>\n",
       "      <td>0.83</td>\n",
       "      <td>0.83</td>\n",
       "    </tr>\n",
       "    <tr>\n",
       "      <th>808540</th>\n",
       "      <td>Natural cork, raw or simply prepared; waste cork; crushed, granulated or ground cork</td>\n",
       "      <td>Cork; articles of natural cork</td>\n",
       "      <td>5</td>\n",
       "      <td>6</td>\n",
       "      <td>6</td>\n",
       "      <td>0.83</td>\n",
       "      <td>0.83</td>\n",
       "      <td>0.83</td>\n",
       "    </tr>\n",
       "    <tr>\n",
       "      <th>1339374</th>\n",
       "      <td>Video recording or reproducing apparatus</td>\n",
       "      <td>Sound or video recording apparatus; parts thereof of apparatus of heading no. 8519 to 8521</td>\n",
       "      <td>10</td>\n",
       "      <td>12</td>\n",
       "      <td>12</td>\n",
       "      <td>0.83</td>\n",
       "      <td>0.83</td>\n",
       "      <td>0.83</td>\n",
       "    </tr>\n",
       "    <tr>\n",
       "      <th>137061</th>\n",
       "      <td>Blouses, shirts and shirt-blouses; women's or girls', knitted or crocheted</td>\n",
       "      <td>Suits, ensembles, jackets, dresses, skirts, divided skirts, trousers, bib and brace overalls, breeches and shorts (not swimwear), women's or girls', knitted or crocheted</td>\n",
       "      <td>50</td>\n",
       "      <td>54</td>\n",
       "      <td>60</td>\n",
       "      <td>0.93</td>\n",
       "      <td>0.83</td>\n",
       "      <td>0.83</td>\n",
       "    </tr>\n",
       "    <tr>\n",
       "      <th>1115899</th>\n",
       "      <td>Sound or video recording apparatus; parts thereof of apparatus of heading no. 8519 to 8521</td>\n",
       "      <td>Video recording or reproducing apparatus</td>\n",
       "      <td>10</td>\n",
       "      <td>12</td>\n",
       "      <td>12</td>\n",
       "      <td>0.83</td>\n",
       "      <td>0.83</td>\n",
       "      <td>0.83</td>\n",
       "    </tr>\n",
       "    <tr>\n",
       "      <th>1151434</th>\n",
       "      <td>Suits, ensembles, jackets, dresses, skirts, divided skirts, trousers, bib and brace overalls, breeches and shorts (not swimwear), women's or girls', knitted or crocheted</td>\n",
       "      <td>Blouses, shirts and shirt-blouses; women's or girls', knitted or crocheted</td>\n",
       "      <td>50</td>\n",
       "      <td>60</td>\n",
       "      <td>54</td>\n",
       "      <td>0.83</td>\n",
       "      <td>0.93</td>\n",
       "      <td>0.83</td>\n",
       "    </tr>\n",
       "  </tbody>\n",
       "</table>\n",
       "</div>"
      ],
      "text/plain": [
       "                                                                                                                                                                                product_name_1                                                                                                                                                                         product_name_2  Cpp  Mcp_x  Mcp_y  kpi  kpj  phi\n",
       "690963              Machine-tools; (including machines for nailing, stapling, glueing or otherwise assembling) for working wood, cork, bone, hard plastics or rubber or similar hard materials                                                                                  Machines; calendering or other rolling machines, for other than metal or glass and cylinders therefor    9     10     10 0.90 0.90 0.90\n",
       "723013                                                                                   Machines; calendering or other rolling machines, for other than metal or glass and cylinders therefor             Machine-tools; (including machines for nailing, stapling, glueing or otherwise assembling) for working wood, cork, bone, hard plastics or rubber or similar hard materials    9     10     10 0.90 0.90 0.90\n",
       "1149849                             Suits, ensembles, jackets, blazers, trousers, bib and brace overalls, breeches and shorts (other than swimwear); men's or boys' (not knitted or crocheted)  Suits, ensembles, jackets, dresses, skirts, divided skirts, trousers, bib and brace overalls, breeches and shorts (other than swimwear); women's or girls' (not knitted or crocheted)   59     68     70 0.87 0.84 0.84\n",
       "1153522  Suits, ensembles, jackets, dresses, skirts, divided skirts, trousers, bib and brace overalls, breeches and shorts (other than swimwear); women's or girls' (not knitted or crocheted)                             Suits, ensembles, jackets, blazers, trousers, bib and brace overalls, breeches and shorts (other than swimwear); men's or boys' (not knitted or crocheted)   59     70     68 0.84 0.87 0.84\n",
       "324476                                                                                                                                                          Cork; articles of natural cork                                                                                                   Natural cork, raw or simply prepared; waste cork; crushed, granulated or ground cork    5      6      6 0.83 0.83 0.83\n",
       "808540                                                                                                    Natural cork, raw or simply prepared; waste cork; crushed, granulated or ground cork                                                                                                                                                         Cork; articles of natural cork    5      6      6 0.83 0.83 0.83\n",
       "1339374                                                                                                                                               Video recording or reproducing apparatus                                                                                             Sound or video recording apparatus; parts thereof of apparatus of heading no. 8519 to 8521   10     12     12 0.83 0.83 0.83\n",
       "137061                                                                                                              Blouses, shirts and shirt-blouses; women's or girls', knitted or crocheted              Suits, ensembles, jackets, dresses, skirts, divided skirts, trousers, bib and brace overalls, breeches and shorts (not swimwear), women's or girls', knitted or crocheted   50     54     60 0.93 0.83 0.83\n",
       "1115899                                                                                             Sound or video recording apparatus; parts thereof of apparatus of heading no. 8519 to 8521                                                                                                                                               Video recording or reproducing apparatus   10     12     12 0.83 0.83 0.83\n",
       "1151434              Suits, ensembles, jackets, dresses, skirts, divided skirts, trousers, bib and brace overalls, breeches and shorts (not swimwear), women's or girls', knitted or crocheted                                                                                                             Blouses, shirts and shirt-blouses; women's or girls', knitted or crocheted   50     60     54 0.83 0.93 0.83"
      ]
     },
     "execution_count": 15,
     "metadata": {},
     "output_type": "execute_result"
    }
   ],
   "source": [
    "df_cppt.sort_values(by=['phi'],ascending=False)[0:10]"
   ]
  },
  {
   "cell_type": "markdown",
   "id": "c09f40e7-345c-47f1-9dd0-a9c8475711ec",
   "metadata": {},
   "source": [
    "## Patents: RCAs and technology proximities"
   ]
  },
  {
   "cell_type": "markdown",
   "id": "f0a6ec96-ea36-4583-bfb4-d45936a51544",
   "metadata": {},
   "source": [
    "We can apply this to patent data as well.\n",
    "\n",
    "At the Growth Lab we have access to the Patstat database as well as all patents from Google Bigquery (both are on the RC Cannon cluster).\n",
    "\n",
    "Patstat includes all patents from ~ 1903 onwards.\n",
    "\n",
    "Below is an outline of what is available in Patstat:\n",
    "\n",
    "![img](https://www.dropbox.com/s/zqgv7fi61c2ip2f/patstat.png?dl=1)\n",
    "\n",
    "Below I use an aggregated file created from the Patstat database, containing:\n",
    "\n",
    "-   Year\n",
    "-   Country\n",
    "-   Technology class\n",
    "-   Count (N of patents)\n",
    "\n",
    "which I put on Dropbox temporarily so we can load it in directly in Google CoLab."
   ]
  },
  {
   "cell_type": "code",
   "execution_count": 16,
   "id": "3f6234dc-caed-47b1-883f-9d13899bd7e1",
   "metadata": {},
   "outputs": [
    {
     "name": "stdout",
     "output_type": "stream",
     "text": [
      "loading file\n",
      "loaded\n"
     ]
    },
    {
     "data": {
      "application/com.datacamp.data-table.v1+json": {
       "is_truncated": false,
       "table": {
        "data": [
         {
          "count": 5,
          "country_iso_code": "THA",
          "country_name": "Thailand",
          "index": 85258,
          "level_0": 82093,
          "tech": "Semiconductors",
          "year": 2004
         },
         {
          "count": 7004,
          "country_iso_code": "DEU",
          "country_name": "Germany",
          "index": 103746,
          "level_0": 100581,
          "tech": "Pharmaceuticals",
          "year": 2012
         },
         {
          "count": 3,
          "country_iso_code": "TWN",
          "country_name": "Chinese Taipei",
          "index": 42722,
          "level_0": 39557,
          "tech": "Electrical machinery, apparatus, energy",
          "year": 1980
         },
         {
          "count": 321,
          "country_iso_code": "KOR",
          "country_name": "Republic of Korea",
          "index": 60264,
          "level_0": 57099,
          "tech": "Materials, metallurgy",
          "year": 1993
         },
         {
          "count": 45,
          "country_iso_code": "GBR",
          "country_name": "United Kingdom",
          "index": 29499,
          "level_0": 26334,
          "tech": "Basic communication processes",
          "year": 1965
         },
         {
          "count": 225,
          "country_iso_code": "AUT",
          "country_name": "Austria",
          "index": 120883,
          "level_0": 117718,
          "tech": "Telecommunications",
          "year": 2018
         },
         {
          "count": 253,
          "country_iso_code": "ESP",
          "country_name": "Spain",
          "index": 88628,
          "level_0": 85463,
          "tech": "Textile and paper machines",
          "year": 2006
         },
         {
          "count": 537,
          "country_iso_code": "KOR",
          "country_name": "Republic of Korea",
          "index": 127755,
          "level_0": 124590,
          "tech": "Organic fine chemistry",
          "year": 2020
         },
         {
          "count": 171,
          "country_iso_code": "FIN",
          "country_name": "Finland",
          "index": 118598,
          "level_0": 115433,
          "tech": "Machine tools",
          "year": 2017
         },
         {
          "count": 1,
          "country_iso_code": "CUB",
          "country_name": "Cuba",
          "index": 39770,
          "level_0": 36605,
          "tech": "Civil engineering",
          "year": 1978
         }
        ],
        "schema": {
         "fields": [
          {
           "name": "index",
           "type": "integer"
          },
          {
           "name": "index",
           "type": "integer"
          },
          {
           "name": "year",
           "type": "integer"
          },
          {
           "name": "country_iso_code",
           "type": "string"
          },
          {
           "name": "country_name",
           "type": "string"
          },
          {
           "name": "tech",
           "type": "string"
          },
          {
           "name": "count",
           "type": "integer"
          }
         ],
         "pandas_version": "1.4.0",
         "primaryKey": [
          "index"
         ]
        }
       },
       "total_rows": 10
      },
      "text/html": [
       "<div>\n",
       "<style scoped>\n",
       "    .dataframe tbody tr th:only-of-type {\n",
       "        vertical-align: middle;\n",
       "    }\n",
       "\n",
       "    .dataframe tbody tr th {\n",
       "        vertical-align: top;\n",
       "    }\n",
       "\n",
       "    .dataframe thead th {\n",
       "        text-align: right;\n",
       "    }\n",
       "</style>\n",
       "<table border=\"1\" class=\"dataframe\">\n",
       "  <thead>\n",
       "    <tr style=\"text-align: right;\">\n",
       "      <th></th>\n",
       "      <th>index</th>\n",
       "      <th>year</th>\n",
       "      <th>country_iso_code</th>\n",
       "      <th>country_name</th>\n",
       "      <th>tech</th>\n",
       "      <th>count</th>\n",
       "    </tr>\n",
       "  </thead>\n",
       "  <tbody>\n",
       "    <tr>\n",
       "      <th>82093</th>\n",
       "      <td>85258</td>\n",
       "      <td>2004</td>\n",
       "      <td>THA</td>\n",
       "      <td>Thailand</td>\n",
       "      <td>Semiconductors</td>\n",
       "      <td>5</td>\n",
       "    </tr>\n",
       "    <tr>\n",
       "      <th>100581</th>\n",
       "      <td>103746</td>\n",
       "      <td>2012</td>\n",
       "      <td>DEU</td>\n",
       "      <td>Germany</td>\n",
       "      <td>Pharmaceuticals</td>\n",
       "      <td>7004</td>\n",
       "    </tr>\n",
       "    <tr>\n",
       "      <th>39557</th>\n",
       "      <td>42722</td>\n",
       "      <td>1980</td>\n",
       "      <td>TWN</td>\n",
       "      <td>Chinese Taipei</td>\n",
       "      <td>Electrical machinery, apparatus, energy</td>\n",
       "      <td>3</td>\n",
       "    </tr>\n",
       "    <tr>\n",
       "      <th>57099</th>\n",
       "      <td>60264</td>\n",
       "      <td>1993</td>\n",
       "      <td>KOR</td>\n",
       "      <td>Republic of Korea</td>\n",
       "      <td>Materials, metallurgy</td>\n",
       "      <td>321</td>\n",
       "    </tr>\n",
       "    <tr>\n",
       "      <th>26334</th>\n",
       "      <td>29499</td>\n",
       "      <td>1965</td>\n",
       "      <td>GBR</td>\n",
       "      <td>United Kingdom</td>\n",
       "      <td>Basic communication processes</td>\n",
       "      <td>45</td>\n",
       "    </tr>\n",
       "    <tr>\n",
       "      <th>117718</th>\n",
       "      <td>120883</td>\n",
       "      <td>2018</td>\n",
       "      <td>AUT</td>\n",
       "      <td>Austria</td>\n",
       "      <td>Telecommunications</td>\n",
       "      <td>225</td>\n",
       "    </tr>\n",
       "    <tr>\n",
       "      <th>85463</th>\n",
       "      <td>88628</td>\n",
       "      <td>2006</td>\n",
       "      <td>ESP</td>\n",
       "      <td>Spain</td>\n",
       "      <td>Textile and paper machines</td>\n",
       "      <td>253</td>\n",
       "    </tr>\n",
       "    <tr>\n",
       "      <th>124590</th>\n",
       "      <td>127755</td>\n",
       "      <td>2020</td>\n",
       "      <td>KOR</td>\n",
       "      <td>Republic of Korea</td>\n",
       "      <td>Organic fine chemistry</td>\n",
       "      <td>537</td>\n",
       "    </tr>\n",
       "    <tr>\n",
       "      <th>115433</th>\n",
       "      <td>118598</td>\n",
       "      <td>2017</td>\n",
       "      <td>FIN</td>\n",
       "      <td>Finland</td>\n",
       "      <td>Machine tools</td>\n",
       "      <td>171</td>\n",
       "    </tr>\n",
       "    <tr>\n",
       "      <th>36605</th>\n",
       "      <td>39770</td>\n",
       "      <td>1978</td>\n",
       "      <td>CUB</td>\n",
       "      <td>Cuba</td>\n",
       "      <td>Civil engineering</td>\n",
       "      <td>1</td>\n",
       "    </tr>\n",
       "  </tbody>\n",
       "</table>\n",
       "</div>"
      ],
      "text/plain": [
       "         index  year country_iso_code       country_name                                     tech  count\n",
       "82093    85258  2004              THA           Thailand                           Semiconductors      5\n",
       "100581  103746  2012              DEU            Germany                          Pharmaceuticals   7004\n",
       "39557    42722  1980              TWN     Chinese Taipei  Electrical machinery, apparatus, energy      3\n",
       "57099    60264  1993              KOR  Republic of Korea                    Materials, metallurgy    321\n",
       "26334    29499  1965              GBR     United Kingdom            Basic communication processes     45\n",
       "117718  120883  2018              AUT            Austria                       Telecommunications    225\n",
       "85463    88628  2006              ESP              Spain               Textile and paper machines    253\n",
       "124590  127755  2020              KOR  Republic of Korea                   Organic fine chemistry    537\n",
       "115433  118598  2017              FIN            Finland                            Machine tools    171\n",
       "36605    39770  1978              CUB               Cuba                        Civil engineering      1"
      ]
     },
     "execution_count": 16,
     "metadata": {},
     "output_type": "execute_result"
    }
   ],
   "source": [
    "# Load STATA file into pandas, directly from URL\n",
    "print('loading file')\n",
    "dfp = pd.read_stata('https://www.dropbox.com/s/nwox3dznoupzm0q/patstat_year_country_tech_inventor_locations.dta?dl=1')\n",
    "print('loaded')\n",
    "\n",
    "# show 10 random rows from the dataset\n",
    "dfp.sample(n=10)"
   ]
  },
  {
   "cell_type": "markdown",
   "id": "edcaa55f-7463-4ad5-bb81-8f9ae9e1086a",
   "metadata": {},
   "source": [
    "### RCAs"
   ]
  },
  {
   "cell_type": "code",
   "execution_count": 17,
   "id": "b14f1eef-d9a3-453b-be49-ebc0ccaea40e",
   "metadata": {},
   "outputs": [
    {
     "name": "stdout",
     "output_type": "stream",
     "text": [
      "creating all country-product-time combinations\n",
      "merging data in\n",
      "calculating properties\n",
      "---------\n",
      "\n",
      " Japan in 1960 \n",
      "\n"
     ]
    },
    {
     "data": {
      "application/com.datacamp.data-table.v1+json": {
       "is_truncated": false,
       "table": {
        "data": [
         {
          "RCAcpt": 27.6117936118,
          "count": 15,
          "country_name": "Japan",
          "index": 433790,
          "tech": "Audio-visual technology",
          "year": 1960
         },
         {
          "RCAcpt": 25.5409090909,
          "count": 9,
          "country_name": "Japan",
          "index": 433799,
          "tech": "Biotechnology",
          "year": 1960
         },
         {
          "RCAcpt": 2.7027417027,
          "count": 1,
          "country_name": "Japan",
          "index": 433797,
          "tech": "Basic communication processes",
          "year": 1960
         },
         {
          "RCAcpt": 2.3325031133,
          "count": 1,
          "country_name": "Japan",
          "index": 433804,
          "tech": "Food chemistry",
          "year": 1960
         },
         {
          "RCAcpt": 1.6242231536,
          "count": 3,
          "country_name": "Japan",
          "index": 433808,
          "tech": "Materials, metallurgy",
          "year": 1960
         },
         {
          "RCAcpt": 1.6082429967,
          "count": 4,
          "country_name": "Japan",
          "index": 433806,
          "tech": "Machine tools",
          "year": 1960
         },
         {
          "RCAcpt": 1.0845396642,
          "count": 2,
          "country_name": "Japan",
          "index": 433816,
          "tech": "Transport",
          "year": 1960
         },
         {
          "RCAcpt": 1.06254432,
          "count": 2,
          "country_name": "Japan",
          "index": 433791,
          "tech": "Civil engineering",
          "year": 1960
         },
         {
          "RCAcpt": 0.7371113735,
          "count": 1,
          "country_name": "Japan",
          "index": 433800,
          "tech": "Chemical engineering",
          "year": 1960
         },
         {
          "RCAcpt": 0.6810909091,
          "count": 2,
          "country_name": "Japan",
          "index": 433814,
          "tech": "Textile and paper machines",
          "year": 1960
         }
        ],
        "schema": {
         "fields": [
          {
           "name": "index",
           "type": "integer"
          },
          {
           "name": "year",
           "type": "integer"
          },
          {
           "name": "country_name",
           "type": "string"
          },
          {
           "name": "tech",
           "type": "string"
          },
          {
           "name": "count",
           "type": "number"
          },
          {
           "name": "RCAcpt",
           "type": "number"
          }
         ],
         "pandas_version": "1.4.0",
         "primaryKey": [
          "index"
         ]
        }
       },
       "total_rows": 10
      },
      "text/html": [
       "<div>\n",
       "<style scoped>\n",
       "    .dataframe tbody tr th:only-of-type {\n",
       "        vertical-align: middle;\n",
       "    }\n",
       "\n",
       "    .dataframe tbody tr th {\n",
       "        vertical-align: top;\n",
       "    }\n",
       "\n",
       "    .dataframe thead th {\n",
       "        text-align: right;\n",
       "    }\n",
       "</style>\n",
       "<table border=\"1\" class=\"dataframe\">\n",
       "  <thead>\n",
       "    <tr style=\"text-align: right;\">\n",
       "      <th></th>\n",
       "      <th>year</th>\n",
       "      <th>country_name</th>\n",
       "      <th>tech</th>\n",
       "      <th>count</th>\n",
       "      <th>RCAcpt</th>\n",
       "    </tr>\n",
       "  </thead>\n",
       "  <tbody>\n",
       "    <tr>\n",
       "      <th>433790</th>\n",
       "      <td>1960</td>\n",
       "      <td>Japan</td>\n",
       "      <td>Audio-visual technology</td>\n",
       "      <td>15.00</td>\n",
       "      <td>27.61</td>\n",
       "    </tr>\n",
       "    <tr>\n",
       "      <th>433799</th>\n",
       "      <td>1960</td>\n",
       "      <td>Japan</td>\n",
       "      <td>Biotechnology</td>\n",
       "      <td>9.00</td>\n",
       "      <td>25.54</td>\n",
       "    </tr>\n",
       "    <tr>\n",
       "      <th>433797</th>\n",
       "      <td>1960</td>\n",
       "      <td>Japan</td>\n",
       "      <td>Basic communication processes</td>\n",
       "      <td>1.00</td>\n",
       "      <td>2.70</td>\n",
       "    </tr>\n",
       "    <tr>\n",
       "      <th>433804</th>\n",
       "      <td>1960</td>\n",
       "      <td>Japan</td>\n",
       "      <td>Food chemistry</td>\n",
       "      <td>1.00</td>\n",
       "      <td>2.33</td>\n",
       "    </tr>\n",
       "    <tr>\n",
       "      <th>433808</th>\n",
       "      <td>1960</td>\n",
       "      <td>Japan</td>\n",
       "      <td>Materials, metallurgy</td>\n",
       "      <td>3.00</td>\n",
       "      <td>1.62</td>\n",
       "    </tr>\n",
       "    <tr>\n",
       "      <th>433806</th>\n",
       "      <td>1960</td>\n",
       "      <td>Japan</td>\n",
       "      <td>Machine tools</td>\n",
       "      <td>4.00</td>\n",
       "      <td>1.61</td>\n",
       "    </tr>\n",
       "    <tr>\n",
       "      <th>433816</th>\n",
       "      <td>1960</td>\n",
       "      <td>Japan</td>\n",
       "      <td>Transport</td>\n",
       "      <td>2.00</td>\n",
       "      <td>1.08</td>\n",
       "    </tr>\n",
       "    <tr>\n",
       "      <th>433791</th>\n",
       "      <td>1960</td>\n",
       "      <td>Japan</td>\n",
       "      <td>Civil engineering</td>\n",
       "      <td>2.00</td>\n",
       "      <td>1.06</td>\n",
       "    </tr>\n",
       "    <tr>\n",
       "      <th>433800</th>\n",
       "      <td>1960</td>\n",
       "      <td>Japan</td>\n",
       "      <td>Chemical engineering</td>\n",
       "      <td>1.00</td>\n",
       "      <td>0.74</td>\n",
       "    </tr>\n",
       "    <tr>\n",
       "      <th>433814</th>\n",
       "      <td>1960</td>\n",
       "      <td>Japan</td>\n",
       "      <td>Textile and paper machines</td>\n",
       "      <td>2.00</td>\n",
       "      <td>0.68</td>\n",
       "    </tr>\n",
       "  </tbody>\n",
       "</table>\n",
       "</div>"
      ],
      "text/plain": [
       "        year country_name                           tech  count  RCAcpt\n",
       "433790  1960        Japan        Audio-visual technology  15.00   27.61\n",
       "433799  1960        Japan                  Biotechnology   9.00   25.54\n",
       "433797  1960        Japan  Basic communication processes   1.00    2.70\n",
       "433804  1960        Japan                 Food chemistry   1.00    2.33\n",
       "433808  1960        Japan          Materials, metallurgy   3.00    1.62\n",
       "433806  1960        Japan                  Machine tools   4.00    1.61\n",
       "433816  1960        Japan                      Transport   2.00    1.08\n",
       "433791  1960        Japan              Civil engineering   2.00    1.06\n",
       "433800  1960        Japan           Chemical engineering   1.00    0.74\n",
       "433814  1960        Japan     Textile and paper machines   2.00    0.68"
      ]
     },
     "execution_count": 17,
     "metadata": {},
     "output_type": "execute_result"
    },
    {
     "name": "stdout",
     "output_type": "stream",
     "text": [
      "---------\n",
      "\n",
      " Japan in 2010 \n",
      "\n"
     ]
    },
    {
     "data": {
      "application/com.datacamp.data-table.v1+json": {
       "is_truncated": false,
       "table": {
        "data": [
         {
          "RCAcpt": 2.5176664743,
          "count": 17847,
          "country_name": "Japan",
          "index": 834591,
          "tech": "Optics",
          "year": 2010
         },
         {
          "RCAcpt": 2.1009009718,
          "count": 19278,
          "country_name": "Japan",
          "index": 834570,
          "tech": "Audio-visual technology",
          "year": 2010
         },
         {
          "RCAcpt": 1.7720639757,
          "count": 5950,
          "country_name": "Japan",
          "index": 834594,
          "tech": "Textile and paper machines",
          "year": 2010
         },
         {
          "RCAcpt": 1.722374307,
          "count": 17287,
          "country_name": "Japan",
          "index": 834602,
          "tech": "Semiconductors",
          "year": 2010
         },
         {
          "RCAcpt": 1.4692356584,
          "count": 20214,
          "country_name": "Japan",
          "index": 834582,
          "tech": "Electrical machinery, apparatus, energy",
          "year": 2010
         },
         {
          "RCAcpt": 1.3878357872,
          "count": 4642,
          "country_name": "Japan",
          "index": 834592,
          "tech": "Surface technology, coating",
          "year": 2010
         },
         {
          "RCAcpt": 1.2993836893,
          "count": 5460,
          "country_name": "Japan",
          "index": 834587,
          "tech": "Macromolecular chemistry, polymers",
          "year": 2010
         },
         {
          "RCAcpt": 1.2250339815,
          "count": 5533,
          "country_name": "Japan",
          "index": 834572,
          "tech": "Engines, pumps, turbines",
          "year": 2010
         },
         {
          "RCAcpt": 1.1696437566,
          "count": 8340,
          "country_name": "Japan",
          "index": 834596,
          "tech": "Transport",
          "year": 2010
         },
         {
          "RCAcpt": 1.1226234413,
          "count": 4743,
          "country_name": "Japan",
          "index": 834589,
          "tech": "Mechanical elements",
          "year": 2010
         }
        ],
        "schema": {
         "fields": [
          {
           "name": "index",
           "type": "integer"
          },
          {
           "name": "year",
           "type": "integer"
          },
          {
           "name": "country_name",
           "type": "string"
          },
          {
           "name": "tech",
           "type": "string"
          },
          {
           "name": "count",
           "type": "number"
          },
          {
           "name": "RCAcpt",
           "type": "number"
          }
         ],
         "pandas_version": "1.4.0",
         "primaryKey": [
          "index"
         ]
        }
       },
       "total_rows": 10
      },
      "text/html": [
       "<div>\n",
       "<style scoped>\n",
       "    .dataframe tbody tr th:only-of-type {\n",
       "        vertical-align: middle;\n",
       "    }\n",
       "\n",
       "    .dataframe tbody tr th {\n",
       "        vertical-align: top;\n",
       "    }\n",
       "\n",
       "    .dataframe thead th {\n",
       "        text-align: right;\n",
       "    }\n",
       "</style>\n",
       "<table border=\"1\" class=\"dataframe\">\n",
       "  <thead>\n",
       "    <tr style=\"text-align: right;\">\n",
       "      <th></th>\n",
       "      <th>year</th>\n",
       "      <th>country_name</th>\n",
       "      <th>tech</th>\n",
       "      <th>count</th>\n",
       "      <th>RCAcpt</th>\n",
       "    </tr>\n",
       "  </thead>\n",
       "  <tbody>\n",
       "    <tr>\n",
       "      <th>834591</th>\n",
       "      <td>2010</td>\n",
       "      <td>Japan</td>\n",
       "      <td>Optics</td>\n",
       "      <td>17847.00</td>\n",
       "      <td>2.52</td>\n",
       "    </tr>\n",
       "    <tr>\n",
       "      <th>834570</th>\n",
       "      <td>2010</td>\n",
       "      <td>Japan</td>\n",
       "      <td>Audio-visual technology</td>\n",
       "      <td>19278.00</td>\n",
       "      <td>2.10</td>\n",
       "    </tr>\n",
       "    <tr>\n",
       "      <th>834594</th>\n",
       "      <td>2010</td>\n",
       "      <td>Japan</td>\n",
       "      <td>Textile and paper machines</td>\n",
       "      <td>5950.00</td>\n",
       "      <td>1.77</td>\n",
       "    </tr>\n",
       "    <tr>\n",
       "      <th>834602</th>\n",
       "      <td>2010</td>\n",
       "      <td>Japan</td>\n",
       "      <td>Semiconductors</td>\n",
       "      <td>17287.00</td>\n",
       "      <td>1.72</td>\n",
       "    </tr>\n",
       "    <tr>\n",
       "      <th>834582</th>\n",
       "      <td>2010</td>\n",
       "      <td>Japan</td>\n",
       "      <td>Electrical machinery, apparatus, energy</td>\n",
       "      <td>20214.00</td>\n",
       "      <td>1.47</td>\n",
       "    </tr>\n",
       "    <tr>\n",
       "      <th>834592</th>\n",
       "      <td>2010</td>\n",
       "      <td>Japan</td>\n",
       "      <td>Surface technology, coating</td>\n",
       "      <td>4642.00</td>\n",
       "      <td>1.39</td>\n",
       "    </tr>\n",
       "    <tr>\n",
       "      <th>834587</th>\n",
       "      <td>2010</td>\n",
       "      <td>Japan</td>\n",
       "      <td>Macromolecular chemistry, polymers</td>\n",
       "      <td>5460.00</td>\n",
       "      <td>1.30</td>\n",
       "    </tr>\n",
       "    <tr>\n",
       "      <th>834572</th>\n",
       "      <td>2010</td>\n",
       "      <td>Japan</td>\n",
       "      <td>Engines, pumps, turbines</td>\n",
       "      <td>5533.00</td>\n",
       "      <td>1.23</td>\n",
       "    </tr>\n",
       "    <tr>\n",
       "      <th>834596</th>\n",
       "      <td>2010</td>\n",
       "      <td>Japan</td>\n",
       "      <td>Transport</td>\n",
       "      <td>8340.00</td>\n",
       "      <td>1.17</td>\n",
       "    </tr>\n",
       "    <tr>\n",
       "      <th>834589</th>\n",
       "      <td>2010</td>\n",
       "      <td>Japan</td>\n",
       "      <td>Mechanical elements</td>\n",
       "      <td>4743.00</td>\n",
       "      <td>1.12</td>\n",
       "    </tr>\n",
       "  </tbody>\n",
       "</table>\n",
       "</div>"
      ],
      "text/plain": [
       "        year country_name                                     tech    count  RCAcpt\n",
       "834591  2010        Japan                                   Optics 17847.00    2.52\n",
       "834570  2010        Japan                  Audio-visual technology 19278.00    2.10\n",
       "834594  2010        Japan               Textile and paper machines  5950.00    1.77\n",
       "834602  2010        Japan                           Semiconductors 17287.00    1.72\n",
       "834582  2010        Japan  Electrical machinery, apparatus, energy 20214.00    1.47\n",
       "834592  2010        Japan              Surface technology, coating  4642.00    1.39\n",
       "834587  2010        Japan       Macromolecular chemistry, polymers  5460.00    1.30\n",
       "834572  2010        Japan                 Engines, pumps, turbines  5533.00    1.23\n",
       "834596  2010        Japan                                Transport  8340.00    1.17\n",
       "834589  2010        Japan                      Mechanical elements  4743.00    1.12"
      ]
     },
     "execution_count": 17,
     "metadata": {},
     "output_type": "execute_result"
    },
    {
     "name": "stdout",
     "output_type": "stream",
     "text": [
      "---------\n",
      "\n",
      " Germany in 1960 \n",
      "\n"
     ]
    },
    {
     "data": {
      "application/com.datacamp.data-table.v1+json": {
       "is_truncated": false,
       "table": {
        "data": [
         {
          "RCAcpt": 1.9757281132,
          "count": 152,
          "country_name": "Germany",
          "index": 433216,
          "tech": "Optics",
          "year": 1960
         },
         {
          "RCAcpt": 1.7196633512,
          "count": 18,
          "country_name": "Germany",
          "index": 433226,
          "tech": "Digital communication",
          "year": 1960
         },
         {
          "RCAcpt": 1.495867543,
          "count": 256,
          "country_name": "Germany",
          "index": 433203,
          "tech": "Basic materials chemistry",
          "year": 1960
         },
         {
          "RCAcpt": 1.3420294919,
          "count": 223,
          "country_name": "Germany",
          "index": 433200,
          "tech": "Other consumer goods",
          "year": 1960
         },
         {
          "RCAcpt": 1.3330723653,
          "count": 510,
          "country_name": "Germany",
          "index": 433207,
          "tech": "Electrical machinery, apparatus, energy",
          "year": 1960
         },
         {
          "RCAcpt": 1.327459429,
          "count": 33,
          "country_name": "Germany",
          "index": 433208,
          "tech": "Environmental technology",
          "year": 1960
         },
         {
          "RCAcpt": 1.2837764601,
          "count": 129,
          "country_name": "Germany",
          "index": 433212,
          "tech": "Macromolecular chemistry, polymers",
          "year": 1960
         },
         {
          "RCAcpt": 1.2176265559,
          "count": 65,
          "country_name": "Germany",
          "index": 433217,
          "tech": "Surface technology, coating",
          "year": 1960
         },
         {
          "RCAcpt": 1.1758381888,
          "count": 4,
          "country_name": "Germany",
          "index": 433223,
          "tech": "Analysis of biological materials",
          "year": 1960
         },
         {
          "RCAcpt": 1.1744339235,
          "count": 193,
          "country_name": "Germany",
          "index": 433221,
          "tech": "Transport",
          "year": 1960
         }
        ],
        "schema": {
         "fields": [
          {
           "name": "index",
           "type": "integer"
          },
          {
           "name": "year",
           "type": "integer"
          },
          {
           "name": "country_name",
           "type": "string"
          },
          {
           "name": "tech",
           "type": "string"
          },
          {
           "name": "count",
           "type": "number"
          },
          {
           "name": "RCAcpt",
           "type": "number"
          }
         ],
         "pandas_version": "1.4.0",
         "primaryKey": [
          "index"
         ]
        }
       },
       "total_rows": 10
      },
      "text/html": [
       "<div>\n",
       "<style scoped>\n",
       "    .dataframe tbody tr th:only-of-type {\n",
       "        vertical-align: middle;\n",
       "    }\n",
       "\n",
       "    .dataframe tbody tr th {\n",
       "        vertical-align: top;\n",
       "    }\n",
       "\n",
       "    .dataframe thead th {\n",
       "        text-align: right;\n",
       "    }\n",
       "</style>\n",
       "<table border=\"1\" class=\"dataframe\">\n",
       "  <thead>\n",
       "    <tr style=\"text-align: right;\">\n",
       "      <th></th>\n",
       "      <th>year</th>\n",
       "      <th>country_name</th>\n",
       "      <th>tech</th>\n",
       "      <th>count</th>\n",
       "      <th>RCAcpt</th>\n",
       "    </tr>\n",
       "  </thead>\n",
       "  <tbody>\n",
       "    <tr>\n",
       "      <th>433216</th>\n",
       "      <td>1960</td>\n",
       "      <td>Germany</td>\n",
       "      <td>Optics</td>\n",
       "      <td>152.00</td>\n",
       "      <td>1.98</td>\n",
       "    </tr>\n",
       "    <tr>\n",
       "      <th>433226</th>\n",
       "      <td>1960</td>\n",
       "      <td>Germany</td>\n",
       "      <td>Digital communication</td>\n",
       "      <td>18.00</td>\n",
       "      <td>1.72</td>\n",
       "    </tr>\n",
       "    <tr>\n",
       "      <th>433203</th>\n",
       "      <td>1960</td>\n",
       "      <td>Germany</td>\n",
       "      <td>Basic materials chemistry</td>\n",
       "      <td>256.00</td>\n",
       "      <td>1.50</td>\n",
       "    </tr>\n",
       "    <tr>\n",
       "      <th>433200</th>\n",
       "      <td>1960</td>\n",
       "      <td>Germany</td>\n",
       "      <td>Other consumer goods</td>\n",
       "      <td>223.00</td>\n",
       "      <td>1.34</td>\n",
       "    </tr>\n",
       "    <tr>\n",
       "      <th>433207</th>\n",
       "      <td>1960</td>\n",
       "      <td>Germany</td>\n",
       "      <td>Electrical machinery, apparatus, energy</td>\n",
       "      <td>510.00</td>\n",
       "      <td>1.33</td>\n",
       "    </tr>\n",
       "    <tr>\n",
       "      <th>433208</th>\n",
       "      <td>1960</td>\n",
       "      <td>Germany</td>\n",
       "      <td>Environmental technology</td>\n",
       "      <td>33.00</td>\n",
       "      <td>1.33</td>\n",
       "    </tr>\n",
       "    <tr>\n",
       "      <th>433212</th>\n",
       "      <td>1960</td>\n",
       "      <td>Germany</td>\n",
       "      <td>Macromolecular chemistry, polymers</td>\n",
       "      <td>129.00</td>\n",
       "      <td>1.28</td>\n",
       "    </tr>\n",
       "    <tr>\n",
       "      <th>433217</th>\n",
       "      <td>1960</td>\n",
       "      <td>Germany</td>\n",
       "      <td>Surface technology, coating</td>\n",
       "      <td>65.00</td>\n",
       "      <td>1.22</td>\n",
       "    </tr>\n",
       "    <tr>\n",
       "      <th>433223</th>\n",
       "      <td>1960</td>\n",
       "      <td>Germany</td>\n",
       "      <td>Analysis of biological materials</td>\n",
       "      <td>4.00</td>\n",
       "      <td>1.18</td>\n",
       "    </tr>\n",
       "    <tr>\n",
       "      <th>433221</th>\n",
       "      <td>1960</td>\n",
       "      <td>Germany</td>\n",
       "      <td>Transport</td>\n",
       "      <td>193.00</td>\n",
       "      <td>1.17</td>\n",
       "    </tr>\n",
       "  </tbody>\n",
       "</table>\n",
       "</div>"
      ],
      "text/plain": [
       "        year country_name                                     tech  count  RCAcpt\n",
       "433216  1960      Germany                                   Optics 152.00    1.98\n",
       "433226  1960      Germany                    Digital communication  18.00    1.72\n",
       "433203  1960      Germany                Basic materials chemistry 256.00    1.50\n",
       "433200  1960      Germany                     Other consumer goods 223.00    1.34\n",
       "433207  1960      Germany  Electrical machinery, apparatus, energy 510.00    1.33\n",
       "433208  1960      Germany                 Environmental technology  33.00    1.33\n",
       "433212  1960      Germany       Macromolecular chemistry, polymers 129.00    1.28\n",
       "433217  1960      Germany              Surface technology, coating  65.00    1.22\n",
       "433223  1960      Germany         Analysis of biological materials   4.00    1.18\n",
       "433221  1960      Germany                                Transport 193.00    1.17"
      ]
     },
     "execution_count": 17,
     "metadata": {},
     "output_type": "execute_result"
    },
    {
     "name": "stdout",
     "output_type": "stream",
     "text": [
      "---------\n",
      "\n",
      " Germany in 2010 \n",
      "\n"
     ]
    },
    {
     "data": {
      "application/com.datacamp.data-table.v1+json": {
       "is_truncated": false,
       "table": {
        "data": [
         {
          "RCAcpt": 2.1688082174,
          "count": 5825,
          "country_name": "Germany",
          "index": 833994,
          "tech": "Mechanical elements",
          "year": 2010
         },
         {
          "RCAcpt": 2.0256718055,
          "count": 9182,
          "country_name": "Germany",
          "index": 834001,
          "tech": "Transport",
          "year": 2010
         },
         {
          "RCAcpt": 1.7954287751,
          "count": 4796,
          "country_name": "Germany",
          "index": 833992,
          "tech": "Macromolecular chemistry, polymers",
          "year": 2010
         },
         {
          "RCAcpt": 1.7524118575,
          "count": 4721,
          "country_name": "Germany",
          "index": 833991,
          "tech": "Machine tools",
          "year": 2010
         },
         {
          "RCAcpt": 1.6885505377,
          "count": 4571,
          "country_name": "Germany",
          "index": 833983,
          "tech": "Basic materials chemistry",
          "year": 2010
         },
         {
          "RCAcpt": 1.6045376662,
          "count": 4607,
          "country_name": "Germany",
          "index": 833977,
          "tech": "Engines, pumps, turbines",
          "year": 2010
         },
         {
          "RCAcpt": 1.5056402811,
          "count": 9064,
          "country_name": "Germany",
          "index": 834002,
          "tech": "Organic fine chemistry",
          "year": 2010
         },
         {
          "RCAcpt": 1.3796329489,
          "count": 4058,
          "country_name": "Germany",
          "index": 833978,
          "tech": "Handling",
          "year": 2010
         },
         {
          "RCAcpt": 1.3188897454,
          "count": 3700,
          "country_name": "Germany",
          "index": 833985,
          "tech": "Chemical engineering",
          "year": 2010
         },
         {
          "RCAcpt": 1.3024212269,
          "count": 2780,
          "country_name": "Germany",
          "index": 833999,
          "tech": "Textile and paper machines",
          "year": 2010
         }
        ],
        "schema": {
         "fields": [
          {
           "name": "index",
           "type": "integer"
          },
          {
           "name": "year",
           "type": "integer"
          },
          {
           "name": "country_name",
           "type": "string"
          },
          {
           "name": "tech",
           "type": "string"
          },
          {
           "name": "count",
           "type": "number"
          },
          {
           "name": "RCAcpt",
           "type": "number"
          }
         ],
         "pandas_version": "1.4.0",
         "primaryKey": [
          "index"
         ]
        }
       },
       "total_rows": 10
      },
      "text/html": [
       "<div>\n",
       "<style scoped>\n",
       "    .dataframe tbody tr th:only-of-type {\n",
       "        vertical-align: middle;\n",
       "    }\n",
       "\n",
       "    .dataframe tbody tr th {\n",
       "        vertical-align: top;\n",
       "    }\n",
       "\n",
       "    .dataframe thead th {\n",
       "        text-align: right;\n",
       "    }\n",
       "</style>\n",
       "<table border=\"1\" class=\"dataframe\">\n",
       "  <thead>\n",
       "    <tr style=\"text-align: right;\">\n",
       "      <th></th>\n",
       "      <th>year</th>\n",
       "      <th>country_name</th>\n",
       "      <th>tech</th>\n",
       "      <th>count</th>\n",
       "      <th>RCAcpt</th>\n",
       "    </tr>\n",
       "  </thead>\n",
       "  <tbody>\n",
       "    <tr>\n",
       "      <th>833994</th>\n",
       "      <td>2010</td>\n",
       "      <td>Germany</td>\n",
       "      <td>Mechanical elements</td>\n",
       "      <td>5825.00</td>\n",
       "      <td>2.17</td>\n",
       "    </tr>\n",
       "    <tr>\n",
       "      <th>834001</th>\n",
       "      <td>2010</td>\n",
       "      <td>Germany</td>\n",
       "      <td>Transport</td>\n",
       "      <td>9182.00</td>\n",
       "      <td>2.03</td>\n",
       "    </tr>\n",
       "    <tr>\n",
       "      <th>833992</th>\n",
       "      <td>2010</td>\n",
       "      <td>Germany</td>\n",
       "      <td>Macromolecular chemistry, polymers</td>\n",
       "      <td>4796.00</td>\n",
       "      <td>1.80</td>\n",
       "    </tr>\n",
       "    <tr>\n",
       "      <th>833991</th>\n",
       "      <td>2010</td>\n",
       "      <td>Germany</td>\n",
       "      <td>Machine tools</td>\n",
       "      <td>4721.00</td>\n",
       "      <td>1.75</td>\n",
       "    </tr>\n",
       "    <tr>\n",
       "      <th>833983</th>\n",
       "      <td>2010</td>\n",
       "      <td>Germany</td>\n",
       "      <td>Basic materials chemistry</td>\n",
       "      <td>4571.00</td>\n",
       "      <td>1.69</td>\n",
       "    </tr>\n",
       "    <tr>\n",
       "      <th>833977</th>\n",
       "      <td>2010</td>\n",
       "      <td>Germany</td>\n",
       "      <td>Engines, pumps, turbines</td>\n",
       "      <td>4607.00</td>\n",
       "      <td>1.60</td>\n",
       "    </tr>\n",
       "    <tr>\n",
       "      <th>834002</th>\n",
       "      <td>2010</td>\n",
       "      <td>Germany</td>\n",
       "      <td>Organic fine chemistry</td>\n",
       "      <td>9064.00</td>\n",
       "      <td>1.51</td>\n",
       "    </tr>\n",
       "    <tr>\n",
       "      <th>833978</th>\n",
       "      <td>2010</td>\n",
       "      <td>Germany</td>\n",
       "      <td>Handling</td>\n",
       "      <td>4058.00</td>\n",
       "      <td>1.38</td>\n",
       "    </tr>\n",
       "    <tr>\n",
       "      <th>833985</th>\n",
       "      <td>2010</td>\n",
       "      <td>Germany</td>\n",
       "      <td>Chemical engineering</td>\n",
       "      <td>3700.00</td>\n",
       "      <td>1.32</td>\n",
       "    </tr>\n",
       "    <tr>\n",
       "      <th>833999</th>\n",
       "      <td>2010</td>\n",
       "      <td>Germany</td>\n",
       "      <td>Textile and paper machines</td>\n",
       "      <td>2780.00</td>\n",
       "      <td>1.30</td>\n",
       "    </tr>\n",
       "  </tbody>\n",
       "</table>\n",
       "</div>"
      ],
      "text/plain": [
       "        year country_name                                tech   count  RCAcpt\n",
       "833994  2010      Germany                 Mechanical elements 5825.00    2.17\n",
       "834001  2010      Germany                           Transport 9182.00    2.03\n",
       "833992  2010      Germany  Macromolecular chemistry, polymers 4796.00    1.80\n",
       "833991  2010      Germany                       Machine tools 4721.00    1.75\n",
       "833983  2010      Germany           Basic materials chemistry 4571.00    1.69\n",
       "833977  2010      Germany            Engines, pumps, turbines 4607.00    1.60\n",
       "834002  2010      Germany              Organic fine chemistry 9064.00    1.51\n",
       "833978  2010      Germany                            Handling 4058.00    1.38\n",
       "833985  2010      Germany                Chemical engineering 3700.00    1.32\n",
       "833999  2010      Germany          Textile and paper machines 2780.00    1.30"
      ]
     },
     "execution_count": 17,
     "metadata": {},
     "output_type": "execute_result"
    }
   ],
   "source": [
    "dfp_rca = calc_rca(data=dfp,\n",
    "                   country_col='country_name',\n",
    "                   product_col='tech',\n",
    "                   time_col='year',\n",
    "                   value_col='count')\n",
    "\n",
    "# What were Japan and Germany specialized in, in 1960 and 2010?\n",
    "for country in ['Japan','Germany']:\n",
    "    for year in [1960, 2010]:\n",
    "        print(f\"---------\")\n",
    "        print(f\"\\n {country} in {year} \\n\")\n",
    "        dft = dfp_rca[dfp_rca['country_name']==country].copy()\n",
    "        dft = dft[dft['year']==year]\n",
    "        # --\n",
    "        dft.sort_values(by=['RCAcpt'],ascending=False)[0:10]"
   ]
  },
  {
   "cell_type": "markdown",
   "id": "e91b1ac2-2923-491b-81bd-f5568b74740b",
   "metadata": {},
   "source": [
    "### Technology proximities"
   ]
  },
  {
   "cell_type": "markdown",
   "id": "b3706b1d-4f36-4d2f-9d13-9f4b1d6c06d6",
   "metadata": {},
   "source": [
    "What technology classes are most proximate (in 2010)?"
   ]
  },
  {
   "cell_type": "code",
   "execution_count": 18,
   "id": "5acee362-275f-476c-8dba-26226d367dca",
   "metadata": {},
   "outputs": [
    {
     "name": "stdout",
     "output_type": "stream",
     "text": [
      "cppt patent co-occurences and proximities dataframe ready\n"
     ]
    }
   ],
   "source": [
    "# Define Mcp\n",
    "dfp_rca['Mcp'] = 0\n",
    "dfp_rca.loc[dfp_rca['RCAcpt']>1,'Mcp'] = 1\n",
    "\n",
    "# Keep only years 2010\n",
    "#dft = dfp_rca[ (dfp_rca['year']>=1990) & (dfp_rca['year']<=2020)].copy()\n",
    "dft = dfp_rca[ (dfp_rca['year']==2010) ].copy()\n",
    "\n",
    "# Keep only country-product combinations where Mcp == 1 (thus RCAcp > 1)\n",
    "dft = dft[dft['Mcp']==1]\n",
    "\n",
    "# Calculate cppt\n",
    "dfp_cppt = calc_cppt(dft,country_col='country_name',product_col='tech')\n",
    "print('cppt patent co-occurences and proximities dataframe ready')"
   ]
  },
  {
   "cell_type": "code",
   "execution_count": 19,
   "id": "4f9eb1e3-6989-4171-ab4f-06e4870f0bbe",
   "metadata": {},
   "outputs": [
    {
     "data": {
      "application/com.datacamp.data-table.v1+json": {
       "is_truncated": false,
       "table": {
        "data": [
         {
          "Cpp": 27,
          "Mcp_x": 38,
          "Mcp_y": 45,
          "index": 424,
          "kpi": 0.7105263158,
          "kpj": 0.6,
          "phi": 0.6,
          "tech_1": "Environmental technology",
          "tech_2": "Materials, metallurgy"
         },
         {
          "Cpp": 27,
          "Mcp_x": 45,
          "Mcp_y": 38,
          "index": 656,
          "kpi": 0.6,
          "kpj": 0.7105263158,
          "phi": 0.6,
          "tech_1": "Materials, metallurgy",
          "tech_2": "Environmental technology"
         },
         {
          "Cpp": 28,
          "Mcp_x": 48,
          "Mcp_y": 45,
          "index": 188,
          "kpi": 0.5833333333,
          "kpj": 0.6222222222,
          "phi": 0.5833333333,
          "tech_1": "Chemical engineering",
          "tech_2": "Materials, metallurgy"
         },
         {
          "Cpp": 28,
          "Mcp_x": 45,
          "Mcp_y": 48,
          "index": 649,
          "kpi": 0.6222222222,
          "kpj": 0.5833333333,
          "phi": 0.5833333333,
          "tech_1": "Materials, metallurgy",
          "tech_2": "Chemical engineering"
         },
         {
          "Cpp": 26,
          "Mcp_x": 45,
          "Mcp_y": 43,
          "index": 676,
          "kpi": 0.5777777778,
          "kpj": 0.6046511628,
          "phi": 0.5777777778,
          "tech_1": "Materials, metallurgy",
          "tech_2": "Thermal processes and apparatus"
         },
         {
          "Cpp": 26,
          "Mcp_x": 43,
          "Mcp_y": 45,
          "index": 1137,
          "kpi": 0.6046511628,
          "kpj": 0.5777777778,
          "phi": 0.5777777778,
          "tech_1": "Thermal processes and apparatus",
          "tech_2": "Materials, metallurgy"
         },
         {
          "Cpp": 38,
          "Mcp_x": 66,
          "Mcp_y": 51,
          "index": 230,
          "kpi": 0.5757575758,
          "kpj": 0.7450980392,
          "phi": 0.5757575758,
          "tech_1": "Civil engineering",
          "tech_2": "Other special machines"
         },
         {
          "Cpp": 38,
          "Mcp_x": 51,
          "Mcp_y": 66,
          "index": 920,
          "kpi": 0.7450980392,
          "kpj": 0.5757575758,
          "phi": 0.5757575758,
          "tech_1": "Other special machines",
          "tech_2": "Civil engineering"
         },
         {
          "Cpp": 21,
          "Mcp_x": 37,
          "Mcp_y": 31,
          "index": 334,
          "kpi": 0.5675675676,
          "kpj": 0.6774193548,
          "phi": 0.5675675676,
          "tech_1": "Digital communication",
          "tech_2": "Telecommunications"
         },
         {
          "Cpp": 21,
          "Mcp_x": 31,
          "Mcp_y": 37,
          "index": 1059,
          "kpi": 0.6774193548,
          "kpj": 0.5675675676,
          "phi": 0.5675675676,
          "tech_1": "Telecommunications",
          "tech_2": "Digital communication"
         }
        ],
        "schema": {
         "fields": [
          {
           "name": "index",
           "type": "integer"
          },
          {
           "name": "tech_1",
           "type": "string"
          },
          {
           "name": "tech_2",
           "type": "string"
          },
          {
           "name": "Cpp",
           "type": "integer"
          },
          {
           "name": "Mcp_x",
           "type": "integer"
          },
          {
           "name": "Mcp_y",
           "type": "integer"
          },
          {
           "name": "kpi",
           "type": "number"
          },
          {
           "name": "kpj",
           "type": "number"
          },
          {
           "name": "phi",
           "type": "number"
          }
         ],
         "pandas_version": "1.4.0",
         "primaryKey": [
          "index"
         ]
        }
       },
       "total_rows": 10
      },
      "text/html": [
       "<div>\n",
       "<style scoped>\n",
       "    .dataframe tbody tr th:only-of-type {\n",
       "        vertical-align: middle;\n",
       "    }\n",
       "\n",
       "    .dataframe tbody tr th {\n",
       "        vertical-align: top;\n",
       "    }\n",
       "\n",
       "    .dataframe thead th {\n",
       "        text-align: right;\n",
       "    }\n",
       "</style>\n",
       "<table border=\"1\" class=\"dataframe\">\n",
       "  <thead>\n",
       "    <tr style=\"text-align: right;\">\n",
       "      <th></th>\n",
       "      <th>tech_1</th>\n",
       "      <th>tech_2</th>\n",
       "      <th>Cpp</th>\n",
       "      <th>Mcp_x</th>\n",
       "      <th>Mcp_y</th>\n",
       "      <th>kpi</th>\n",
       "      <th>kpj</th>\n",
       "      <th>phi</th>\n",
       "    </tr>\n",
       "  </thead>\n",
       "  <tbody>\n",
       "    <tr>\n",
       "      <th>424</th>\n",
       "      <td>Environmental technology</td>\n",
       "      <td>Materials, metallurgy</td>\n",
       "      <td>27</td>\n",
       "      <td>38</td>\n",
       "      <td>45</td>\n",
       "      <td>0.71</td>\n",
       "      <td>0.60</td>\n",
       "      <td>0.60</td>\n",
       "    </tr>\n",
       "    <tr>\n",
       "      <th>656</th>\n",
       "      <td>Materials, metallurgy</td>\n",
       "      <td>Environmental technology</td>\n",
       "      <td>27</td>\n",
       "      <td>45</td>\n",
       "      <td>38</td>\n",
       "      <td>0.60</td>\n",
       "      <td>0.71</td>\n",
       "      <td>0.60</td>\n",
       "    </tr>\n",
       "    <tr>\n",
       "      <th>188</th>\n",
       "      <td>Chemical engineering</td>\n",
       "      <td>Materials, metallurgy</td>\n",
       "      <td>28</td>\n",
       "      <td>48</td>\n",
       "      <td>45</td>\n",
       "      <td>0.58</td>\n",
       "      <td>0.62</td>\n",
       "      <td>0.58</td>\n",
       "    </tr>\n",
       "    <tr>\n",
       "      <th>649</th>\n",
       "      <td>Materials, metallurgy</td>\n",
       "      <td>Chemical engineering</td>\n",
       "      <td>28</td>\n",
       "      <td>45</td>\n",
       "      <td>48</td>\n",
       "      <td>0.62</td>\n",
       "      <td>0.58</td>\n",
       "      <td>0.58</td>\n",
       "    </tr>\n",
       "    <tr>\n",
       "      <th>676</th>\n",
       "      <td>Materials, metallurgy</td>\n",
       "      <td>Thermal processes and apparatus</td>\n",
       "      <td>26</td>\n",
       "      <td>45</td>\n",
       "      <td>43</td>\n",
       "      <td>0.58</td>\n",
       "      <td>0.60</td>\n",
       "      <td>0.58</td>\n",
       "    </tr>\n",
       "    <tr>\n",
       "      <th>1137</th>\n",
       "      <td>Thermal processes and apparatus</td>\n",
       "      <td>Materials, metallurgy</td>\n",
       "      <td>26</td>\n",
       "      <td>43</td>\n",
       "      <td>45</td>\n",
       "      <td>0.60</td>\n",
       "      <td>0.58</td>\n",
       "      <td>0.58</td>\n",
       "    </tr>\n",
       "    <tr>\n",
       "      <th>230</th>\n",
       "      <td>Civil engineering</td>\n",
       "      <td>Other special machines</td>\n",
       "      <td>38</td>\n",
       "      <td>66</td>\n",
       "      <td>51</td>\n",
       "      <td>0.58</td>\n",
       "      <td>0.75</td>\n",
       "      <td>0.58</td>\n",
       "    </tr>\n",
       "    <tr>\n",
       "      <th>920</th>\n",
       "      <td>Other special machines</td>\n",
       "      <td>Civil engineering</td>\n",
       "      <td>38</td>\n",
       "      <td>51</td>\n",
       "      <td>66</td>\n",
       "      <td>0.75</td>\n",
       "      <td>0.58</td>\n",
       "      <td>0.58</td>\n",
       "    </tr>\n",
       "    <tr>\n",
       "      <th>334</th>\n",
       "      <td>Digital communication</td>\n",
       "      <td>Telecommunications</td>\n",
       "      <td>21</td>\n",
       "      <td>37</td>\n",
       "      <td>31</td>\n",
       "      <td>0.57</td>\n",
       "      <td>0.68</td>\n",
       "      <td>0.57</td>\n",
       "    </tr>\n",
       "    <tr>\n",
       "      <th>1059</th>\n",
       "      <td>Telecommunications</td>\n",
       "      <td>Digital communication</td>\n",
       "      <td>21</td>\n",
       "      <td>31</td>\n",
       "      <td>37</td>\n",
       "      <td>0.68</td>\n",
       "      <td>0.57</td>\n",
       "      <td>0.57</td>\n",
       "    </tr>\n",
       "  </tbody>\n",
       "</table>\n",
       "</div>"
      ],
      "text/plain": [
       "                               tech_1                           tech_2  Cpp  Mcp_x  Mcp_y  kpi  kpj  phi\n",
       "424          Environmental technology            Materials, metallurgy   27     38     45 0.71 0.60 0.60\n",
       "656             Materials, metallurgy         Environmental technology   27     45     38 0.60 0.71 0.60\n",
       "188              Chemical engineering            Materials, metallurgy   28     48     45 0.58 0.62 0.58\n",
       "649             Materials, metallurgy             Chemical engineering   28     45     48 0.62 0.58 0.58\n",
       "676             Materials, metallurgy  Thermal processes and apparatus   26     45     43 0.58 0.60 0.58\n",
       "1137  Thermal processes and apparatus            Materials, metallurgy   26     43     45 0.60 0.58 0.58\n",
       "230                 Civil engineering           Other special machines   38     66     51 0.58 0.75 0.58\n",
       "920            Other special machines                Civil engineering   38     51     66 0.75 0.58 0.58\n",
       "334             Digital communication               Telecommunications   21     37     31 0.57 0.68 0.57\n",
       "1059               Telecommunications            Digital communication   21     31     37 0.68 0.57 0.57"
      ]
     },
     "execution_count": 19,
     "metadata": {},
     "output_type": "execute_result"
    }
   ],
   "source": [
    "# Show most proximate technologies\n",
    "dfp_cppt.sort_values(by=['phi'],ascending=False)[0:10]"
   ]
  },
  {
   "cell_type": "markdown",
   "id": "8db6d59f-03c6-4c0b-8ab3-5eeaf306d14f",
   "metadata": {},
   "source": [
    "You can use density regressions as well here to predict technological diversification of countries."
   ]
  },
  {
   "cell_type": "markdown",
   "id": "0ced039a-5a6f-4f7d-88ec-f3613827dba7",
   "metadata": {},
   "source": [
    "## Product space"
   ]
  },
  {
   "cell_type": "markdown",
   "id": "b2158700-aa69-4311-a2e9-4a0dd4859a0e",
   "metadata": {},
   "source": [
    "### Overview\n",
    "\n",
    "\n",
    "\n",
    "We now have a measure of similarity between products (and patents), which is the core of the product space.\n",
    "\n",
    "[https://atlas.cid.harvard.edu/explore/network?country=114&year=2018&productClass=HS&product=undefined&startYear=undefined&target=Product&partner=undefined](https://atlas.cid.harvard.edu/explore/network?country=114&year=2018&productClass=HS&product=undefined&startYear=undefined&target=Product&partner=undefined)\n",
    "\n",
    "![img](/home/linux/Dropbox/proj/org_zhtml_projects/product-space-eci-workshop/imgs/product_space_atlas_website.png)\n",
    "\n",
    "![img](https://www.dropbox.com/s/izag1xf28yldanf/product_space_atlas_website.png?dl=1)\n",
    "\n",
    "Below we will explore the product space using Python. You can then directly manipulate the product space and visualize selectively if not possible in the Atlas interface (e.g. only products exported to certain countries).\n",
    "\n",
    "The Github repo for this is available at [https://github.com/matteha/py-productspace](https://github.com/matteha/py-productspace).\n",
    "\n",
    "What we need is information on:\n",
    "\n",
    "-   Edges (ties) between nodes\n",
    "    \n",
    "    Ties between nodes represent the product proximity calculated above. Each product pair has a proximity value, but visualizing all ties, however, would result in a major &ldquo;hairball&rdquo;.\n",
    "    \n",
    "    To determine which of the ties to visualize in the product space, a &rsquo;maximum spanning tree algorithm&rsquo; is used (to make sure all nodes are connected directly or indirectly) in conjunction with a certain proximity threshold (0.55 minimum conditional probability). The details can be found in the Supplementary Material of Hidalgo et al. (2007) at [https://science.sciencemag.org/content/suppl/2007/07/26/317.5837.482.DC1](https://science.sciencemag.org/content/suppl/2007/07/26/317.5837.482.DC1).\n",
    "    \n",
    "    The data on the ties of nodes is available in the Atlas data repository at:\n",
    "    [https://dataverse.harvard.edu/file.xhtml?persistentId=doi:10.7910/DVN/FCDZBN/QSEETD&version=1.1](https://dataverse.harvard.edu/file.xhtml?persistentId=doi:10.7910/DVN/FCDZBN/QSEETD&version=1.1)\n",
    "    \n",
    "    We can directly load it into Python using the link below (temporarily for this session, when using Harvard&rsquo;s dataverse you&rsquo;d need to sign a short User Agreement form so you can&rsquo;t load data directly from a URL):\n",
    "    \n",
    "    [https://www.dropbox.com/s/r601tjoulq1denf/network_hs92_4digit.json?dl=1](https://www.dropbox.com/s/r601tjoulq1denf/network_hs92_4digit.json?dl=1)\n",
    "\n",
    "-   Position of nodes\n",
    "    -   Each node is a product\n",
    "    \n",
    "    -   To position them in the product space, Hidalgo et al. (2007) used a spring embedding algorithm (which positions the nodes in such a way that there are as few crossing ties as possible, using physical simulations with force-directed algorithms), followed by hand-crafting the outcome to further visually separate distinct &rsquo;clusters&rsquo; of products.\n",
    "        \n",
    "        The data on the position of nodes (x, y coordinates) is in the same file as the one above with the data on ties (network<sub>hs92</sub><sub>4digit.json</sub>).\n",
    "        \n",
    "        We will use this fixed layout for now (James and Yang will deal with different ways to visualize multi-dimensional data in 2D/3D, e.g. with machine learning, UMAP).\n",
    "\n",
    "-   Size of nodes\n",
    "    \n",
    "    The size in the product space represents the total $ in world trade, but one can also use other attributes of nodes (e.g. if nodes are industries, the size could be total employment).\n",
    "\n",
    "-   Color of nodes\n",
    "    \n",
    "    In the product space the node color represents major product groups (e.g. Agriculture, Chemicals) following the Leamer classification. The node coloring data is available in the Atlas data repository at:\n",
    "    [https://dataverse.harvard.edu/dataverse/atlas?q=&types=files&sort=dateSort&order=desc&page=1](https://dataverse.harvard.edu/dataverse/atlas?q=&types=files&sort=dateSort&order=desc&page=1)\n",
    "    \n",
    "    We can directly load it into Python using the link below (again, temporary for this session):\n",
    "    \n",
    "    [https://www.dropbox.com/s/rlm8hu4pq0nkg63/hs4_hex_colors_intl_atlas.csv?dl=1](https://www.dropbox.com/s/rlm8hu4pq0nkg63/hs4_hex_colors_intl_atlas.csv?dl=1)"
   ]
  },
  {
   "cell_type": "markdown",
   "id": "470b8b6d-049c-462a-9d88-aa5045e4cba6",
   "metadata": {},
   "source": [
    "### Product space in Python\n",
    "\n",
    "\n",
    "\n",
    "#### Function to create product space\n",
    "\n",
    "\n",
    "\n",
    "The function below creates the product space. It uses the &rsquo;networkx&rsquo; package."
   ]
  },
  {
   "cell_type": "code",
   "execution_count": 20,
   "id": "99c87570-3a5d-46ff-83e6-1fb5dd22609c",
   "metadata": {
    "tags": []
   },
   "outputs": [
    {
     "name": "stdout",
     "output_type": "stream",
     "text": [
      "defined product space function, ready to plot\n"
     ]
    }
   ],
   "source": [
    "def create_product_space(df_plot_dataframe=None,\n",
    "                         df_plot_node_col=None,\n",
    "                         df_node_size_col=None):\n",
    "\n",
    "    # No legend, not properly coded yet\n",
    "    show_legend = 0\n",
    "\n",
    "    # Copy dataframe so original won't be overwritten\n",
    "    df_plot =  df_plot_dataframe.copy()\n",
    "\n",
    "    NORMALIZE_NODE_SIZE = 1\n",
    "    if NORMALIZE_NODE_SIZE == 1:\n",
    "\n",
    "        \"\"\"\n",
    "        The distribution of export values is highly skewed, which makes it hard to visualize\n",
    "        them properly (certain products will overshadow the rest of the network).\n",
    "\n",
    "\n",
    "        We create a new size column below in which we normalize the export values.\n",
    "        \"\"\"\n",
    "\n",
    "        ### Normalize node size (0.1 to 1)\n",
    "\n",
    "        def normalize_col(dft,col,minsize=0.1,maxsize=1):\n",
    "            \"\"\"\n",
    "            Normalizes column values with largest and smallest values capped at min at max\n",
    "            For use in networkx\n",
    "\n",
    "            returns pandas column\n",
    "            \"\"\"\n",
    "\n",
    "            alpha = maxsize-minsize\n",
    "            Xl = dft[dft[col]>0][col].quantile(0.10)\n",
    "            Xh = dft[dft[col]>0][col].quantile(0.95)\n",
    "            dft['node_size'] = 0\n",
    "            dft.loc[ dft[col]>=Xh,'node_size'] = maxsize\n",
    "            dft.loc[ (dft[col]<=Xl) & (dft[col]!=0),'node_size'] = minsize\n",
    "            dft.loc[ (dft[col]<Xh) & (dft[col]>Xl),'node_size'] = ((alpha*(dft[col]-Xl))/(Xh-Xl))+(1-alpha)\n",
    "            dft.loc[ (dft[col]<Xh) & (dft[col]>0),'node_size'] = ((alpha*(dft[col]-Xl))/(Xh-Xl))+(1-alpha)\n",
    "\n",
    "            return dft['node_size']\n",
    "\n",
    "        df_plot['node_size'] = normalize_col(df_plot,df_node_size_col,minsize=0.1,maxsize=1)\n",
    "\n",
    "    ADD_COLORS_ATLAS = 1\n",
    "    if ADD_COLORS_ATLAS == 1:\n",
    "\n",
    "        # First add product codes from original file (full strings were used for illustrative purposes above but we need the actual codes to merge data from other sources, e.g. node colors)\n",
    "        df_plot = pd.merge(df_plot,df_orig[['product_name','product_code']].drop_duplicates(),how='left',on='product_name')\n",
    "        dft = pd.read_csv('https://www.dropbox.com/s/rlm8hu4pq0nkg63/hs4_hex_colors_intl_atlas.csv?dl=1')\n",
    "\n",
    "        # Transform product_code into int (accounts for missing in pandas, if necessary)\n",
    "        # keep only numeric product_codes (this drops 'unspecified' as well as services for now;\n",
    "        # - as the latter needs a separate color classification)\n",
    "        df_plot = df_plot[df_plot['product_code'].astype(str).str.isnumeric()]\n",
    "        # -- also drop 9999 product code; unknown\n",
    "        df_plot = df_plot[df_plot['product_code'].astype(str)!='9999']\n",
    "        # -- to allow merge, rename and transform both variables into int\n",
    "        dft['hs4'] = dft['hs4'].astype(int)\n",
    "        df_plot['product_code'] = df_plot['product_code'].astype(int)\n",
    "        if 'color' in df_plot.columns:\n",
    "            df_plot.drop(['color'],axis=1,inplace=True,errors='ignore')\n",
    "        df_plot = pd.merge(df_plot,dft[['hs4','color']],how='left',left_on='product_code',right_on='hs4')\n",
    "        # drop column merged from dft\n",
    "        df_plot.drop(['hs4'],axis=1,inplace=True,errors='ignore')\n",
    "\n",
    "        # CREATE_LEGEND = 1\n",
    "        # if CREATE_LEGEND == 1:\n",
    "        #     # Atlas classification products\n",
    "        #     df_temp = pd.read_csv('https://raw.githubusercontent.com/cid-harvard/classifications/master/product/HS/IntlAtlas/out/hs92_atlas.csv')\n",
    "        #     df_temp.rename(columns={'Unnamed: 0': 'internal_code'}, inplace=True)\n",
    "        #     # -- keep sections\n",
    "        #     df_temp1 = df_temp[df_temp['level']=='section'].copy()\n",
    "        #     # -- keep 4 digit\n",
    "        #     df_temp2 = df_temp[df_temp['level']=='2digit'].copy()\n",
    "        #     # -- keep 4 digit\n",
    "        #     df_temp3 = df_temp[df_temp['level']=='4digit'].copy()\n",
    "        #     # -- merge parent id of parent id of 4 digits (= 2digit)\n",
    "        #     # ---- remake to float\n",
    "        #     df_temp3['parent_id'] = df_temp3['parent_id'].astype(object)\n",
    "        #     df_temp2['internal_code'] = df_temp2['internal_code'].astype(object)\n",
    "        #     df_temp3t = pd.merge(df_temp3,df_temp2[['internal_code','parent_id']],how='left',left_on='parent_id',right_on='internal_code',indicator=True)\n",
    "        #     # -- now merge parent_id_y to internal code of df_temp1\n",
    "        #     df_temp3t.drop(['_merge'],axis=1,inplace=True)\n",
    "        #     df_temp3t2 = pd.merge(df_temp3t,df_temp1[['internal_code','name']],how='left',left_on='parent_id_y',right_on='internal_code',indicator=True)\n",
    "        #     # keep only relevant columns\n",
    "        #     df_temp4 = df_temp3t2[['code','name_x','name_y']]\n",
    "        #     df_temp5 = df_temp4[['code','name_y']]\n",
    "        #     df_temp5.rename(columns={'code': 'product'}, inplace=True)\n",
    "        #     df_temp5.rename(columns={'name_y': 'name_sector_atlas'}, inplace=True)\n",
    "        #     # drop XXXX / services (not in product space)\n",
    "        #     drop_categories = ['XXXX','unspecified','travel','transport','ict','financial']\n",
    "        #     df_temp5 = df_temp5[ ~(df_temp5['product'].isin(drop_categories))]\n",
    "\n",
    "        #     # add to df_temp_plot\n",
    "        #     df_temp_plott = df_plot.copy()\n",
    "        #     df_temp_plott['product_code'] = df_temp_plott['product_code'].astype(float)\n",
    "        #     df_temp5['product'] = df_temp5['product'].astype(float)\n",
    "        #     df_temp_plot3 = pd.merge(df_temp_plott,df_temp5,how='left',left_on='product_code',right_on='product')\n",
    "        #     df_temp_plot3.drop_duplicates(subset='color',inplace=True)\n",
    "        #     df_temp_plot3 = df_temp_plot3[['color','name_sector_atlas']]\n",
    "\n",
    "        #     # create color dict for legend\n",
    "        #     color_dict = {}\n",
    "        #     df_temp_plot3.reset_index(inplace=True,drop=True)\n",
    "        #     for ind, row in df_temp_plot3.iterrows():\n",
    "        #         color_dict[row['name_sector_atlas']] = row['color']\n",
    "\n",
    "        #     \"\"\"\n",
    "        #     def build_legend(data):\n",
    "        #         # Build a legend for matplotlib plt from dict\n",
    "        #         legend_elements = []\n",
    "        #         for key in data:\n",
    "        #             legend_elements.append(Line2D([0], [0], marker='o', color='w', label=key,\n",
    "        #                                             markerfacecolor=data[key], markersize=10))\n",
    "        #         return legend_elements\n",
    "        #     fig,ax = plt.subplots(1)\n",
    "        #     #ax.add_patch(rect) # Add the patch to the Axes\n",
    "        #     legend_elements = build_legend(color_dict)\n",
    "        #     ax.legend(handles=legend_elements, loc='upper left')\n",
    "        #     plt.show()\n",
    "        #     \"\"\"\n",
    "\n",
    "    ADD_NODE_POSITIONS_ATLAS = 1\n",
    "    if ADD_NODE_POSITIONS_ATLAS == 1:\n",
    "\n",
    "        # Load position of nodes (x, y coordinates of nodes from original Atlas file)\n",
    "        import urllib.request, json\n",
    "        with urllib.request.urlopen(\"https://www.dropbox.com/s/r601tjoulq1denf/network_hs92_4digit.json?dl=1\") as url:\n",
    "            networkjs = json.loads(url.read().decode())\n",
    "\n",
    "    CREATE_NETWORKX_OBJECT_AND_PLOT = 1\n",
    "    if CREATE_NETWORKX_OBJECT_AND_PLOT == 1:\n",
    "\n",
    "        # Convert json into python list and dictionary\n",
    "        nodes = []\n",
    "        nodes_pos = {}\n",
    "        for x in networkjs['nodes']:\n",
    "            nodes.append(int(x['id']))\n",
    "            nodes_pos[int(x['id'])] = (int(x['x']),-int(x['y']/1.5))\n",
    "\n",
    "        # Define product space edge list (based on strength from the json)\n",
    "        edges = []\n",
    "        for x in networkjs['edges']:\n",
    "            if x['strength'] > 1 or 1 == 1:\n",
    "                edges.append((int(x['source']),int(x['target'])))\n",
    "        dfe = pd.DataFrame(edges)\n",
    "        dfe.rename(columns={0: 'src'}, inplace=True)\n",
    "        dfe.rename(columns={1: 'trg'}, inplace=True)\n",
    "\n",
    "        # Only select edges of nodes that are also present in product space\n",
    "        dfe2 = pd.DataFrame(np.append(dfe['src'].values,dfe['trg'].values)) # (some products may not be in there)\n",
    "        dfe2.drop_duplicates(inplace=True)\n",
    "        dfe2.rename(columns={0: 'node'}, inplace=True)\n",
    "        dfn2 = pd.merge(df_plot,dfe2,how='left',left_on=df_plot_node_col,right_on='node',indicator=True)\n",
    "\n",
    "        # Drop products from this dataframe that are not in product space\n",
    "        dfn2 = dfn2[dfn2['_merge']=='both']\n",
    "\n",
    "        # Create networkx objects in Python\n",
    "\n",
    "        # G object = products that will be plotted\n",
    "        G=nx.from_pandas_edgelist(dfn2,'product_code','product_code')\n",
    "\n",
    "        # G2 object = all nodes and edges from the original product space\n",
    "        # - Those that are not plotted will be gray in the background,\n",
    "        # - e.g. products for which there is no info\n",
    "        G2=nx.from_pandas_edgelist(dfe,'src','trg')\n",
    "\n",
    "        # Add node attributes to networkx objects\n",
    "        # - Create a 'present' variable which indicates that these products are present in product space,\n",
    "        # - as not all products in product space are present in the data to be plotted\n",
    "        # - (e.g. because we could filter only to plot products with more than >$40 million in trade)\n",
    "        df_plot['present'] = 1\n",
    "        ATTRIBUTES = ['node_size'] + ['color'] + ['present']\n",
    "        for ATTRIBUTE in ATTRIBUTES:\n",
    "            dft = df_plot[[df_plot_node_col,ATTRIBUTE]]\n",
    "            dft['count'] = 1\n",
    "            dft = dft.groupby([df_plot_node_col,ATTRIBUTE],as_index=False)['count'].sum()\n",
    "            #** drop if missing , and drop duplicates\n",
    "            dft.dropna(inplace=True)\n",
    "            dft.drop(['count'],axis=1,inplace=True)\n",
    "            dft.drop_duplicates(subset=[df_plot_node_col,ATTRIBUTE],inplace=True)\n",
    "            dft.set_index(df_plot_node_col,inplace=True)\n",
    "            dft_dict = dft[ATTRIBUTE].to_dict()\n",
    "            for i in sorted(G.nodes()):\n",
    "                try:\n",
    "                    #G.node[i][ATTRIBUTE] = dft_dict[i]\n",
    "                    G.nodes[i][ATTRIBUTE] = dft_dict[i]\n",
    "                except Exception:\n",
    "                    #G.node[i][ATTRIBUTE] = 'Missing'\n",
    "                    G.nodes[i][ATTRIBUTE] = 'Missing'\n",
    "            for i in sorted(G2.nodes()):\n",
    "                try:\n",
    "                    #G2.node[i][ATTRIBUTE] = dft_dict[i]\n",
    "                    G2.nodes[i][ATTRIBUTE] = dft_dict[i]\n",
    "                except Exception:\n",
    "                    #G2.node[i][ATTRIBUTE] = 'Missing'\n",
    "                    G2.nodes[i][ATTRIBUTE] = 'Missing'\n",
    "\n",
    "        # Cross-check that attributes have been added correctly\n",
    "        # nx.get_node_attributes(G2,df_color)\n",
    "        # nx.get_node_attributes(G,df_color)\n",
    "\n",
    "        # Create color + size lists which networkx uses for plotting\n",
    "        groups = set(nx.get_node_attributes(G2,'color').values())\n",
    "        mapping = dict(zip(sorted(groups),count()))\n",
    "        nodes = G.nodes()\n",
    "        nodes2 = G2.nodes()\n",
    "        #colorsl = [G.node[n]['color'] for n in nodes]\n",
    "        colorsl = [G.nodes[n]['color'] for n in nodes]\n",
    "        #colorsl2 = [G2.node[n]['color'] for n in nodes2]\n",
    "        colorsl2 = [G2.nodes[n]['color'] for n in nodes2]\n",
    "        SIZE_VARIABLE = 'node_size'\n",
    "        #sizesl = [G.node[n][SIZE_VARIABLE] for n in nodes]\n",
    "        sizesl = [G.nodes[n][SIZE_VARIABLE] for n in nodes]\n",
    "        # Adjust value below to increase the PLOTTED size of nodes, depending on the resolution of the final plot\n",
    "        # (e.g. if you want to zoom in into the product space and thus set a higher resolution, you may want to set this higher)\n",
    "        #sizesl2 = [G.node[n]['node_size']*350 for n in nodes]\n",
    "        sizesl2 = [G.nodes[n]['node_size']*350 for n in nodes]\n",
    "\n",
    "        # Create matplotlib object to draw the product space\n",
    "        f = plt.figure(1,figsize=(20,20))\n",
    "        ax = f.add_subplot(1,1,1)\n",
    "\n",
    "        # turn axes off\n",
    "        plt.axis('off')\n",
    "\n",
    "        # set white background\n",
    "        f.set_facecolor('white')\n",
    "\n",
    "        # draw full product space in background, transparent with small node_size\n",
    "        nx.draw_networkx(G2,nodes_pos, node_color='gray',ax=ax,node_size=10,with_labels=False,alpha=0.1)\n",
    "\n",
    "        # draw the data fed in to the product space\n",
    "        nx.draw_networkx(G,nodes_pos, node_color=colorsl,ax=ax,node_size=sizesl2,with_labels=False,alpha=1)\n",
    "\n",
    "        # save file\n",
    "        # plt.savefig(output_dir_image)\n",
    "\n",
    "        # show the plot\n",
    "        plt.show()\n",
    "\n",
    "        # if show_legend == 1:\n",
    "        #     # show legend as well\n",
    "        #     def build_legend(data):\n",
    "        #         # Build a legend for matplotlib plt from dict\n",
    "        #         legend_elements = []\n",
    "        #         for key in data:\n",
    "        #             legend_elements.append(Line2D([0], [0], marker='o', color='w', label=key,\n",
    "        #                                             markerfacecolor=data[key], markersize=10))\n",
    "        #         return legend_elements\n",
    "        #     fig,ax = plt.subplots(1)\n",
    "        #     #ax.add_patch(rect) # Add the patch to the Axes\n",
    "        #     legend_elements = build_legend(color_dict)\n",
    "        #     ax.legend(handles=legend_elements, loc='upper left')\n",
    "        #     plt.show()\n",
    "\n",
    "print('defined product space function, ready to plot')"
   ]
  },
  {
   "cell_type": "markdown",
   "id": "365c29fc-01b4-482e-8933-164b6012c31a",
   "metadata": {},
   "source": [
    "#### Visualizing data in the product space"
   ]
  },
  {
   "cell_type": "markdown",
   "id": "e0d9413d-3c86-43fb-a4f4-d30e91a9b810",
   "metadata": {},
   "source": [
    "First we select the country we which to visualize. We&rsquo;ll search for Saudi Arabia below, using the &rsquo;audi&rsquo; string to find out the spelling of the country in the dataset, and we input that country name when defining the dataframe of the product space (&rsquo;df<sub>ps</sub>&rsquo;)."
   ]
  },
  {
   "cell_type": "code",
   "execution_count": 21,
   "id": "32cad0ac-d538-43da-b20d-6278fbaafe54",
   "metadata": {},
   "outputs": [
    {
     "data": {
      "application/com.datacamp.data-table.v1+json": {
       "is_truncated": false,
       "table": {
        "data": [
         {
          "country_name": "Saudi Arabia",
          "index": 210912
         }
        ],
        "schema": {
         "fields": [
          {
           "name": "index",
           "type": "integer"
          },
          {
           "name": "country_name",
           "type": "string"
          }
         ],
         "pandas_version": "1.4.0",
         "primaryKey": [
          "index"
         ]
        }
       },
       "total_rows": 1
      },
      "text/html": [
       "<div>\n",
       "<style scoped>\n",
       "    .dataframe tbody tr th:only-of-type {\n",
       "        vertical-align: middle;\n",
       "    }\n",
       "\n",
       "    .dataframe tbody tr th {\n",
       "        vertical-align: top;\n",
       "    }\n",
       "\n",
       "    .dataframe thead th {\n",
       "        text-align: right;\n",
       "    }\n",
       "</style>\n",
       "<table border=\"1\" class=\"dataframe\">\n",
       "  <thead>\n",
       "    <tr style=\"text-align: right;\">\n",
       "      <th></th>\n",
       "      <th>country_name</th>\n",
       "    </tr>\n",
       "  </thead>\n",
       "  <tbody>\n",
       "    <tr>\n",
       "      <th>210912</th>\n",
       "      <td>Saudi Arabia</td>\n",
       "    </tr>\n",
       "  </tbody>\n",
       "</table>\n",
       "</div>"
      ],
      "text/plain": [
       "        country_name\n",
       "210912  Saudi Arabia"
      ]
     },
     "execution_count": 21,
     "metadata": {},
     "output_type": "execute_result"
    }
   ],
   "source": [
    "# Find out what 'country_name corresponds to Saudi Arabia\n",
    "STRING = 'audi'\n",
    "df_rca[df_rca['country_name'].str.contains(STRING)][['country_name']].drop_duplicates()\n",
    "# result: Saudi Arabia'"
   ]
  },
  {
   "cell_type": "markdown",
   "id": "ccc6b4c7-8d4f-46d8-9c13-71482454edb0",
   "metadata": {},
   "source": [
    "##### Country, RCA, year, export value selections\n",
    "\n",
    "\n",
    "\n",
    "Next we define what trade properties of Saudi Arabia we want to visualize. The example below visualizes specialiation in 2005 (year=2005, RCAcpt>1) of only those products with at least 40 million in trade value.\n",
    "\n",
    "This data preparation happens outside of the product space function so you can inspect the dataframe before plotting."
   ]
  },
  {
   "cell_type": "code",
   "execution_count": 22,
   "id": "9b54112b-ef6f-4aad-a37f-572c7b9a08a1",
   "metadata": {},
   "outputs": [
    {
     "data": {
      "application/com.datacamp.data-table.v1+json": {
       "is_truncated": false,
       "table": {
        "data": [
         {
          "export_value": 598053760,
          "index": 3231440,
          "product_name": "Fertilizers; mineral or chemical, nitrogenous"
         },
         {
          "export_value": 127016493056,
          "index": 3231332,
          "product_name": "Petroleum oils and oils obtained from bituminous minerals; crude"
         },
         {
          "export_value": 27357163520,
          "index": 3232319,
          "product_name": "Trade data discrepancies"
         },
         {
          "export_value": 179550480,
          "index": 3231275,
          "product_name": "Sulphur of all kinds; other than sublimed, precipitated and colloidal sulphur"
         },
         {
          "export_value": 3522461696,
          "index": 3231516,
          "product_name": "Polymers of ethylene, in primary forms"
         }
        ],
        "schema": {
         "fields": [
          {
           "name": "index",
           "type": "integer"
          },
          {
           "name": "product_name",
           "type": "string"
          },
          {
           "name": "export_value",
           "type": "number"
          }
         ],
         "pandas_version": "1.4.0",
         "primaryKey": [
          "index"
         ]
        }
       },
       "total_rows": 5
      },
      "text/html": [
       "<div>\n",
       "<style scoped>\n",
       "    .dataframe tbody tr th:only-of-type {\n",
       "        vertical-align: middle;\n",
       "    }\n",
       "\n",
       "    .dataframe tbody tr th {\n",
       "        vertical-align: top;\n",
       "    }\n",
       "\n",
       "    .dataframe thead th {\n",
       "        text-align: right;\n",
       "    }\n",
       "</style>\n",
       "<table border=\"1\" class=\"dataframe\">\n",
       "  <thead>\n",
       "    <tr style=\"text-align: right;\">\n",
       "      <th></th>\n",
       "      <th>product_name</th>\n",
       "      <th>export_value</th>\n",
       "    </tr>\n",
       "  </thead>\n",
       "  <tbody>\n",
       "    <tr>\n",
       "      <th>3231440</th>\n",
       "      <td>Fertilizers; mineral or chemical, nitrogenous</td>\n",
       "      <td>598053760.00</td>\n",
       "    </tr>\n",
       "    <tr>\n",
       "      <th>3231332</th>\n",
       "      <td>Petroleum oils and oils obtained from bituminous minerals; crude</td>\n",
       "      <td>127016493056.00</td>\n",
       "    </tr>\n",
       "    <tr>\n",
       "      <th>3232319</th>\n",
       "      <td>Trade data discrepancies</td>\n",
       "      <td>27357163520.00</td>\n",
       "    </tr>\n",
       "    <tr>\n",
       "      <th>3231275</th>\n",
       "      <td>Sulphur of all kinds; other than sublimed, precipitated and colloidal sulphur</td>\n",
       "      <td>179550480.00</td>\n",
       "    </tr>\n",
       "    <tr>\n",
       "      <th>3231516</th>\n",
       "      <td>Polymers of ethylene, in primary forms</td>\n",
       "      <td>3522461696.00</td>\n",
       "    </tr>\n",
       "  </tbody>\n",
       "</table>\n",
       "</div>"
      ],
      "text/plain": [
       "                                                                          product_name    export_value\n",
       "3231440                                  Fertilizers; mineral or chemical, nitrogenous    598053760.00\n",
       "3231332               Petroleum oils and oils obtained from bituminous minerals; crude 127016493056.00\n",
       "3232319                                                       Trade data discrepancies  27357163520.00\n",
       "3231275  Sulphur of all kinds; other than sublimed, precipitated and colloidal sulphur    179550480.00\n",
       "3231516                                         Polymers of ethylene, in primary forms   3522461696.00"
      ]
     },
     "execution_count": 22,
     "metadata": {},
     "output_type": "execute_result"
    },
    {
     "name": "stdout",
     "output_type": "stream",
     "text": [
      "ready to plot in product space\n"
     ]
    }
   ],
   "source": [
    "# Select country\n",
    "COUNTRY_STRING = 'Saudi Arabia'\n",
    "df_ps = df_rca[df_rca['country_name']==COUNTRY_STRING].copy()\n",
    "\n",
    "# Cross-check\n",
    "if df_ps.shape[0] == 0:\n",
    "    print('Country string set above does not exist in data, typed correctly?')\n",
    "    STOP\n",
    "\n",
    "# Select year\n",
    "df_ps = df_ps[df_ps['year']==2005].copy()\n",
    "\n",
    "# Select RCA > 1\n",
    "df_ps = df_ps[df_ps['RCAcpt']>1]\n",
    "\n",
    "# Keep only relevant columns\n",
    "df_ps = df_ps[['product_name','export_value']]\n",
    "\n",
    "# Keep only products with minimum value threshold\n",
    "exports_min_threshold = 40000000\n",
    "df_ps = df_ps[df_ps['export_value']>exports_min_threshold]\n",
    "\n",
    "# Show resulting dataframe\n",
    "df_ps.sample(n=5)\n",
    "\n",
    "print('ready to plot in product space')"
   ]
  },
  {
   "cell_type": "code",
   "execution_count": null,
   "id": "833caff2-4493-4472-b6e7-dabd9021d8b4",
   "metadata": {},
   "outputs": [
    {
     "data": {
      "image/png": "[encoded data removed]",
      "text/plain": [
       "<Figure size 1440x1440 with 1 Axes>"
      ]
     },
     "metadata": {},
     "output_type": "display_data"
    }
   ],
   "source": [
    "# Plot in the product space\n",
    "create_product_space(df_plot_dataframe=df_ps,\n",
    "                     df_plot_node_col='product_code',\n",
    "                     df_node_size_col='export_value',\n",
    "                     )"
   ]
  },
  {
   "cell_type": "markdown",
   "id": "6703bdc8-007e-4385-aad7-9b07db760cc4",
   "metadata": {},
   "source": [
    "##### Product space with legend\n",
    "\n",
    "\n",
    "\n",
    "Below is a legend of the product space. There&rsquo;s also a &rsquo;show legend&rsquo; option in the &rsquo;create product space&rsquo; function but this option needs to be updated.\n",
    "\n",
    "![img](https://www.dropbox.com/s/lf4lf8ktqahnovg/Selection_032.png?dl=1)\n",
    "\n",
    "To see exactly what node represents what product, use the Atlas for now by hovering with the mouse over a node:\n",
    "\n",
    "[https://atlas.cid.harvard.edu/explore/network?country=186&year=2018&productClass=HS&product=undefined&startYear=undefined&target=Product&partner=undefined](https://atlas.cid.harvard.edu/explore/network?country=186&year=2018&productClass=HS&product=undefined&startYear=undefined&target=Product&partner=undefined)\n",
    "\n",
    "(This can also be implemented through Python by exporting to html instead of as an image, but not implemented above yet)"
   ]
  },
  {
   "cell_type": "markdown",
   "id": "8c3975c8-283b-41f6-ae9f-2957ce57f864",
   "metadata": {},
   "source": [
    "## Predicting diversification of countries: densities / density regressions\n",
    "\n",
    "\n",
    "\n",
    "Will be completed \n",
    "\n"
   ]
  },
  {
   "cell_type": "markdown",
   "id": "0b7bb268-886a-4db1-894a-f2c41fd0bd21",
   "metadata": {},
   "source": [
    "## Calculating Economic Complexity / Product Complexity\n",
    "\n",
    "\n",
    "\n",
    "We know from the product space and density regressions how products are related to one another and how that matters for diversification of countries.\n",
    "\n",
    "The next step is to look at which parts of the product space are most interesting to ultimately reach / diversify into. Generally complex products are located in the center of the product space, and countries with a higher economic complexity tend to have higher economic growth.\n",
    "\n",
    "![img](imgs/complex_products_in_product_space.png)\n",
    "\n",
    "![img](https://www.dropbox.com/s/a231jw76yocjkkr/complex_products_in_product_space.png?dl=1)\n",
    "\n",
    "Recall from the lecture that the economic complexity index (ECI) and product complexity index (PCI) measures are derived from an iterative method of reflections algorithm on country diversity and product ubiquity (Hidalgo Hausmann 2009), or finding the eigenvalues of a country-product matrix (Mealy et al. 2019)\n",
    "\n",
    "![img](/home/linux/Dropbox/proj/org_zhtml_projects/product-space-eci-workshop/imgs/countries_products_eci.png)\n",
    "\n",
    "![img](https://www.dropbox.com/s/dte4vwgk4tvj3rd/countries_products_eci.png?dl=1)\n",
    "\n",
    "The STATA package to calculate this - by Sebastian Bustos and Muhammed Yildirim - is available at:\n",
    "\n",
    "[https://github.com/cid-harvard/ecomplexity](https://github.com/cid-harvard/ecomplexity)\n",
    "\n",
    "The Python package to calculate this - by Shreyas Gadgin Matha - is available at [https://github.com/cid-harvard/py-ecomplexity](https://github.com/cid-harvard/py-ecomplexity)\n",
    "\n",
    "(One can also directly download the PCI value for every product from the Atlas data repository - the ECI of a country is the mean of the PCI values of the products it has a comparative advantage in.)\n",
    "\n",
    "\n",
    "\n",
    "### Using the &rsquo;py-ecomplexity&rsquo; package\n",
    "\n",
    "\n",
    "\n",
    "#### Installation\n",
    "\n",
    "\n",
    "\n",
    "One can install it by pointing pip (package-management system in Python) to the respective library, using the following command:"
   ]
  },
  {
   "cell_type": "code",
   "execution_count": 23,
   "id": "ec083e45-5c73-4ea0-a06f-726aa0d0b91d",
   "metadata": {},
   "outputs": [
    {
     "name": "stdout",
     "output_type": "stream",
     "text": [
      "Collecting ecomplexity\n",
      "  Downloading ecomplexity-0.5.2.tar.gz (9.1 kB)\n",
      "  Preparing metadata (setup.py) ... \u001b[?25ldone\n",
      "\u001b[?25hCollecting pandas>0.23.0\n",
      "  Using cached pandas-1.4.3-cp38-cp38-manylinux_2_17_x86_64.manylinux2014_x86_64.whl (11.7 MB)\n",
      "Collecting numpy>1.15.0\n",
      "  Using cached numpy-1.23.0-cp38-cp38-manylinux_2_17_x86_64.manylinux2014_x86_64.whl (17.1 MB)\n",
      "Collecting python-dateutil>=2.8.1\n",
      "  Using cached python_dateutil-2.8.2-py2.py3-none-any.whl (247 kB)\n",
      "Collecting pytz>=2020.1\n",
      "  Using cached pytz-2022.1-py2.py3-none-any.whl (503 kB)\n",
      "Collecting six>=1.5\n",
      "  Using cached six-1.16.0-py2.py3-none-any.whl (11 kB)\n",
      "Building wheels for collected packages: ecomplexity\n",
      "  Building wheel for ecomplexity (setup.py) ... \u001b[?25ldone\n",
      "\u001b[?25h  Created wheel for ecomplexity: filename=ecomplexity-0.5.2-py3-none-any.whl size=11268 sha256=bdc59bce7f355b45d061c0fa7e2fc0b60e09389868cbacc5790241371e8cc604\n",
      "  Stored in directory: /home/repl/.cache/pip/wheels/ed/de/db/5b919104e9efd3982dc5c242da01fe379b4f3c2e2a244c8a09\n",
      "Successfully built ecomplexity\n",
      "Installing collected packages: six, pytz, python-dateutil, numpy, pandas, ecomplexity\n",
      "\u001b[31mERROR: pip's dependency resolver does not currently take into account all the packages that are installed. This behaviour is the source of the following dependency conflicts.\n",
      "redshift-connector 2.0.900 requires pytz<2021.9,>=2020.1, but you have pytz 2022.1 which is incompatible.\n",
      "pythonwhat 2.23.1 requires dill~=0.2.7.1, but you have dill 0.3.3 which is incompatible.\n",
      "pythonwhat 2.23.1 requires jinja2~=2.10, but you have jinja2 3.0.1 which is incompatible.\u001b[0m\n",
      "Successfully installed ecomplexity-0.5.2 numpy-1.23.0 pandas-1.4.3 python-dateutil-2.8.2 pytz-2022.1 six-1.16.0\n",
      "\u001b[33mWARNING: Target directory /home/repl/.local/lib/python3.8/site-packages/six.py already exists. Specify --upgrade to force replacement.\u001b[0m\n",
      "\u001b[33mWARNING: Target directory /home/repl/.local/lib/python3.8/site-packages/six-1.16.0.dist-info already exists. Specify --upgrade to force replacement.\u001b[0m\n",
      "\u001b[33mWARNING: Target directory /home/repl/.local/lib/python3.8/site-packages/__pycache__ already exists. Specify --upgrade to force replacement.\u001b[0m\n",
      "\u001b[33mWARNING: Target directory /home/repl/.local/lib/python3.8/site-packages/pytz already exists. Specify --upgrade to force replacement.\u001b[0m\n",
      "\u001b[33mWARNING: Target directory /home/repl/.local/lib/python3.8/site-packages/pytz-2022.1.dist-info already exists. Specify --upgrade to force replacement.\u001b[0m\n",
      "\u001b[33mWARNING: Target directory /home/repl/.local/lib/python3.8/site-packages/dateutil already exists. Specify --upgrade to force replacement.\u001b[0m\n",
      "\u001b[33mWARNING: Target directory /home/repl/.local/lib/python3.8/site-packages/python_dateutil-2.8.2.dist-info already exists. Specify --upgrade to force replacement.\u001b[0m\n",
      "\u001b[33mWARNING: Target directory /home/repl/.local/lib/python3.8/site-packages/numpy.libs already exists. Specify --upgrade to force replacement.\u001b[0m\n",
      "\u001b[33mWARNING: Target directory /home/repl/.local/lib/python3.8/site-packages/numpy already exists. Specify --upgrade to force replacement.\u001b[0m\n",
      "\u001b[33mWARNING: Target directory /home/repl/.local/lib/python3.8/site-packages/numpy-1.23.0.dist-info already exists. Specify --upgrade to force replacement.\u001b[0m\n",
      "\u001b[33mWARNING: Target directory /home/repl/.local/lib/python3.8/site-packages/pandas-1.4.3.dist-info already exists. Specify --upgrade to force replacement.\u001b[0m\n",
      "\u001b[33mWARNING: Target directory /home/repl/.local/lib/python3.8/site-packages/pandas already exists. Specify --upgrade to force replacement.\u001b[0m\n",
      "\u001b[33mWARNING: Target directory /home/repl/.local/lib/python3.8/site-packages/bin already exists. Specify --upgrade to force replacement.\u001b[0m\n",
      "\u001b[33mWARNING: You are using pip version 21.3.1; however, version 22.1.2 is available.\n",
      "You should consider upgrading via the '/usr/bin/python3 -m pip install --upgrade pip' command.\u001b[0m\n",
      "installed py-ecomplexity\n"
     ]
    }
   ],
   "source": [
    "!pip install ecomplexity\n",
    "print('installed py-ecomplexity')"
   ]
  },
  {
   "cell_type": "markdown",
   "id": "d45212e7-8d5f-4f05-9ec6-58198cc98da0",
   "metadata": {},
   "source": [
    "#### Usage\n",
    "\n",
    "\n",
    "\n",
    "We will again use again the original trade dataset (df<sub>orig</sub>), below."
   ]
  },
  {
   "cell_type": "code",
   "execution_count": null,
   "id": "d4762873-0853-4553-ba5c-f9b013453adb",
   "metadata": {},
   "outputs": [],
   "source": [
    "from ecomplexity import ecomplexity\n",
    "from ecomplexity import proximity\n",
    "\n",
    "# To use py-ecomplexity, specify the following columns\n",
    "trade_cols = {'time':'year',\n",
    "              'loc':'country_name',\n",
    "              'prod':'product_name',\n",
    "              'val':'export_value'}\n",
    "              \n",
    "# Then run the command\n",
    "print('calculating ecomplexity')\n",
    "df_ec = ecomplexity(df_orig, trade_cols)\n",
    "print('finished calculating')\n",
    "\n",
    "# Keep selected columns\n",
    "df_ec = df_ec[['country_name',\n",
    "               'product_name',\n",
    "               'product_code',\n",
    "               'export_value',\n",
    "               'year',\n",
    "               'pci',\n",
    "               'eci']]\n",
    "\n",
    "# Show results\n",
    "df_ec.sample(n=10)"
   ]
  },
  {
   "cell_type": "markdown",
   "id": "573967f3-b4e9-4a80-b6fc-ec27b0c4c7ef",
   "metadata": {},
   "source": [
    "### Complexity weighted by destination (example: Ukraine)\n",
    "\n",
    "\n",
    "\n",
    "You can also calculate economic complexity by destination.\n",
    "\n",
    "In a paper with Frank Neffke and Ernesto Lopez-Cordova we did this to explore opportunities for Ukraine (to connect to European value chains):\n",
    "\n",
    "[https://growthlab.cid.harvard.edu/publications/assessing-ukraines-role-european-value-chains-gravity-equation-cum-economic](https://growthlab.cid.harvard.edu/publications/assessing-ukraines-role-european-value-chains-gravity-equation-cum-economic)\n",
    "\n",
    "(Using the ECI by destination we found that highly complex products from Ukraine in the 2000s were typically destined for the Russian market, which was also one of the largest importers of products from Ukraine. The detoriation in relations with Russia led to a significant decline in exports there from 2011 onwards, resulting in Ukraine suffering from not only a quantitative but also a qualitative decline in exports).\n",
    "\n",
    "Hidalgo and Hausmann (2009) calculate complexity of country $c$ as the average PCI of all products for which ${RCA}_{cp}>1$.\n",
    "\n",
    "Below we define it as the weighted average PCI, where weights are given by the value of country $c$’s exports in each product. This allows us to define an ECI for separate export markets.\n",
    "\n",
    "Let $\\mathcal{M}$ be the set of countries that together constitute an export market (say, the EU&rsquo;s Single Market). Now, the destination-market specific ECI for country $c$ is defined as:\n",
    "\n",
    "\\begin{equation} \\label{e_ECI}\n",
    "ECI_{c}^{\\mathcal{M}}=\\sum \\limits_{p} \\frac{\\sum \\limits_{d \\in \\mathcal{M}} X^{d}_{op}}{\\sum \\limits_{d \\in \\mathcal{M}} X^{d}_{o}} {PCI}_{p}   \n",
    "\\end{equation}\n",
    "\n",
    "where $X_{op}^{d}$ represents the exports of product $p$ from exporter $o$ to importer $d$ and an omitted subscript indicates the summation over the omitted category: $X_{o}^{d}=\\sum \\limits_{p} X_{op}^{d}$.\n",
    "\n",
    "To calculate this, we need a dataset that has country exports **per destination** for this, which is available in the Growth Lab&rsquo;s DataVerse as:\n",
    "\n",
    "    \"country_partner_hsproduct4digit_years_2000_2016.csv\"\n",
    "\n",
    "As this file above is 16 gigabytes, we will load a version of it for only Ukraine&rsquo;s exports. This file has been processed outside of Google colab using the code below:\n",
    "\n",
    "    df = pd.read_csv('country_partner_hsproduct4digit_years_2000_2016.csv')\n",
    "    df = df[df['location_code_code']=='UKR')\n",
    "    df = df[df['export_value']>0]\n",
    "    df.to_csv('ukr_exports_per_destination.csv',index=False)"
   ]
  },
  {
   "cell_type": "code",
   "execution_count": null,
   "id": "aae84891-69c1-4e8a-bb6c-2ae3cedaeef6",
   "metadata": {},
   "outputs": [],
   "source": [
    "print(f'loading data (from dropbox)')\n",
    "df_ukr = pd.read_csv('https://www.dropbox.com/s/megm8qzn3jcwnqz/ukr_exports_per_destination.csv?dl=1')\n",
    "print('loaded')\n",
    "\n",
    "# show 10 random rows\n",
    "df_ukr.sample(n=10)"
   ]
  },
  {
   "cell_type": "markdown",
   "id": "ac25b29b-77b2-4f40-9286-a8761a80d9b3",
   "metadata": {},
   "source": [
    "Merge PCI from products in 2000 into the dataframe (from df<sub>ec</sub> created in previous section using py-ecomplexity)."
   ]
  },
  {
   "cell_type": "code",
   "execution_count": null,
   "id": "b17e250c-7b4c-4a2d-9488-f018c3f003ce",
   "metadata": {},
   "outputs": [],
   "source": [
    "# -- to merge, add leading zeroes to dataset, e.g. 303 will be 0303\n",
    "df_ukr.loc[ (df_ukr['hs_product_code'].astype(str).str.len()==3), 'hs_product_code']= '0'+ df_ukr['hs_product_code'].astype(str)\n",
    "# -- remove leading / trailing spaces\n",
    "df_ukr['hs_product_code'] = df_ukr['hs_product_code'].astype(str).str.strip()\n",
    "# -- keep pcis from products in 2000\n",
    "df_pci = df_ec[df_ec['year']==2000][['product_code','pci']].drop_duplicates(subset='product_code')\n",
    "# -- merge pcis into the dataframe\n",
    "df_ukr = pd.merge(df_ukr,df_pci[['product_code','pci']],how='left',left_on=f'hs_product_code',right_on=f'product_code',indicator=True)\n",
    "# check merge 'left-only','right-only','both' counts (always do this to cross-check the merge)\n",
    "df_ukr['_merge'].value_counts()"
   ]
  },
  {
   "cell_type": "markdown",
   "id": "f43b28c8-4c95-4c2f-871f-1da09b05b9a3",
   "metadata": {},
   "source": [
    "Now we calculate the ECI by destination."
   ]
  },
  {
   "cell_type": "code",
   "execution_count": null,
   "id": "01c7b17e-f0ff-47cf-8aaa-2523ec0cfca3",
   "metadata": {},
   "outputs": [],
   "source": [
    "def calc_ecimc(data,origin_col,destination_col,product_col,value_col,pci_col):\n",
    "    \"\"\"\n",
    "    Calculates economic complexity by destination (the weighted-by-exports-to-destination average PCI).\n",
    "\n",
    "    Needs a year-origin-destination-product-exportvalue-pci dataframe as input.\n",
    "\n",
    "    Returns:\n",
    "        pandas dataframe with ecim\n",
    "    \"\"\"\n",
    "    dft = data.copy()\n",
    "    dft['export_value_cot'] = dft.groupby([origin_col,destination_col])[value_col].transform('sum')\n",
    "    dft['pci_x_export'] = dft[pci_col] * dft[value_col]\n",
    "    dft['pci_x_export_sum'] = dft.groupby([origin_col,destination_col])['pci_x_export'].transform('sum')\n",
    "    dft['eciMc'] = dft['pci_x_export_sum']/dft['export_value_cot']\n",
    "    dft.drop_duplicates(subset=[origin_col,destination_col],inplace=True)\n",
    "    dft = dft[[origin_col,destination_col,'eciMc']]\n",
    "\n",
    "    return dft\n",
    "\n",
    "df_ukr_ecimc = calc_ecimc(data=df_ukr,\n",
    "                          origin_col='location_code',\n",
    "                          destination_col= 'partner_code',\n",
    "                          product_col='hs_product_code',\n",
    "                          value_col='export_value',\n",
    "                          pci_col = 'pci'\n",
    "                        )\n",
    "\n",
    "# Show 10 random rows\n",
    "df_ukr_ecimc.sample(n=20)"
   ]
  },
  {
   "cell_type": "markdown",
   "id": "ccd82631-9f87-4582-8d6a-3179b3ce127b",
   "metadata": {},
   "source": [
    "Map economic complexity of Ukraine&rsquo;s exports by destination."
   ]
  },
  {
   "cell_type": "code",
   "execution_count": null,
   "id": "635859a3-e5d6-4f3b-bf25-594b2155822b",
   "metadata": {},
   "outputs": [],
   "source": [
    "path = geopandas.datasets.get_path('naturalearth_lowres')\n",
    "world = geopandas.read_file(path)\n",
    "# merge complexities into it\n",
    "world = pd.merge(world,df_ukr_ecimc[df_ukr_ecimc['eciMc']<3],how='left',left_on=f'iso_a3',right_on='partner_code',indicator=True)\n",
    "fig, ax = plt.subplots(1, 1,figsize=(15,15))\n",
    "plt.axis('off')\n",
    "# https://matplotlib.org/stable/tutorials/colors/colormapnorms.html\n",
    "cmap = cm.coolwarm\n",
    "world.plot(column='eciMc', ax=ax, legend=True,cmap=cmap)\n",
    "plt.show()"
   ]
  },
  {
   "cell_type": "markdown",
   "id": "69eece4c-19e3-4a6d-9d94-676e6eca248b",
   "metadata": {},
   "source": [
    "Highly complex products are typically destined for the Russian market, which is also one of the largest importers of products from Ukraine.\n",
    "\n",
    "The detoriation in relations with Russia led to a significant decline in exports there from 2011 onwards:\n",
    "![img](https://www.dropbox.com/s/xfl3gig3zxer0fm/total_exports_Ukraine_over_years.png?dl=1)\n",
    "\n",
    "As a result, Ukraine suffers from not only a quantitative but also a qualitative decline in exports. In the paper we explore new opportunities for Ukraine.\n",
    "\n",
    "Note: double-check political controversies when using geopandas!\n",
    "\n",
    "![img](https://www.dropbox.com/s/twtl8p5ksgfezm0/map_ukraine.png?dl=1)"
   ]
  },
  {
   "cell_type": "code",
   "execution_count": null,
   "id": "f774256f-fb5b-4e37-a1f3-faafdada9982",
   "metadata": {},
   "outputs": [],
   "source": []
  }
 ],
 "metadata": {
  "kernelspec": {
   "display_name": "Python 3 (ipykernel)",
   "language": "python",
   "name": "python3"
  },
  "language_info": {
   "codemirror_mode": {
    "name": "ipython",
    "version": 3
   },
   "file_extension": ".py",
   "mimetype": "text/x-python",
   "name": "python",
   "nbconvert_exporter": "python",
   "pygments_lexer": "ipython3",
   "version": "3.8.10"
  }
 },
 "nbformat": 4,
 "nbformat_minor": 5
}
